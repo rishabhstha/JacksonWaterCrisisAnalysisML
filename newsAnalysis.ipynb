{
 "cells": [
  {
   "cell_type": "code",
   "execution_count": 47,
   "id": "ca7628c8",
   "metadata": {},
   "outputs": [],
   "source": [
    "import pandas as pd\n",
    "import numpy as np\n",
    "import seaborn as sns\n",
    "import matplotlib.pyplot as plt\n",
    "%matplotlib inline\n",
    "\n",
    "\n",
    "from vaderSentiment.vaderSentiment import SentimentIntensityAnalyzer\n",
    "from wordcloud import WordCloud, STOPWORDS\n",
    "\n",
    "import plotly.express as px\n",
    "from collections import Counter\n",
    "import nltk\n",
    "from nltk.corpus import stopwords\n",
    "import re\n"
   ]
  },
  {
   "cell_type": "code",
   "execution_count": 7,
   "id": "dc0b2cb5",
   "metadata": {},
   "outputs": [],
   "source": [
    "google_JWCnews=pd.read_csv(\"newsData/google_JWCallnews.csv\")\n",
    "google_NickJWC=pd.read_csv(\"newsData/google_NickJWC.csv\")"
   ]
  },
  {
   "cell_type": "code",
   "execution_count": 12,
   "id": "1f7b9e70",
   "metadata": {},
   "outputs": [
    {
     "data": {
      "text/html": [
       "<div>\n",
       "<style scoped>\n",
       "    .dataframe tbody tr th:only-of-type {\n",
       "        vertical-align: middle;\n",
       "    }\n",
       "\n",
       "    .dataframe tbody tr th {\n",
       "        vertical-align: top;\n",
       "    }\n",
       "\n",
       "    .dataframe thead th {\n",
       "        text-align: right;\n",
       "    }\n",
       "</style>\n",
       "<table border=\"1\" class=\"dataframe\">\n",
       "  <thead>\n",
       "    <tr style=\"text-align: right;\">\n",
       "      <th></th>\n",
       "      <th>Unnamed: 0</th>\n",
       "      <th>Date</th>\n",
       "      <th>Media</th>\n",
       "      <th>Title</th>\n",
       "      <th>Article</th>\n",
       "      <th>Summary</th>\n",
       "      <th>Keyword</th>\n",
       "    </tr>\n",
       "  </thead>\n",
       "  <tbody>\n",
       "    <tr>\n",
       "      <th>0</th>\n",
       "      <td>0</td>\n",
       "      <td>3-Mar-21</td>\n",
       "      <td>Jackson Free Press</td>\n",
       "      <td>PUBLISHER'S NOTE: Jackson’s Water Crisis, What...</td>\n",
       "      <td>While Lt. Gov. Delbert Hosemann often presents...</td>\n",
       "      <td>Around a long rectangle of tables in the middl...</td>\n",
       "      <td>Nick Judin Jackson water crisis</td>\n",
       "    </tr>\n",
       "    <tr>\n",
       "      <th>1</th>\n",
       "      <td>1</td>\n",
       "      <td>23-Mar-21</td>\n",
       "      <td>Slate</td>\n",
       "      <td>The Next Major Water Crisis Is Right Around th...</td>\n",
       "      <td>Subscribe to What Next on Apple Podcasts for t...</td>\n",
       "      <td>For the past month, thousands of residents of ...</td>\n",
       "      <td>Nick Judin Jackson water crisis</td>\n",
       "    </tr>\n",
       "    <tr>\n",
       "      <th>2</th>\n",
       "      <td>2</td>\n",
       "      <td>23-Mar-21</td>\n",
       "      <td>Slate Magazine</td>\n",
       "      <td>One Month Without Water</td>\n",
       "      <td>If you can't access your feeds, please contact...</td>\n",
       "      <td>If you can't access your feeds, please contact...</td>\n",
       "      <td>Nick Judin Jackson water crisis</td>\n",
       "    </tr>\n",
       "    <tr>\n",
       "      <th>3</th>\n",
       "      <td>3</td>\n",
       "      <td>6-Mar-21</td>\n",
       "      <td>NBC News</td>\n",
       "      <td>Jackson, Mississippi has a water crisis becaus...</td>\n",
       "      <td>Mississippi Gov. Tate Reeves told the media th...</td>\n",
       "      <td>The Monday before Reeves’ flippant remark abou...</td>\n",
       "      <td>Nick Judin Jackson water crisis</td>\n",
       "    </tr>\n",
       "    <tr>\n",
       "      <th>4</th>\n",
       "      <td>4</td>\n",
       "      <td>26-Mar-21</td>\n",
       "      <td>WBUR</td>\n",
       "      <td>The Jackson, Mississippi Water Crisis And Amer...</td>\n",
       "      <td>\"And the city itself, because, like so many ci...</td>\n",
       "      <td>We talk America's crumbling water system.\\nSo ...</td>\n",
       "      <td>Nick Judin Jackson water crisis</td>\n",
       "    </tr>\n",
       "    <tr>\n",
       "      <th>5</th>\n",
       "      <td>8</td>\n",
       "      <td>2021-03-02 01:54:57+00:00</td>\n",
       "      <td>NaN</td>\n",
       "      <td>Hosemann Pins Water Blame on Jackson Leaders S...</td>\n",
       "      <td>Lt. Gov. Delbert Hosemann confirmed today that...</td>\n",
       "      <td>Delbert Hosemann confirmed today that there ar...</td>\n",
       "      <td>Nick Judin Jackson water crisis</td>\n",
       "    </tr>\n",
       "    <tr>\n",
       "      <th>6</th>\n",
       "      <td>9</td>\n",
       "      <td>2021-03-27 02:34:08+00:00</td>\n",
       "      <td>NaN</td>\n",
       "      <td>Under The Surface, Part 2: After Jackson Freez...</td>\n",
       "      <td>It was Wednesday, Feb. 17, 2021, when it all w...</td>\n",
       "      <td>Fewell is itself evidence of a water distribut...</td>\n",
       "      <td>Nick Judin Jackson water crisis</td>\n",
       "    </tr>\n",
       "  </tbody>\n",
       "</table>\n",
       "</div>"
      ],
      "text/plain": [
       "   Unnamed: 0                       Date               Media  \\\n",
       "0           0                   3-Mar-21  Jackson Free Press   \n",
       "1           1                  23-Mar-21               Slate   \n",
       "2           2                  23-Mar-21      Slate Magazine   \n",
       "3           3                   6-Mar-21            NBC News   \n",
       "4           4                  26-Mar-21                WBUR   \n",
       "5           8  2021-03-02 01:54:57+00:00                 NaN   \n",
       "6           9  2021-03-27 02:34:08+00:00                 NaN   \n",
       "\n",
       "                                               Title  \\\n",
       "0  PUBLISHER'S NOTE: Jackson’s Water Crisis, What...   \n",
       "1  The Next Major Water Crisis Is Right Around th...   \n",
       "2                            One Month Without Water   \n",
       "3  Jackson, Mississippi has a water crisis becaus...   \n",
       "4  The Jackson, Mississippi Water Crisis And Amer...   \n",
       "5  Hosemann Pins Water Blame on Jackson Leaders S...   \n",
       "6  Under The Surface, Part 2: After Jackson Freez...   \n",
       "\n",
       "                                             Article  \\\n",
       "0  While Lt. Gov. Delbert Hosemann often presents...   \n",
       "1  Subscribe to What Next on Apple Podcasts for t...   \n",
       "2  If you can't access your feeds, please contact...   \n",
       "3  Mississippi Gov. Tate Reeves told the media th...   \n",
       "4  \"And the city itself, because, like so many ci...   \n",
       "5  Lt. Gov. Delbert Hosemann confirmed today that...   \n",
       "6  It was Wednesday, Feb. 17, 2021, when it all w...   \n",
       "\n",
       "                                             Summary  \\\n",
       "0  Around a long rectangle of tables in the middl...   \n",
       "1  For the past month, thousands of residents of ...   \n",
       "2  If you can't access your feeds, please contact...   \n",
       "3  The Monday before Reeves’ flippant remark abou...   \n",
       "4  We talk America's crumbling water system.\\nSo ...   \n",
       "5  Delbert Hosemann confirmed today that there ar...   \n",
       "6  Fewell is itself evidence of a water distribut...   \n",
       "\n",
       "                           Keyword  \n",
       "0  Nick Judin Jackson water crisis  \n",
       "1  Nick Judin Jackson water crisis  \n",
       "2  Nick Judin Jackson water crisis  \n",
       "3  Nick Judin Jackson water crisis  \n",
       "4  Nick Judin Jackson water crisis  \n",
       "5  Nick Judin Jackson water crisis  \n",
       "6  Nick Judin Jackson water crisis  "
      ]
     },
     "execution_count": 12,
     "metadata": {},
     "output_type": "execute_result"
    }
   ],
   "source": [
    "google_JWCnews\n",
    "google_NickJWC['Keyword']=\"Nick Judin Jackson water crisis\"\n",
    "google_NickJWC"
   ]
  },
  {
   "cell_type": "code",
   "execution_count": 10,
   "id": "b901b02a",
   "metadata": {},
   "outputs": [
    {
     "data": {
      "text/html": [
       "<div>\n",
       "<style scoped>\n",
       "    .dataframe tbody tr th:only-of-type {\n",
       "        vertical-align: middle;\n",
       "    }\n",
       "\n",
       "    .dataframe tbody tr th {\n",
       "        vertical-align: top;\n",
       "    }\n",
       "\n",
       "    .dataframe thead th {\n",
       "        text-align: right;\n",
       "    }\n",
       "</style>\n",
       "<table border=\"1\" class=\"dataframe\">\n",
       "  <thead>\n",
       "    <tr style=\"text-align: right;\">\n",
       "      <th></th>\n",
       "      <th>Unnamed: 0</th>\n",
       "      <th>Date</th>\n",
       "      <th>Title</th>\n",
       "      <th>Article</th>\n",
       "      <th>Summary</th>\n",
       "    </tr>\n",
       "  </thead>\n",
       "  <tbody>\n",
       "    <tr>\n",
       "      <th>0</th>\n",
       "      <td>0</td>\n",
       "      <td>2021-04-20 17:51:29+00:00</td>\n",
       "      <td>Water crisis continues in Mississippi, weeks a...</td>\n",
       "      <td>Mississippi Army National Guard Sgt. Chase Tou...</td>\n",
       "      <td>More than two weeks have passed since the cold...</td>\n",
       "    </tr>\n",
       "    <tr>\n",
       "      <th>1</th>\n",
       "      <td>1</td>\n",
       "      <td>NaN</td>\n",
       "      <td>Jackson Water Woes, Giant Telescope Mirror, Sh...</td>\n",
       "      <td>What Went Wrong With Jackson, Mississippi�s Wa...</td>\n",
       "      <td>Share this on Facebook (Opens in a new window)</td>\n",
       "    </tr>\n",
       "    <tr>\n",
       "      <th>2</th>\n",
       "      <td>2</td>\n",
       "      <td>NaN</td>\n",
       "      <td>Jackson, Mississippi has an ongoing water cris...</td>\n",
       "      <td>What Went Wrong With Jackson, Mississippi�s Wa...</td>\n",
       "      <td>NaN</td>\n",
       "    </tr>\n",
       "    <tr>\n",
       "      <th>3</th>\n",
       "      <td>3</td>\n",
       "      <td>3/3/2021 0:00</td>\n",
       "      <td>Like 'Peanut Brittle': Mississippi Water Crisi...</td>\n",
       "      <td>Like 'Peanut Brittle': Mississippi Water Crisi...</td>\n",
       "      <td>Like 'Peanut Brittle': Mississippi Water Crisi...</td>\n",
       "    </tr>\n",
       "    <tr>\n",
       "      <th>4</th>\n",
       "      <td>4</td>\n",
       "      <td>3/9/2021 0:00</td>\n",
       "      <td>Mississippi's capital city enters week 4 of a ...</td>\n",
       "      <td>Mississippi's capital city enters week 4 of a ...</td>\n",
       "      <td>Here's what to know about the water crisis in ...</td>\n",
       "    </tr>\n",
       "    <tr>\n",
       "      <th>5</th>\n",
       "      <td>5</td>\n",
       "      <td>3/3/2021 0:00</td>\n",
       "      <td>Weeks after Mississippi winter storms, some re...</td>\n",
       "      <td>Weeks after Mississippi winter storms, some re...</td>\n",
       "      <td>Weeks after Mississippi winter storms, some re...</td>\n",
       "    </tr>\n",
       "    <tr>\n",
       "      <th>6</th>\n",
       "      <td>6</td>\n",
       "      <td>3/24/2021 0:00</td>\n",
       "      <td>‘A profound betrayal of trust’: Why Jackson’s ...</td>\n",
       "      <td>Janna Avalon, a 72-year-old retired newspaper ...</td>\n",
       "      <td>Every city water bill notifies customers of th...</td>\n",
       "    </tr>\n",
       "    <tr>\n",
       "      <th>7</th>\n",
       "      <td>7</td>\n",
       "      <td>2021-03-03 02:46:00+00:00</td>\n",
       "      <td>Jackson, Mississippi, water crisis brings to l...</td>\n",
       "      <td>After more than two weeks without clean runnin...</td>\n",
       "      <td>Residents have been lining up at several sites...</td>\n",
       "    </tr>\n",
       "    <tr>\n",
       "      <th>8</th>\n",
       "      <td>8</td>\n",
       "      <td>2021-03-13 09:30:00+00:00</td>\n",
       "      <td>A month without water: In Jackson, Mississippi...</td>\n",
       "      <td>JACKSON, Miss. — The power was out, the temper...</td>\n",
       "      <td>And although Jackson announced Friday that mos...</td>\n",
       "    </tr>\n",
       "    <tr>\n",
       "      <th>9</th>\n",
       "      <td>9</td>\n",
       "      <td>4/30/2021 0:00</td>\n",
       "      <td>Jackson residents faced down another water sho...</td>\n",
       "      <td>Jackson residents faced down another water sho...</td>\n",
       "      <td>Jackson residents faced down another water sho...</td>\n",
       "    </tr>\n",
       "    <tr>\n",
       "      <th>10</th>\n",
       "      <td>10</td>\n",
       "      <td>3/3/2021 0:00</td>\n",
       "      <td>Jackson’s Water Crisis Lingers into March</td>\n",
       "      <td>Robert Sulton has lived in south Jackson since...</td>\n",
       "      <td>Left without water, Sulton explained his frust...</td>\n",
       "    </tr>\n",
       "    <tr>\n",
       "      <th>11</th>\n",
       "      <td>11</td>\n",
       "      <td>2/28/2021 0:00</td>\n",
       "      <td>‘Our system basically crashed like a computer:...</td>\n",
       "      <td>JACKSON, Miss. (WLBT) - The City of Jackson pr...</td>\n",
       "      <td>(WLBT) - The City of Jackson provided an updat...</td>\n",
       "    </tr>\n",
       "    <tr>\n",
       "      <th>12</th>\n",
       "      <td>12</td>\n",
       "      <td>4/30/2021 0:00</td>\n",
       "      <td>Jackson residents, business owners beyond frus...</td>\n",
       "      <td>JACKSON, Miss. (WLBT) - As an estimated 43,000...</td>\n",
       "      <td>Fondren resident Crystal Gates said the whole ...</td>\n",
       "    </tr>\n",
       "    <tr>\n",
       "      <th>13</th>\n",
       "      <td>13</td>\n",
       "      <td>2021-06-14 16:56:53+00:00</td>\n",
       "      <td>Jackson Maddox Well System Repairs Continue</td>\n",
       "      <td>The City of Jackson has completed repairs on t...</td>\n",
       "      <td>The City of Jackson has completed repairs on t...</td>\n",
       "    </tr>\n",
       "    <tr>\n",
       "      <th>14</th>\n",
       "      <td>14</td>\n",
       "      <td>3/12/2021 0:00</td>\n",
       "      <td>‘You Can’t Bathe. You Can’t Wash.’ Water Crisi...</td>\n",
       "      <td>Mr. Reeves called in the National Guard last m...</td>\n",
       "      <td>Mr. Reeves called in the National Guard last m...</td>\n",
       "    </tr>\n",
       "    <tr>\n",
       "      <th>15</th>\n",
       "      <td>15</td>\n",
       "      <td>2021-02-23 18:21:49+00:00</td>\n",
       "      <td>Jackson mayor responds to water outage criticism</td>\n",
       "      <td>JACKSON, Miss. (WJTV) – Jackson Mayor Chokwe A...</td>\n",
       "      <td>Leaders announced a water tanker was made avai...</td>\n",
       "    </tr>\n",
       "    <tr>\n",
       "      <th>16</th>\n",
       "      <td>16</td>\n",
       "      <td>3/17/2021 0:00</td>\n",
       "      <td>Jackson Mayor Demands Help After Month-Long Wa...</td>\n",
       "      <td>This is a rush transcript. Copy may not be in ...</td>\n",
       "      <td>AMY GOODMAN: We begin today’s show in Jackson,...</td>\n",
       "    </tr>\n",
       "    <tr>\n",
       "      <th>17</th>\n",
       "      <td>17</td>\n",
       "      <td>2021-05-25 12:34:00+00:00</td>\n",
       "      <td>Days stretch into weeks for Jackson and Byram ...</td>\n",
       "      <td>Days stretch into weeks for Jackson and Byram ...</td>\n",
       "      <td>Days stretch into weeks for Jackson and Byram ...</td>\n",
       "    </tr>\n",
       "    <tr>\n",
       "      <th>18</th>\n",
       "      <td>18</td>\n",
       "      <td>1/19/2018 0:00</td>\n",
       "      <td>Jackson's 'Deplorable' Pipes Still Bursting, C...</td>\n",
       "      <td> The City of Jackson is somewhere between pra...</td>\n",
       "      <td>\"The most beneficial thing that citizens can d...</td>\n",
       "    </tr>\n",
       "    <tr>\n",
       "      <th>19</th>\n",
       "      <td>19</td>\n",
       "      <td>3/14/2021 0:00</td>\n",
       "      <td>Opinion: Jackson water crisis shows Nina Simon...</td>\n",
       "      <td>Keri Leigh Merritt is a historian, writer and ...</td>\n",
       "      <td>The depth of Mississippi's poverty was almost ...</td>\n",
       "    </tr>\n",
       "    <tr>\n",
       "      <th>20</th>\n",
       "      <td>20</td>\n",
       "      <td>NaN</td>\n",
       "      <td>Jackson’s water crisis</td>\n",
       "      <td>February’s winter storm had more of an impact ...</td>\n",
       "      <td>It crippled the city of Jackson’s water system...</td>\n",
       "    </tr>\n",
       "    <tr>\n",
       "      <th>21</th>\n",
       "      <td>21</td>\n",
       "      <td>NaN</td>\n",
       "      <td>No 'definitive timeline' when water will retur...</td>\n",
       "      <td>\"We continue to ask for your patience,\" Jackso...</td>\n",
       "      <td>As power and water outages rock the South, amo...</td>\n",
       "    </tr>\n",
       "    <tr>\n",
       "      <th>22</th>\n",
       "      <td>22</td>\n",
       "      <td>2021-02-28 00:47:35.423000+00:00</td>\n",
       "      <td>Frustrated Jackson Locals Are Nearing Two Week...</td>\n",
       "      <td>For nearly two weeks now, tens of thousands of...</td>\n",
       "      <td>For nearly two weeks now, tens of thousands of...</td>\n",
       "    </tr>\n",
       "    <tr>\n",
       "      <th>23</th>\n",
       "      <td>23</td>\n",
       "      <td>NaN</td>\n",
       "      <td>Jackson, Mississippi, residents remain without...</td>\n",
       "      <td>Winter storms that passed through the South la...</td>\n",
       "      <td>While the focus was on the Lone Star State, Ja...</td>\n",
       "    </tr>\n",
       "    <tr>\n",
       "      <th>24</th>\n",
       "      <td>24</td>\n",
       "      <td>3/1/2021 0:00</td>\n",
       "      <td>In Jackson, Miss., two weeks with no running w...</td>\n",
       "      <td>For residents like April Jackson, two weeks wi...</td>\n",
       "      <td>For residents like April Jackson, two weeks wi...</td>\n",
       "    </tr>\n",
       "    <tr>\n",
       "      <th>25</th>\n",
       "      <td>25</td>\n",
       "      <td>2021-03-03 17:25:56+00:00</td>\n",
       "      <td>The Jackson Water Crisis: Decades Of Disrepair...</td>\n",
       "      <td>NewsOne Featured Video CLOSE\\n\\nIt has been a ...</td>\n",
       "      <td>Weeks after a vicious winter storm blew throug...</td>\n",
       "    </tr>\n",
       "    <tr>\n",
       "      <th>26</th>\n",
       "      <td>26</td>\n",
       "      <td>3/16/2021 0:00</td>\n",
       "      <td>Residents of Jackson, Mississippi still withou...</td>\n",
       "      <td>The water supply in Jackson, Mississippi remai...</td>\n",
       "      <td>The water supply in Jackson, Mississippi remai...</td>\n",
       "    </tr>\n",
       "    <tr>\n",
       "      <th>27</th>\n",
       "      <td>27</td>\n",
       "      <td>NaN</td>\n",
       "      <td>Next time, 'it will be worse': Jackson, Missis...</td>\n",
       "      <td>JACKSON, Miss. — The power was out, the temper...</td>\n",
       "      <td>And although Jackson announced Friday that mos...</td>\n",
       "    </tr>\n",
       "    <tr>\n",
       "      <th>28</th>\n",
       "      <td>28</td>\n",
       "      <td>2021-03-18 14:18:00+00:00</td>\n",
       "      <td>Without Water in Jackson</td>\n",
       "      <td>About this episode:\\n\\nIt’s been a month since...</td>\n",
       "      <td>About this episode:It’s been a month since an ...</td>\n",
       "    </tr>\n",
       "    <tr>\n",
       "      <th>29</th>\n",
       "      <td>29</td>\n",
       "      <td>NaN</td>\n",
       "      <td>Weeks After Winter Storms, Mississippi City St...</td>\n",
       "      <td>JACKSON, MISSISSIPPI - Officials in Mississipp...</td>\n",
       "      <td>JACKSON, MISSISSIPPI - Officials in Mississipp...</td>\n",
       "    </tr>\n",
       "    <tr>\n",
       "      <th>30</th>\n",
       "      <td>30</td>\n",
       "      <td>2021-02-25 12:00:00-05:00</td>\n",
       "      <td>Water problems across the South: Blame it on d...</td>\n",
       "      <td>The sunshine is back and the ice has melted. B...</td>\n",
       "      <td>A 2018 survey by the United States Environment...</td>\n",
       "    </tr>\n",
       "    <tr>\n",
       "      <th>31</th>\n",
       "      <td>31</td>\n",
       "      <td>3/4/2021 0:00</td>\n",
       "      <td>‘There’s no excuse for this’: thousands in Mis...</td>\n",
       "      <td>As the sound of rainwater droplets crescendoed...</td>\n",
       "      <td>They crippled the city’s ailing water infrastr...</td>\n",
       "    </tr>\n",
       "    <tr>\n",
       "      <th>32</th>\n",
       "      <td>32</td>\n",
       "      <td>3/26/2021 0:00</td>\n",
       "      <td>The Jackson, Mississippi Water Crisis And Amer...</td>\n",
       "      <td>For a month, residents of Jackson, Mississippi...</td>\n",
       "      <td>For a month, residents of Jackson, Mississippi...</td>\n",
       "    </tr>\n",
       "    <tr>\n",
       "      <th>33</th>\n",
       "      <td>33</td>\n",
       "      <td>3/3/2021 0:00</td>\n",
       "      <td>Water crisis continues in Mississippi, weeks a...</td>\n",
       "      <td>Mike Bishop just had elbow surgery. The first ...</td>\n",
       "      <td>Mike Bishop just had elbow surgery.\\nThe first...</td>\n",
       "    </tr>\n",
       "    <tr>\n",
       "      <th>34</th>\n",
       "      <td>34</td>\n",
       "      <td>NaN</td>\n",
       "      <td>Mississippi power, water problems persist: 4 t...</td>\n",
       "      <td>Power outages and water problems continue in M...</td>\n",
       "      <td>Power outages and water problems continue in M...</td>\n",
       "    </tr>\n",
       "    <tr>\n",
       "      <th>35</th>\n",
       "      <td>35</td>\n",
       "      <td>NaN</td>\n",
       "      <td>As Jackson residents suffer during historic wa...</td>\n",
       "      <td>Lt. Gov. Delbert Hosemann is one of the most p...</td>\n",
       "      <td>Current and former city leaders, having dealt ...</td>\n",
       "    </tr>\n",
       "    <tr>\n",
       "      <th>36</th>\n",
       "      <td>36</td>\n",
       "      <td>NaN</td>\n",
       "      <td>Why Jackson, Mississippi’s Forgotten Water Cri...</td>\n",
       "      <td>When a devastating winter storm barreled throu...</td>\n",
       "      <td>For more than a month now, residents of Missis...</td>\n",
       "    </tr>\n",
       "    <tr>\n",
       "      <th>37</th>\n",
       "      <td>37</td>\n",
       "      <td>2021-03-04 16:33:19+00:00</td>\n",
       "      <td>Mississippi's largest city struggling from ong...</td>\n",
       "      <td>By: Alyssa Wilson\\n\\nAbout 40,000 residents in...</td>\n",
       "      <td>By: Alyssa WilsonAbout 40,000 residents in Jac...</td>\n",
       "    </tr>\n",
       "    <tr>\n",
       "      <th>38</th>\n",
       "      <td>38</td>\n",
       "      <td>NaN</td>\n",
       "      <td>The Water Crisis in Mississippi America Can’t ...</td>\n",
       "      <td>In this Feb. 22, 2021 photo, Doris Devine in J...</td>\n",
       "      <td>Like all residents of Jackson, Mississippi, sh...</td>\n",
       "    </tr>\n",
       "    <tr>\n",
       "      <th>39</th>\n",
       "      <td>39</td>\n",
       "      <td>3/5/2021 0:00</td>\n",
       "      <td>Water crisis Day 17: Officials say progress be...</td>\n",
       "      <td>Water crisis Day 17: Officials say progress be...</td>\n",
       "      <td>Water crisis Day 17: Officials say progress be...</td>\n",
       "    </tr>\n",
       "    <tr>\n",
       "      <th>40</th>\n",
       "      <td>40</td>\n",
       "      <td>NaN</td>\n",
       "      <td>Biden Could Help Prevent Water Crises Like the...</td>\n",
       "      <td>A month after winter storms wreaked havoc acro...</td>\n",
       "      <td>Like many cities, much of Jackson’s water infr...</td>\n",
       "    </tr>\n",
       "    <tr>\n",
       "      <th>41</th>\n",
       "      <td>41</td>\n",
       "      <td>2021-03-06 02:10:56+00:00</td>\n",
       "      <td>Mississippi city reports progress toward endin...</td>\n",
       "      <td>JACKSON, Miss. (Reuters) - A crisis that left ...</td>\n",
       "      <td>REUTERS/Rory DoyleJackson, the Southern state’...</td>\n",
       "    </tr>\n",
       "    <tr>\n",
       "      <th>42</th>\n",
       "      <td>42</td>\n",
       "      <td>NaN</td>\n",
       "      <td>Jackson, Miss., water crisis continues two wee...</td>\n",
       "      <td>Thousands of residents in Jackson, Miss. have ...</td>\n",
       "      <td>have been without running water for two weeks ...</td>\n",
       "    </tr>\n",
       "    <tr>\n",
       "      <th>43</th>\n",
       "      <td>43</td>\n",
       "      <td>2021-03-04 06:25:16+00:00</td>\n",
       "      <td>Jackson, MS is Struggling With a Water Crisis,...</td>\n",
       "      <td>by Amy Lupica, ODP Staff Writer\\n\\nWhile all e...</td>\n",
       "      <td>by Amy Lupica, ODP Staff WriterWhile all eyes ...</td>\n",
       "    </tr>\n",
       "    <tr>\n",
       "      <th>44</th>\n",
       "      <td>44</td>\n",
       "      <td>2021-02-19 22:33:00+03:00</td>\n",
       "      <td>US cities slammed by storms face new crisis: W...</td>\n",
       "      <td>States slammed by winter storms that left mill...</td>\n",
       "      <td>States slammed by winter storms that left mill...</td>\n",
       "    </tr>\n",
       "    <tr>\n",
       "      <th>45</th>\n",
       "      <td>45</td>\n",
       "      <td>3/24/2021 6:00</td>\n",
       "      <td>The Water Crisis in Jackson, Mississippi, Is a...</td>\n",
       "      <td>Let our journalists help you make sense of the...</td>\n",
       "      <td>In mid-February the city experienced over 80 w...</td>\n",
       "    </tr>\n",
       "  </tbody>\n",
       "</table>\n",
       "</div>"
      ],
      "text/plain": [
       "    Unnamed: 0                              Date  \\\n",
       "0            0         2021-04-20 17:51:29+00:00   \n",
       "1            1                               NaN   \n",
       "2            2                               NaN   \n",
       "3            3                     3/3/2021 0:00   \n",
       "4            4                     3/9/2021 0:00   \n",
       "5            5                     3/3/2021 0:00   \n",
       "6            6                    3/24/2021 0:00   \n",
       "7            7         2021-03-03 02:46:00+00:00   \n",
       "8            8         2021-03-13 09:30:00+00:00   \n",
       "9            9                    4/30/2021 0:00   \n",
       "10          10                     3/3/2021 0:00   \n",
       "11          11                    2/28/2021 0:00   \n",
       "12          12                    4/30/2021 0:00   \n",
       "13          13         2021-06-14 16:56:53+00:00   \n",
       "14          14                    3/12/2021 0:00   \n",
       "15          15         2021-02-23 18:21:49+00:00   \n",
       "16          16                    3/17/2021 0:00   \n",
       "17          17         2021-05-25 12:34:00+00:00   \n",
       "18          18                    1/19/2018 0:00   \n",
       "19          19                    3/14/2021 0:00   \n",
       "20          20                               NaN   \n",
       "21          21                               NaN   \n",
       "22          22  2021-02-28 00:47:35.423000+00:00   \n",
       "23          23                               NaN   \n",
       "24          24                     3/1/2021 0:00   \n",
       "25          25         2021-03-03 17:25:56+00:00   \n",
       "26          26                    3/16/2021 0:00   \n",
       "27          27                               NaN   \n",
       "28          28         2021-03-18 14:18:00+00:00   \n",
       "29          29                               NaN   \n",
       "30          30         2021-02-25 12:00:00-05:00   \n",
       "31          31                     3/4/2021 0:00   \n",
       "32          32                    3/26/2021 0:00   \n",
       "33          33                     3/3/2021 0:00   \n",
       "34          34                               NaN   \n",
       "35          35                               NaN   \n",
       "36          36                               NaN   \n",
       "37          37         2021-03-04 16:33:19+00:00   \n",
       "38          38                               NaN   \n",
       "39          39                     3/5/2021 0:00   \n",
       "40          40                               NaN   \n",
       "41          41         2021-03-06 02:10:56+00:00   \n",
       "42          42                               NaN   \n",
       "43          43         2021-03-04 06:25:16+00:00   \n",
       "44          44         2021-02-19 22:33:00+03:00   \n",
       "45          45                    3/24/2021 6:00   \n",
       "\n",
       "                                                Title  \\\n",
       "0   Water crisis continues in Mississippi, weeks a...   \n",
       "1   Jackson Water Woes, Giant Telescope Mirror, Sh...   \n",
       "2   Jackson, Mississippi has an ongoing water cris...   \n",
       "3   Like 'Peanut Brittle': Mississippi Water Crisi...   \n",
       "4   Mississippi's capital city enters week 4 of a ...   \n",
       "5   Weeks after Mississippi winter storms, some re...   \n",
       "6   ‘A profound betrayal of trust’: Why Jackson’s ...   \n",
       "7   Jackson, Mississippi, water crisis brings to l...   \n",
       "8   A month without water: In Jackson, Mississippi...   \n",
       "9   Jackson residents faced down another water sho...   \n",
       "10          Jackson’s Water Crisis Lingers into March   \n",
       "11  ‘Our system basically crashed like a computer:...   \n",
       "12  Jackson residents, business owners beyond frus...   \n",
       "13        Jackson Maddox Well System Repairs Continue   \n",
       "14  ‘You Can’t Bathe. You Can’t Wash.’ Water Crisi...   \n",
       "15   Jackson mayor responds to water outage criticism   \n",
       "16  Jackson Mayor Demands Help After Month-Long Wa...   \n",
       "17  Days stretch into weeks for Jackson and Byram ...   \n",
       "18  Jackson's 'Deplorable' Pipes Still Bursting, C...   \n",
       "19  Opinion: Jackson water crisis shows Nina Simon...   \n",
       "20                             Jackson’s water crisis   \n",
       "21  No 'definitive timeline' when water will retur...   \n",
       "22  Frustrated Jackson Locals Are Nearing Two Week...   \n",
       "23  Jackson, Mississippi, residents remain without...   \n",
       "24  In Jackson, Miss., two weeks with no running w...   \n",
       "25  The Jackson Water Crisis: Decades Of Disrepair...   \n",
       "26  Residents of Jackson, Mississippi still withou...   \n",
       "27  Next time, 'it will be worse': Jackson, Missis...   \n",
       "28                           Without Water in Jackson   \n",
       "29  Weeks After Winter Storms, Mississippi City St...   \n",
       "30  Water problems across the South: Blame it on d...   \n",
       "31  ‘There’s no excuse for this’: thousands in Mis...   \n",
       "32  The Jackson, Mississippi Water Crisis And Amer...   \n",
       "33  Water crisis continues in Mississippi, weeks a...   \n",
       "34  Mississippi power, water problems persist: 4 t...   \n",
       "35  As Jackson residents suffer during historic wa...   \n",
       "36  Why Jackson, Mississippi’s Forgotten Water Cri...   \n",
       "37  Mississippi's largest city struggling from ong...   \n",
       "38  The Water Crisis in Mississippi America Can’t ...   \n",
       "39  Water crisis Day 17: Officials say progress be...   \n",
       "40  Biden Could Help Prevent Water Crises Like the...   \n",
       "41  Mississippi city reports progress toward endin...   \n",
       "42  Jackson, Miss., water crisis continues two wee...   \n",
       "43  Jackson, MS is Struggling With a Water Crisis,...   \n",
       "44  US cities slammed by storms face new crisis: W...   \n",
       "45  The Water Crisis in Jackson, Mississippi, Is a...   \n",
       "\n",
       "                                              Article  \\\n",
       "0   Mississippi Army National Guard Sgt. Chase Tou...   \n",
       "1   What Went Wrong With Jackson, Mississippi�s Wa...   \n",
       "2   What Went Wrong With Jackson, Mississippi�s Wa...   \n",
       "3   Like 'Peanut Brittle': Mississippi Water Crisi...   \n",
       "4   Mississippi's capital city enters week 4 of a ...   \n",
       "5   Weeks after Mississippi winter storms, some re...   \n",
       "6   Janna Avalon, a 72-year-old retired newspaper ...   \n",
       "7   After more than two weeks without clean runnin...   \n",
       "8   JACKSON, Miss. — The power was out, the temper...   \n",
       "9   Jackson residents faced down another water sho...   \n",
       "10  Robert Sulton has lived in south Jackson since...   \n",
       "11  JACKSON, Miss. (WLBT) - The City of Jackson pr...   \n",
       "12  JACKSON, Miss. (WLBT) - As an estimated 43,000...   \n",
       "13  The City of Jackson has completed repairs on t...   \n",
       "14  Mr. Reeves called in the National Guard last m...   \n",
       "15  JACKSON, Miss. (WJTV) – Jackson Mayor Chokwe A...   \n",
       "16  This is a rush transcript. Copy may not be in ...   \n",
       "17  Days stretch into weeks for Jackson and Byram ...   \n",
       "18   The City of Jackson is somewhere between pra...   \n",
       "19  Keri Leigh Merritt is a historian, writer and ...   \n",
       "20  February’s winter storm had more of an impact ...   \n",
       "21  \"We continue to ask for your patience,\" Jackso...   \n",
       "22  For nearly two weeks now, tens of thousands of...   \n",
       "23  Winter storms that passed through the South la...   \n",
       "24  For residents like April Jackson, two weeks wi...   \n",
       "25  NewsOne Featured Video CLOSE\\n\\nIt has been a ...   \n",
       "26  The water supply in Jackson, Mississippi remai...   \n",
       "27  JACKSON, Miss. — The power was out, the temper...   \n",
       "28  About this episode:\\n\\nIt’s been a month since...   \n",
       "29  JACKSON, MISSISSIPPI - Officials in Mississipp...   \n",
       "30  The sunshine is back and the ice has melted. B...   \n",
       "31  As the sound of rainwater droplets crescendoed...   \n",
       "32  For a month, residents of Jackson, Mississippi...   \n",
       "33  Mike Bishop just had elbow surgery. The first ...   \n",
       "34  Power outages and water problems continue in M...   \n",
       "35  Lt. Gov. Delbert Hosemann is one of the most p...   \n",
       "36  When a devastating winter storm barreled throu...   \n",
       "37  By: Alyssa Wilson\\n\\nAbout 40,000 residents in...   \n",
       "38  In this Feb. 22, 2021 photo, Doris Devine in J...   \n",
       "39  Water crisis Day 17: Officials say progress be...   \n",
       "40  A month after winter storms wreaked havoc acro...   \n",
       "41  JACKSON, Miss. (Reuters) - A crisis that left ...   \n",
       "42  Thousands of residents in Jackson, Miss. have ...   \n",
       "43  by Amy Lupica, ODP Staff Writer\\n\\nWhile all e...   \n",
       "44  States slammed by winter storms that left mill...   \n",
       "45  Let our journalists help you make sense of the...   \n",
       "\n",
       "                                              Summary  \n",
       "0   More than two weeks have passed since the cold...  \n",
       "1      Share this on Facebook (Opens in a new window)  \n",
       "2                                                 NaN  \n",
       "3   Like 'Peanut Brittle': Mississippi Water Crisi...  \n",
       "4   Here's what to know about the water crisis in ...  \n",
       "5   Weeks after Mississippi winter storms, some re...  \n",
       "6   Every city water bill notifies customers of th...  \n",
       "7   Residents have been lining up at several sites...  \n",
       "8   And although Jackson announced Friday that mos...  \n",
       "9   Jackson residents faced down another water sho...  \n",
       "10  Left without water, Sulton explained his frust...  \n",
       "11  (WLBT) - The City of Jackson provided an updat...  \n",
       "12  Fondren resident Crystal Gates said the whole ...  \n",
       "13  The City of Jackson has completed repairs on t...  \n",
       "14  Mr. Reeves called in the National Guard last m...  \n",
       "15  Leaders announced a water tanker was made avai...  \n",
       "16  AMY GOODMAN: We begin today’s show in Jackson,...  \n",
       "17  Days stretch into weeks for Jackson and Byram ...  \n",
       "18  \"The most beneficial thing that citizens can d...  \n",
       "19  The depth of Mississippi's poverty was almost ...  \n",
       "20  It crippled the city of Jackson’s water system...  \n",
       "21  As power and water outages rock the South, amo...  \n",
       "22  For nearly two weeks now, tens of thousands of...  \n",
       "23  While the focus was on the Lone Star State, Ja...  \n",
       "24  For residents like April Jackson, two weeks wi...  \n",
       "25  Weeks after a vicious winter storm blew throug...  \n",
       "26  The water supply in Jackson, Mississippi remai...  \n",
       "27  And although Jackson announced Friday that mos...  \n",
       "28  About this episode:It’s been a month since an ...  \n",
       "29  JACKSON, MISSISSIPPI - Officials in Mississipp...  \n",
       "30  A 2018 survey by the United States Environment...  \n",
       "31  They crippled the city’s ailing water infrastr...  \n",
       "32  For a month, residents of Jackson, Mississippi...  \n",
       "33  Mike Bishop just had elbow surgery.\\nThe first...  \n",
       "34  Power outages and water problems continue in M...  \n",
       "35  Current and former city leaders, having dealt ...  \n",
       "36  For more than a month now, residents of Missis...  \n",
       "37  By: Alyssa WilsonAbout 40,000 residents in Jac...  \n",
       "38  Like all residents of Jackson, Mississippi, sh...  \n",
       "39  Water crisis Day 17: Officials say progress be...  \n",
       "40  Like many cities, much of Jackson’s water infr...  \n",
       "41  REUTERS/Rory DoyleJackson, the Southern state’...  \n",
       "42  have been without running water for two weeks ...  \n",
       "43  by Amy Lupica, ODP Staff WriterWhile all eyes ...  \n",
       "44  States slammed by winter storms that left mill...  \n",
       "45  In mid-February the city experienced over 80 w...  "
      ]
     },
     "execution_count": 10,
     "metadata": {},
     "output_type": "execute_result"
    }
   ],
   "source": [
    "JWCnewsURL=pd.read_csv(\"newsData/JWCurlNews1.csv\")\n",
    "JWCnewsURL"
   ]
  },
  {
   "cell_type": "code",
   "execution_count": 34,
   "id": "2029541d",
   "metadata": {},
   "outputs": [
    {
     "data": {
      "text/html": [
       "<div>\n",
       "<style scoped>\n",
       "    .dataframe tbody tr th:only-of-type {\n",
       "        vertical-align: middle;\n",
       "    }\n",
       "\n",
       "    .dataframe tbody tr th {\n",
       "        vertical-align: top;\n",
       "    }\n",
       "\n",
       "    .dataframe thead th {\n",
       "        text-align: right;\n",
       "    }\n",
       "</style>\n",
       "<table border=\"1\" class=\"dataframe\">\n",
       "  <thead>\n",
       "    <tr style=\"text-align: right;\">\n",
       "      <th></th>\n",
       "      <th>Date</th>\n",
       "      <th>Media</th>\n",
       "      <th>Title</th>\n",
       "      <th>Article</th>\n",
       "      <th>Summary</th>\n",
       "      <th>Keyword</th>\n",
       "    </tr>\n",
       "  </thead>\n",
       "  <tbody>\n",
       "    <tr>\n",
       "      <th>0</th>\n",
       "      <td>2-Mar-21</td>\n",
       "      <td>NBC News</td>\n",
       "      <td>Jackson, Mississippi, water crisis brings to l...</td>\n",
       "      <td>After more than two weeks without clean runnin...</td>\n",
       "      <td>Residents have been lining up at several sites...</td>\n",
       "      <td>Jackson Mississippi water crisis</td>\n",
       "    </tr>\n",
       "    <tr>\n",
       "      <th>1</th>\n",
       "      <td>2-Mar-21</td>\n",
       "      <td>CNN</td>\n",
       "      <td>In Jackson, Mississippi, some residents have b...</td>\n",
       "      <td>(CNN) Many residents of Jackson, Mississippi, ...</td>\n",
       "      <td>(CNN) Many residents of Jackson, Mississippi, ...</td>\n",
       "      <td>Jackson Mississippi water crisis</td>\n",
       "    </tr>\n",
       "    <tr>\n",
       "      <th>2</th>\n",
       "      <td>3-Mar-21</td>\n",
       "      <td>USA Today</td>\n",
       "      <td>Weeks after Mississippi winter storms, some re...</td>\n",
       "      <td>Weeks after Mississippi winter storms, some re...</td>\n",
       "      <td>Weeks after Mississippi winter storms, some re...</td>\n",
       "      <td>Jackson Mississippi water crisis</td>\n",
       "    </tr>\n",
       "    <tr>\n",
       "      <th>3</th>\n",
       "      <td>15-Mar-21</td>\n",
       "      <td>Slate</td>\n",
       "      <td>Ignore Mississippi’s Water Crisis at Your Own ...</td>\n",
       "      <td>For four weeks now, thousands of residents of ...</td>\n",
       "      <td>Water mains were damaged, reservoirs froze, an...</td>\n",
       "      <td>Jackson Mississippi water crisis</td>\n",
       "    </tr>\n",
       "    <tr>\n",
       "      <th>4</th>\n",
       "      <td>th · Mar 22, 2021</td>\n",
       "      <td>The New York Times</td>\n",
       "      <td>‘You Can’t Bathe. You Can’t Wash.’ Water Crisi...</td>\n",
       "      <td>Mr. Reeves called in the National Guard last m...</td>\n",
       "      <td>Mr. Reeves called in the National Guard last m...</td>\n",
       "      <td>Jackson Mississippi water crisis</td>\n",
       "    </tr>\n",
       "    <tr>\n",
       "      <th>...</th>\n",
       "      <td>...</td>\n",
       "      <td>...</td>\n",
       "      <td>...</td>\n",
       "      <td>...</td>\n",
       "      <td>...</td>\n",
       "      <td>...</td>\n",
       "    </tr>\n",
       "    <tr>\n",
       "      <th>43</th>\n",
       "      <td>2021-03-04 06:25:16+00:00</td>\n",
       "      <td>NaN</td>\n",
       "      <td>Jackson, MS is Struggling With a Water Crisis,...</td>\n",
       "      <td>by Amy Lupica, ODP Staff Writer\\n\\nWhile all e...</td>\n",
       "      <td>by Amy Lupica, ODP Staff WriterWhile all eyes ...</td>\n",
       "      <td>NaN</td>\n",
       "    </tr>\n",
       "    <tr>\n",
       "      <th>44</th>\n",
       "      <td>2021-02-19 22:33:00+03:00</td>\n",
       "      <td>NaN</td>\n",
       "      <td>US cities slammed by storms face new crisis: W...</td>\n",
       "      <td>States slammed by winter storms that left mill...</td>\n",
       "      <td>States slammed by winter storms that left mill...</td>\n",
       "      <td>NaN</td>\n",
       "    </tr>\n",
       "    <tr>\n",
       "      <th>0</th>\n",
       "      <td>3-Mar-21</td>\n",
       "      <td>Jackson Free Press</td>\n",
       "      <td>PUBLISHER'S NOTE: Jackson’s Water Crisis, What...</td>\n",
       "      <td>While Lt. Gov. Delbert Hosemann often presents...</td>\n",
       "      <td>Around a long rectangle of tables in the middl...</td>\n",
       "      <td>Nick Judin Jackson water crisis</td>\n",
       "    </tr>\n",
       "    <tr>\n",
       "      <th>5</th>\n",
       "      <td>2021-03-02 01:54:57+00:00</td>\n",
       "      <td>NaN</td>\n",
       "      <td>Hosemann Pins Water Blame on Jackson Leaders S...</td>\n",
       "      <td>Lt. Gov. Delbert Hosemann confirmed today that...</td>\n",
       "      <td>Delbert Hosemann confirmed today that there ar...</td>\n",
       "      <td>Nick Judin Jackson water crisis</td>\n",
       "    </tr>\n",
       "    <tr>\n",
       "      <th>6</th>\n",
       "      <td>2021-03-27 02:34:08+00:00</td>\n",
       "      <td>NaN</td>\n",
       "      <td>Under The Surface, Part 2: After Jackson Freez...</td>\n",
       "      <td>It was Wednesday, Feb. 17, 2021, when it all w...</td>\n",
       "      <td>Fewell is itself evidence of a water distribut...</td>\n",
       "      <td>Nick Judin Jackson water crisis</td>\n",
       "    </tr>\n",
       "  </tbody>\n",
       "</table>\n",
       "<p>225 rows × 6 columns</p>\n",
       "</div>"
      ],
      "text/plain": [
       "                         Date               Media  \\\n",
       "0                    2-Mar-21            NBC News   \n",
       "1                    2-Mar-21                 CNN   \n",
       "2                    3-Mar-21           USA Today   \n",
       "3                   15-Mar-21               Slate   \n",
       "4           th · Mar 22, 2021  The New York Times   \n",
       "..                        ...                 ...   \n",
       "43  2021-03-04 06:25:16+00:00                 NaN   \n",
       "44  2021-02-19 22:33:00+03:00                 NaN   \n",
       "0                    3-Mar-21  Jackson Free Press   \n",
       "5   2021-03-02 01:54:57+00:00                 NaN   \n",
       "6   2021-03-27 02:34:08+00:00                 NaN   \n",
       "\n",
       "                                                Title  \\\n",
       "0   Jackson, Mississippi, water crisis brings to l...   \n",
       "1   In Jackson, Mississippi, some residents have b...   \n",
       "2   Weeks after Mississippi winter storms, some re...   \n",
       "3   Ignore Mississippi’s Water Crisis at Your Own ...   \n",
       "4   ‘You Can’t Bathe. You Can’t Wash.’ Water Crisi...   \n",
       "..                                                ...   \n",
       "43  Jackson, MS is Struggling With a Water Crisis,...   \n",
       "44  US cities slammed by storms face new crisis: W...   \n",
       "0   PUBLISHER'S NOTE: Jackson’s Water Crisis, What...   \n",
       "5   Hosemann Pins Water Blame on Jackson Leaders S...   \n",
       "6   Under The Surface, Part 2: After Jackson Freez...   \n",
       "\n",
       "                                              Article  \\\n",
       "0   After more than two weeks without clean runnin...   \n",
       "1   (CNN) Many residents of Jackson, Mississippi, ...   \n",
       "2   Weeks after Mississippi winter storms, some re...   \n",
       "3   For four weeks now, thousands of residents of ...   \n",
       "4   Mr. Reeves called in the National Guard last m...   \n",
       "..                                                ...   \n",
       "43  by Amy Lupica, ODP Staff Writer\\n\\nWhile all e...   \n",
       "44  States slammed by winter storms that left mill...   \n",
       "0   While Lt. Gov. Delbert Hosemann often presents...   \n",
       "5   Lt. Gov. Delbert Hosemann confirmed today that...   \n",
       "6   It was Wednesday, Feb. 17, 2021, when it all w...   \n",
       "\n",
       "                                              Summary  \\\n",
       "0   Residents have been lining up at several sites...   \n",
       "1   (CNN) Many residents of Jackson, Mississippi, ...   \n",
       "2   Weeks after Mississippi winter storms, some re...   \n",
       "3   Water mains were damaged, reservoirs froze, an...   \n",
       "4   Mr. Reeves called in the National Guard last m...   \n",
       "..                                                ...   \n",
       "43  by Amy Lupica, ODP Staff WriterWhile all eyes ...   \n",
       "44  States slammed by winter storms that left mill...   \n",
       "0   Around a long rectangle of tables in the middl...   \n",
       "5   Delbert Hosemann confirmed today that there ar...   \n",
       "6   Fewell is itself evidence of a water distribut...   \n",
       "\n",
       "                             Keyword  \n",
       "0   Jackson Mississippi water crisis  \n",
       "1   Jackson Mississippi water crisis  \n",
       "2   Jackson Mississippi water crisis  \n",
       "3   Jackson Mississippi water crisis  \n",
       "4   Jackson Mississippi water crisis  \n",
       "..                               ...  \n",
       "43                               NaN  \n",
       "44                               NaN  \n",
       "0    Nick Judin Jackson water crisis  \n",
       "5    Nick Judin Jackson water crisis  \n",
       "6    Nick Judin Jackson water crisis  \n",
       "\n",
       "[225 rows x 6 columns]"
      ]
     },
     "execution_count": 34,
     "metadata": {},
     "output_type": "execute_result"
    }
   ],
   "source": [
    "frames=[google_JWCnews,JWCnewsURL,google_NickJWC]\n",
    "news=pd.concat(frames)\n",
    "news=news.drop_duplicates(subset=\"Title\")\n",
    "news_data=news[['Date', 'Media', 'Title', 'Article','Summary', 'Keyword']].copy()\n",
    "news_data"
   ]
  },
  {
   "cell_type": "code",
   "execution_count": 17,
   "id": "6da21344",
   "metadata": {},
   "outputs": [],
   "source": [
    "#news_data.to_csv(\"newsData/JWCallNewsData.csv\")"
   ]
  },
  {
   "cell_type": "code",
   "execution_count": 9,
   "id": "e6756f92",
   "metadata": {},
   "outputs": [],
   "source": [
    "news_data=pd.read_csv(\"newsData/JWCallNewsData.csv\")"
   ]
  },
  {
   "cell_type": "code",
   "execution_count": 10,
   "id": "4e52034a",
   "metadata": {},
   "outputs": [
    {
     "data": {
      "text/html": [
       "<div>\n",
       "<style scoped>\n",
       "    .dataframe tbody tr th:only-of-type {\n",
       "        vertical-align: middle;\n",
       "    }\n",
       "\n",
       "    .dataframe tbody tr th {\n",
       "        vertical-align: top;\n",
       "    }\n",
       "\n",
       "    .dataframe thead th {\n",
       "        text-align: right;\n",
       "    }\n",
       "</style>\n",
       "<table border=\"1\" class=\"dataframe\">\n",
       "  <thead>\n",
       "    <tr style=\"text-align: right;\">\n",
       "      <th></th>\n",
       "      <th>Unnamed: 0</th>\n",
       "      <th>Date</th>\n",
       "      <th>Media</th>\n",
       "      <th>Title</th>\n",
       "      <th>Article</th>\n",
       "      <th>Summary</th>\n",
       "      <th>Keyword</th>\n",
       "    </tr>\n",
       "  </thead>\n",
       "  <tbody>\n",
       "    <tr>\n",
       "      <th>0</th>\n",
       "      <td>0</td>\n",
       "      <td>2-Mar-21</td>\n",
       "      <td>NBC News</td>\n",
       "      <td>Jackson, Mississippi, water crisis brings to l...</td>\n",
       "      <td>After more than two weeks without clean runnin...</td>\n",
       "      <td>Residents have been lining up at several sites...</td>\n",
       "      <td>Jackson Mississippi water crisis</td>\n",
       "    </tr>\n",
       "    <tr>\n",
       "      <th>1</th>\n",
       "      <td>1</td>\n",
       "      <td>2-Mar-21</td>\n",
       "      <td>CNN</td>\n",
       "      <td>In Jackson, Mississippi, some residents have b...</td>\n",
       "      <td>(CNN) Many residents of Jackson, Mississippi, ...</td>\n",
       "      <td>(CNN) Many residents of Jackson, Mississippi, ...</td>\n",
       "      <td>Jackson Mississippi water crisis</td>\n",
       "    </tr>\n",
       "    <tr>\n",
       "      <th>2</th>\n",
       "      <td>2</td>\n",
       "      <td>3-Mar-21</td>\n",
       "      <td>USA Today</td>\n",
       "      <td>Weeks after Mississippi winter storms, some re...</td>\n",
       "      <td>Weeks after Mississippi winter storms, some re...</td>\n",
       "      <td>Weeks after Mississippi winter storms, some re...</td>\n",
       "      <td>Jackson Mississippi water crisis</td>\n",
       "    </tr>\n",
       "    <tr>\n",
       "      <th>3</th>\n",
       "      <td>3</td>\n",
       "      <td>15-Mar-21</td>\n",
       "      <td>Slate</td>\n",
       "      <td>Ignore Mississippi’s Water Crisis at Your Own ...</td>\n",
       "      <td>For four weeks now, thousands of residents of ...</td>\n",
       "      <td>Water mains were damaged, reservoirs froze, an...</td>\n",
       "      <td>Jackson Mississippi water crisis</td>\n",
       "    </tr>\n",
       "    <tr>\n",
       "      <th>4</th>\n",
       "      <td>4</td>\n",
       "      <td>th · Mar 22, 2021</td>\n",
       "      <td>The New York Times</td>\n",
       "      <td>‘You Can’t Bathe. You Can’t Wash.’ Water Crisi...</td>\n",
       "      <td>Mr. Reeves called in the National Guard last m...</td>\n",
       "      <td>Mr. Reeves called in the National Guard last m...</td>\n",
       "      <td>Jackson Mississippi water crisis</td>\n",
       "    </tr>\n",
       "    <tr>\n",
       "      <th>...</th>\n",
       "      <td>...</td>\n",
       "      <td>...</td>\n",
       "      <td>...</td>\n",
       "      <td>...</td>\n",
       "      <td>...</td>\n",
       "      <td>...</td>\n",
       "      <td>...</td>\n",
       "    </tr>\n",
       "    <tr>\n",
       "      <th>219</th>\n",
       "      <td>43</td>\n",
       "      <td>2021-03-04 06:25:16+00:00</td>\n",
       "      <td>Our Daily Planet</td>\n",
       "      <td>Jackson, MS is Struggling With a Water Crisis,...</td>\n",
       "      <td>by Amy Lupica, ODP Staff Writer\\n\\nWhile all e...</td>\n",
       "      <td>by Amy Lupica, ODP Staff WriterWhile all eyes ...</td>\n",
       "      <td>NaN</td>\n",
       "    </tr>\n",
       "    <tr>\n",
       "      <th>220</th>\n",
       "      <td>44</td>\n",
       "      <td>2021-02-19 22:33:00+03:00</td>\n",
       "      <td>Daily Sabah</td>\n",
       "      <td>US cities slammed by storms face new crisis: W...</td>\n",
       "      <td>States slammed by winter storms that left mill...</td>\n",
       "      <td>States slammed by winter storms that left mill...</td>\n",
       "      <td>NaN</td>\n",
       "    </tr>\n",
       "    <tr>\n",
       "      <th>221</th>\n",
       "      <td>0</td>\n",
       "      <td>3-Mar-21</td>\n",
       "      <td>Jackson Free Press</td>\n",
       "      <td>PUBLISHER'S NOTE: Jackson’s Water Crisis, What...</td>\n",
       "      <td>While Lt. Gov. Delbert Hosemann often presents...</td>\n",
       "      <td>Around a long rectangle of tables in the middl...</td>\n",
       "      <td>Nick Judin Jackson water crisis</td>\n",
       "    </tr>\n",
       "    <tr>\n",
       "      <th>222</th>\n",
       "      <td>5</td>\n",
       "      <td>2021-03-02 01:54:57+00:00</td>\n",
       "      <td>Mississippi Free Press</td>\n",
       "      <td>Hosemann Pins Water Blame on Jackson Leaders S...</td>\n",
       "      <td>Lt. Gov. Delbert Hosemann confirmed today that...</td>\n",
       "      <td>Delbert Hosemann confirmed today that there ar...</td>\n",
       "      <td>Nick Judin Jackson water crisis</td>\n",
       "    </tr>\n",
       "    <tr>\n",
       "      <th>223</th>\n",
       "      <td>6</td>\n",
       "      <td>2021-03-27 02:34:08+00:00</td>\n",
       "      <td>Mississippi Free Press</td>\n",
       "      <td>Under The Surface, Part 2: After Jackson Freez...</td>\n",
       "      <td>It was Wednesday, Feb. 17, 2021, when it all w...</td>\n",
       "      <td>Fewell is itself evidence of a water distribut...</td>\n",
       "      <td>Nick Judin Jackson water crisis</td>\n",
       "    </tr>\n",
       "  </tbody>\n",
       "</table>\n",
       "<p>224 rows × 7 columns</p>\n",
       "</div>"
      ],
      "text/plain": [
       "     Unnamed: 0                       Date                   Media  \\\n",
       "0             0                   2-Mar-21                NBC News   \n",
       "1             1                   2-Mar-21                     CNN   \n",
       "2             2                   3-Mar-21               USA Today   \n",
       "3             3                  15-Mar-21                   Slate   \n",
       "4             4          th · Mar 22, 2021      The New York Times   \n",
       "..          ...                        ...                     ...   \n",
       "219          43  2021-03-04 06:25:16+00:00        Our Daily Planet   \n",
       "220          44  2021-02-19 22:33:00+03:00             Daily Sabah   \n",
       "221           0                   3-Mar-21      Jackson Free Press   \n",
       "222           5  2021-03-02 01:54:57+00:00  Mississippi Free Press   \n",
       "223           6  2021-03-27 02:34:08+00:00  Mississippi Free Press   \n",
       "\n",
       "                                                 Title  \\\n",
       "0    Jackson, Mississippi, water crisis brings to l...   \n",
       "1    In Jackson, Mississippi, some residents have b...   \n",
       "2    Weeks after Mississippi winter storms, some re...   \n",
       "3    Ignore Mississippi’s Water Crisis at Your Own ...   \n",
       "4    ‘You Can’t Bathe. You Can’t Wash.’ Water Crisi...   \n",
       "..                                                 ...   \n",
       "219  Jackson, MS is Struggling With a Water Crisis,...   \n",
       "220  US cities slammed by storms face new crisis: W...   \n",
       "221  PUBLISHER'S NOTE: Jackson’s Water Crisis, What...   \n",
       "222  Hosemann Pins Water Blame on Jackson Leaders S...   \n",
       "223  Under The Surface, Part 2: After Jackson Freez...   \n",
       "\n",
       "                                               Article  \\\n",
       "0    After more than two weeks without clean runnin...   \n",
       "1    (CNN) Many residents of Jackson, Mississippi, ...   \n",
       "2    Weeks after Mississippi winter storms, some re...   \n",
       "3    For four weeks now, thousands of residents of ...   \n",
       "4    Mr. Reeves called in the National Guard last m...   \n",
       "..                                                 ...   \n",
       "219  by Amy Lupica, ODP Staff Writer\\n\\nWhile all e...   \n",
       "220  States slammed by winter storms that left mill...   \n",
       "221  While Lt. Gov. Delbert Hosemann often presents...   \n",
       "222  Lt. Gov. Delbert Hosemann confirmed today that...   \n",
       "223  It was Wednesday, Feb. 17, 2021, when it all w...   \n",
       "\n",
       "                                               Summary  \\\n",
       "0    Residents have been lining up at several sites...   \n",
       "1    (CNN) Many residents of Jackson, Mississippi, ...   \n",
       "2    Weeks after Mississippi winter storms, some re...   \n",
       "3    Water mains were damaged, reservoirs froze, an...   \n",
       "4    Mr. Reeves called in the National Guard last m...   \n",
       "..                                                 ...   \n",
       "219  by Amy Lupica, ODP Staff WriterWhile all eyes ...   \n",
       "220  States slammed by winter storms that left mill...   \n",
       "221  Around a long rectangle of tables in the middl...   \n",
       "222  Delbert Hosemann confirmed today that there ar...   \n",
       "223  Fewell is itself evidence of a water distribut...   \n",
       "\n",
       "                              Keyword  \n",
       "0    Jackson Mississippi water crisis  \n",
       "1    Jackson Mississippi water crisis  \n",
       "2    Jackson Mississippi water crisis  \n",
       "3    Jackson Mississippi water crisis  \n",
       "4    Jackson Mississippi water crisis  \n",
       "..                                ...  \n",
       "219                               NaN  \n",
       "220                               NaN  \n",
       "221   Nick Judin Jackson water crisis  \n",
       "222   Nick Judin Jackson water crisis  \n",
       "223   Nick Judin Jackson water crisis  \n",
       "\n",
       "[224 rows x 7 columns]"
      ]
     },
     "execution_count": 10,
     "metadata": {},
     "output_type": "execute_result"
    }
   ],
   "source": [
    "news_data"
   ]
  },
  {
   "cell_type": "code",
   "execution_count": 30,
   "id": "ec4838a6",
   "metadata": {},
   "outputs": [
    {
     "name": "stdout",
     "output_type": "stream",
     "text": [
      "['WLBT', 'The Clarion-Ledger', 'WJTV', 'WAPT', 'Jackson Free Press', 'Mississippi Today', 'ABC News', 'CNN', 'WBUR', 'NPR', 'Reuters', 'Slate', 'AP News', 'NBC News', 'Mississippi Free Press', 'The Tennessean', 'PBS', 'USA Today']\n"
     ]
    },
    {
     "data": {
      "text/plain": [
       "Text(0.5, 1.0, 'Top 10 News Media sources by Article counts')"
      ]
     },
     "execution_count": 30,
     "metadata": {},
     "output_type": "execute_result"
    },
    {
     "data": {
      "image/png": "[encoded data removed]",
      "text/plain": [
       "<Figure size 432x288 with 1 Axes>"
      ]
     },
     "metadata": {
      "needs_background": "light"
     },
     "output_type": "display_data"
    }
   ],
   "source": [
    "#Barchart of top news media sources\n",
    "news_data_mediacount=news_data.groupby('Media').count()\n",
    "\n",
    "news_data_mediacountplot=news_data_mediacount.reset_index()\n",
    "news_data_mediacountplot=news_data_mediacountplot.sort_values(by=['Title'], ascending=False)\n",
    "news_data_mediacountplot_top10=news_data_mediacountplot.head(18)\n",
    "print(news_data_mediacountplot_top10['Media'].to_list())\n",
    "#top 10 news media sources\n",
    "plt.barh(news_data_mediacountplot_top10['Media'],news_data_mediacountplot_top10['Title'])\n",
    "plt.title(\"Top 10 News Media sources by Article counts\")\n"
   ]
  },
  {
   "cell_type": "code",
   "execution_count": 16,
   "id": "518629f8",
   "metadata": {},
   "outputs": [
    {
     "name": "stdout",
     "output_type": "stream",
     "text": [
      "<class 'datetime.datetime'>\n",
      "<class 'datetime.datetime'>\n",
      "<class 'datetime.datetime'>\n",
      "<class 'datetime.datetime'>\n",
      "<class 'datetime.datetime'>\n",
      "<class 'datetime.datetime'>\n",
      "<class 'datetime.datetime'>\n",
      "<class 'datetime.datetime'>\n",
      "<class 'datetime.datetime'>\n",
      "<class 'datetime.datetime'>\n",
      "<class 'datetime.datetime'>\n",
      "<class 'datetime.datetime'>\n",
      "<class 'datetime.datetime'>\n",
      "<class 'datetime.datetime'>\n",
      "<class 'datetime.datetime'>\n",
      "<class 'datetime.datetime'>\n",
      "<class 'datetime.datetime'>\n",
      "<class 'datetime.datetime'>\n",
      "<class 'datetime.datetime'>\n",
      "<class 'datetime.datetime'>\n",
      "<class 'datetime.datetime'>\n",
      "<class 'datetime.datetime'>\n",
      "<class 'datetime.datetime'>\n",
      "<class 'datetime.datetime'>\n",
      "<class 'datetime.datetime'>\n",
      "<class 'datetime.datetime'>\n",
      "<class 'datetime.datetime'>\n",
      "<class 'datetime.datetime'>\n",
      "<class 'datetime.datetime'>\n",
      "<class 'datetime.datetime'>\n",
      "<class 'datetime.datetime'>\n",
      "<class 'datetime.datetime'>\n",
      "<class 'datetime.datetime'>\n",
      "<class 'datetime.datetime'>\n",
      "<class 'datetime.datetime'>\n",
      "<class 'datetime.datetime'>\n",
      "<class 'datetime.datetime'>\n",
      "<class 'datetime.datetime'>\n",
      "<class 'datetime.datetime'>\n",
      "<class 'datetime.datetime'>\n",
      "<class 'datetime.datetime'>\n",
      "<class 'datetime.datetime'>\n",
      "<class 'datetime.datetime'>\n",
      "<class 'datetime.datetime'>\n",
      "<class 'datetime.datetime'>\n",
      "<class 'datetime.datetime'>\n",
      "<class 'datetime.datetime'>\n",
      "<class 'datetime.datetime'>\n",
      "<class 'datetime.datetime'>\n",
      "<class 'datetime.datetime'>\n",
      "<class 'datetime.datetime'>\n",
      "<class 'datetime.datetime'>\n",
      "<class 'datetime.datetime'>\n",
      "<class 'datetime.datetime'>\n",
      "<class 'datetime.datetime'>\n",
      "<class 'datetime.datetime'>\n",
      "<class 'datetime.datetime'>\n",
      "<class 'datetime.datetime'>\n",
      "<class 'datetime.datetime'>\n",
      "<class 'datetime.datetime'>\n",
      "<class 'datetime.datetime'>\n",
      "<class 'datetime.datetime'>\n",
      "<class 'datetime.datetime'>\n",
      "<class 'datetime.datetime'>\n",
      "<class 'datetime.datetime'>\n",
      "<class 'datetime.datetime'>\n",
      "<class 'datetime.datetime'>\n",
      "<class 'datetime.datetime'>\n",
      "<class 'datetime.datetime'>\n",
      "<class 'datetime.datetime'>\n",
      "<class 'datetime.datetime'>\n",
      "<class 'datetime.datetime'>\n",
      "<class 'datetime.datetime'>\n",
      "<class 'datetime.datetime'>\n",
      "<class 'datetime.datetime'>\n",
      "<class 'datetime.datetime'>\n",
      "<class 'datetime.datetime'>\n",
      "<class 'datetime.datetime'>\n",
      "<class 'datetime.datetime'>\n",
      "<class 'datetime.datetime'>\n",
      "<class 'datetime.datetime'>\n",
      "<class 'datetime.datetime'>\n",
      "<class 'datetime.datetime'>\n",
      "<class 'datetime.datetime'>\n",
      "<class 'datetime.datetime'>\n",
      "<class 'datetime.datetime'>\n",
      "<class 'datetime.datetime'>\n",
      "<class 'datetime.datetime'>\n",
      "<class 'datetime.datetime'>\n",
      "<class 'datetime.datetime'>\n",
      "<class 'datetime.datetime'>\n",
      "<class 'datetime.datetime'>\n",
      "<class 'datetime.datetime'>\n",
      "<class 'datetime.datetime'>\n",
      "<class 'datetime.datetime'>\n",
      "<class 'datetime.datetime'>\n",
      "<class 'datetime.datetime'>\n",
      "<class 'datetime.datetime'>\n",
      "<class 'datetime.datetime'>\n",
      "<class 'datetime.datetime'>\n",
      "<class 'datetime.datetime'>\n",
      "<class 'datetime.datetime'>\n",
      "<class 'datetime.datetime'>\n",
      "<class 'datetime.datetime'>\n",
      "<class 'datetime.datetime'>\n",
      "<class 'datetime.datetime'>\n",
      "<class 'datetime.datetime'>\n",
      "<class 'datetime.datetime'>\n",
      "<class 'datetime.datetime'>\n",
      "<class 'datetime.datetime'>\n",
      "<class 'datetime.datetime'>\n",
      "<class 'datetime.datetime'>\n",
      "<class 'datetime.datetime'>\n",
      "<class 'datetime.datetime'>\n",
      "<class 'datetime.datetime'>\n",
      "<class 'datetime.datetime'>\n",
      "<class 'datetime.datetime'>\n",
      "<class 'datetime.datetime'>\n",
      "<class 'datetime.datetime'>\n",
      "<class 'datetime.datetime'>\n",
      "<class 'datetime.datetime'>\n",
      "<class 'datetime.datetime'>\n",
      "<class 'datetime.datetime'>\n",
      "<class 'datetime.datetime'>\n",
      "<class 'datetime.datetime'>\n",
      "<class 'datetime.datetime'>\n",
      "<class 'datetime.datetime'>\n",
      "<class 'datetime.datetime'>\n",
      "<class 'datetime.datetime'>\n",
      "<class 'datetime.datetime'>\n",
      "<class 'datetime.datetime'>\n",
      "<class 'datetime.datetime'>\n",
      "<class 'datetime.datetime'>\n",
      "<class 'datetime.datetime'>\n",
      "<class 'datetime.datetime'>\n",
      "<class 'datetime.datetime'>\n",
      "<class 'datetime.datetime'>\n",
      "<class 'datetime.datetime'>\n",
      "<class 'datetime.datetime'>\n",
      "<class 'datetime.datetime'>\n",
      "<class 'datetime.datetime'>\n",
      "<class 'datetime.datetime'>\n",
      "<class 'datetime.datetime'>\n",
      "<class 'datetime.datetime'>\n",
      "<class 'datetime.datetime'>\n",
      "<class 'datetime.datetime'>\n",
      "<class 'datetime.datetime'>\n",
      "<class 'datetime.datetime'>\n",
      "<class 'datetime.datetime'>\n",
      "<class 'datetime.datetime'>\n",
      "<class 'datetime.datetime'>\n",
      "<class 'datetime.datetime'>\n",
      "<class 'datetime.datetime'>\n",
      "<class 'datetime.datetime'>\n",
      "<class 'datetime.datetime'>\n",
      "<class 'datetime.datetime'>\n",
      "<class 'datetime.datetime'>\n",
      "<class 'datetime.datetime'>\n",
      "<class 'datetime.datetime'>\n",
      "<class 'datetime.datetime'>\n",
      "<class 'datetime.datetime'>\n",
      "<class 'datetime.datetime'>\n",
      "<class 'datetime.datetime'>\n",
      "<class 'datetime.datetime'>\n",
      "<class 'datetime.datetime'>\n",
      "<class 'datetime.datetime'>\n",
      "<class 'datetime.datetime'>\n",
      "<class 'datetime.datetime'>\n",
      "<class 'datetime.datetime'>\n",
      "<class 'datetime.datetime'>\n",
      "<class 'datetime.datetime'>\n",
      "<class 'datetime.datetime'>\n",
      "<class 'datetime.datetime'>\n",
      "<class 'datetime.datetime'>\n",
      "<class 'datetime.datetime'>\n",
      "<class 'datetime.datetime'>\n",
      "<class 'datetime.datetime'>\n",
      "<class 'datetime.datetime'>\n",
      "<class 'datetime.datetime'>\n",
      "<class 'datetime.datetime'>\n",
      "<class 'datetime.datetime'>\n",
      "<class 'datetime.datetime'>\n",
      "<class 'datetime.datetime'>\n",
      "<class 'datetime.datetime'>\n",
      "<class 'datetime.datetime'>\n",
      "<class 'datetime.datetime'>\n",
      "<class 'datetime.datetime'>\n",
      "<class 'datetime.datetime'>\n",
      "<class 'datetime.datetime'>\n",
      "<class 'datetime.datetime'>\n",
      "<class 'datetime.datetime'>\n",
      "<class 'datetime.datetime'>\n",
      "<class 'datetime.datetime'>\n",
      "<class 'datetime.datetime'>\n",
      "<class 'datetime.datetime'>\n",
      "<class 'datetime.datetime'>\n",
      "<class 'datetime.datetime'>\n",
      "<class 'datetime.datetime'>\n",
      "<class 'datetime.datetime'>\n",
      "<class 'datetime.datetime'>\n",
      "<class 'datetime.datetime'>\n",
      "<class 'datetime.datetime'>\n",
      "<class 'datetime.datetime'>\n",
      "<class 'datetime.datetime'>\n",
      "<class 'datetime.datetime'>\n",
      "<class 'datetime.datetime'>\n"
     ]
    }
   ],
   "source": [
    "#User-defined function to convert into datetime type\n",
    "\n",
    "\n",
    "from dateutil.parser import parse\n",
    "def convertDate(str):\n",
    "    try:\n",
    "        datetime=parse(str)\n",
    "        print(type(datetime))\n",
    "        return datetime\n",
    "    except:\n",
    "        return None\n",
    "\n",
    "news_data_plot=news_data[['Date','Title','Media','Article']].copy()\n",
    "#news_data=news_data.dropna()\n",
    "news_data_plot=news_data.copy()\n",
    "#news_data['Date']=pd.to_datetime(news_data['Date'])\n",
    "#news_data['Datetime']=news_data['Date'].apply(convertDate)\n",
    "# news_data=news_data.set_index(['Datetime'])\n",
    "#news_data['Date']=news_data.index.date\n",
    "news_data_plot=news_data_plot.dropna()\n",
    "news_data_plot['DateTime']=news_data_plot['Date'].apply(convertDate)\n",
    "news_data_plot=news_data_plot.dropna()\n",
    "#news_data_plot=news_data_plot.set_index('DateTime')\n",
    "#news_data_plot['Date']=news_data_plot.index.date\n",
    "\n",
    "##news_data_plot.to_csv(\"newsData/news_data_sentimentScore.csv\")\n",
    "\n",
    "#news_data_plot4=news_data_plot.copy()"
   ]
  },
  {
   "cell_type": "code",
   "execution_count": 5,
   "id": "763105e9",
   "metadata": {},
   "outputs": [
    {
     "data": {
      "text/html": [
       "<div>\n",
       "<style scoped>\n",
       "    .dataframe tbody tr th:only-of-type {\n",
       "        vertical-align: middle;\n",
       "    }\n",
       "\n",
       "    .dataframe tbody tr th {\n",
       "        vertical-align: top;\n",
       "    }\n",
       "\n",
       "    .dataframe thead th {\n",
       "        text-align: right;\n",
       "    }\n",
       "</style>\n",
       "<table border=\"1\" class=\"dataframe\">\n",
       "  <thead>\n",
       "    <tr style=\"text-align: right;\">\n",
       "      <th></th>\n",
       "      <th>Title</th>\n",
       "      <th>Media</th>\n",
       "      <th>Article</th>\n",
       "      <th>DateTime</th>\n",
       "    </tr>\n",
       "    <tr>\n",
       "      <th>Date</th>\n",
       "      <th></th>\n",
       "      <th></th>\n",
       "      <th></th>\n",
       "      <th></th>\n",
       "    </tr>\n",
       "  </thead>\n",
       "  <tbody>\n",
       "    <tr>\n",
       "      <th>2021-02-13</th>\n",
       "      <td>2</td>\n",
       "      <td>2</td>\n",
       "      <td>2</td>\n",
       "      <td>2</td>\n",
       "    </tr>\n",
       "    <tr>\n",
       "      <th>2021-02-14</th>\n",
       "      <td>1</td>\n",
       "      <td>1</td>\n",
       "      <td>1</td>\n",
       "      <td>1</td>\n",
       "    </tr>\n",
       "    <tr>\n",
       "      <th>2021-02-16</th>\n",
       "      <td>2</td>\n",
       "      <td>2</td>\n",
       "      <td>2</td>\n",
       "      <td>2</td>\n",
       "    </tr>\n",
       "    <tr>\n",
       "      <th>2021-02-17</th>\n",
       "      <td>4</td>\n",
       "      <td>4</td>\n",
       "      <td>4</td>\n",
       "      <td>4</td>\n",
       "    </tr>\n",
       "    <tr>\n",
       "      <th>2021-02-18</th>\n",
       "      <td>11</td>\n",
       "      <td>11</td>\n",
       "      <td>11</td>\n",
       "      <td>11</td>\n",
       "    </tr>\n",
       "    <tr>\n",
       "      <th>2021-02-19</th>\n",
       "      <td>15</td>\n",
       "      <td>15</td>\n",
       "      <td>15</td>\n",
       "      <td>15</td>\n",
       "    </tr>\n",
       "    <tr>\n",
       "      <th>2021-02-20</th>\n",
       "      <td>3</td>\n",
       "      <td>3</td>\n",
       "      <td>3</td>\n",
       "      <td>3</td>\n",
       "    </tr>\n",
       "    <tr>\n",
       "      <th>2021-02-21</th>\n",
       "      <td>3</td>\n",
       "      <td>3</td>\n",
       "      <td>3</td>\n",
       "      <td>3</td>\n",
       "    </tr>\n",
       "    <tr>\n",
       "      <th>2021-02-22</th>\n",
       "      <td>4</td>\n",
       "      <td>4</td>\n",
       "      <td>4</td>\n",
       "      <td>4</td>\n",
       "    </tr>\n",
       "    <tr>\n",
       "      <th>2021-02-23</th>\n",
       "      <td>4</td>\n",
       "      <td>4</td>\n",
       "      <td>4</td>\n",
       "      <td>4</td>\n",
       "    </tr>\n",
       "    <tr>\n",
       "      <th>2021-02-24</th>\n",
       "      <td>6</td>\n",
       "      <td>6</td>\n",
       "      <td>6</td>\n",
       "      <td>6</td>\n",
       "    </tr>\n",
       "    <tr>\n",
       "      <th>2021-02-25</th>\n",
       "      <td>12</td>\n",
       "      <td>12</td>\n",
       "      <td>12</td>\n",
       "      <td>12</td>\n",
       "    </tr>\n",
       "    <tr>\n",
       "      <th>2021-02-26</th>\n",
       "      <td>1</td>\n",
       "      <td>1</td>\n",
       "      <td>1</td>\n",
       "      <td>1</td>\n",
       "    </tr>\n",
       "    <tr>\n",
       "      <th>2021-02-27</th>\n",
       "      <td>1</td>\n",
       "      <td>1</td>\n",
       "      <td>1</td>\n",
       "      <td>1</td>\n",
       "    </tr>\n",
       "    <tr>\n",
       "      <th>2021-02-28</th>\n",
       "      <td>2</td>\n",
       "      <td>2</td>\n",
       "      <td>2</td>\n",
       "      <td>2</td>\n",
       "    </tr>\n",
       "    <tr>\n",
       "      <th>2021-03-01</th>\n",
       "      <td>8</td>\n",
       "      <td>8</td>\n",
       "      <td>8</td>\n",
       "      <td>8</td>\n",
       "    </tr>\n",
       "    <tr>\n",
       "      <th>2021-03-02</th>\n",
       "      <td>7</td>\n",
       "      <td>7</td>\n",
       "      <td>7</td>\n",
       "      <td>7</td>\n",
       "    </tr>\n",
       "    <tr>\n",
       "      <th>2021-03-03</th>\n",
       "      <td>9</td>\n",
       "      <td>9</td>\n",
       "      <td>9</td>\n",
       "      <td>9</td>\n",
       "    </tr>\n",
       "    <tr>\n",
       "      <th>2021-03-04</th>\n",
       "      <td>7</td>\n",
       "      <td>7</td>\n",
       "      <td>7</td>\n",
       "      <td>7</td>\n",
       "    </tr>\n",
       "    <tr>\n",
       "      <th>2021-03-05</th>\n",
       "      <td>10</td>\n",
       "      <td>10</td>\n",
       "      <td>10</td>\n",
       "      <td>10</td>\n",
       "    </tr>\n",
       "    <tr>\n",
       "      <th>2021-03-06</th>\n",
       "      <td>4</td>\n",
       "      <td>4</td>\n",
       "      <td>4</td>\n",
       "      <td>4</td>\n",
       "    </tr>\n",
       "    <tr>\n",
       "      <th>2021-03-07</th>\n",
       "      <td>2</td>\n",
       "      <td>2</td>\n",
       "      <td>2</td>\n",
       "      <td>2</td>\n",
       "    </tr>\n",
       "    <tr>\n",
       "      <th>2021-03-08</th>\n",
       "      <td>7</td>\n",
       "      <td>7</td>\n",
       "      <td>7</td>\n",
       "      <td>7</td>\n",
       "    </tr>\n",
       "    <tr>\n",
       "      <th>2021-03-09</th>\n",
       "      <td>5</td>\n",
       "      <td>5</td>\n",
       "      <td>5</td>\n",
       "      <td>5</td>\n",
       "    </tr>\n",
       "    <tr>\n",
       "      <th>2021-03-10</th>\n",
       "      <td>2</td>\n",
       "      <td>2</td>\n",
       "      <td>2</td>\n",
       "      <td>2</td>\n",
       "    </tr>\n",
       "    <tr>\n",
       "      <th>2021-03-11</th>\n",
       "      <td>1</td>\n",
       "      <td>1</td>\n",
       "      <td>1</td>\n",
       "      <td>1</td>\n",
       "    </tr>\n",
       "    <tr>\n",
       "      <th>2021-03-12</th>\n",
       "      <td>3</td>\n",
       "      <td>3</td>\n",
       "      <td>3</td>\n",
       "      <td>3</td>\n",
       "    </tr>\n",
       "    <tr>\n",
       "      <th>2021-03-13</th>\n",
       "      <td>3</td>\n",
       "      <td>3</td>\n",
       "      <td>3</td>\n",
       "      <td>3</td>\n",
       "    </tr>\n",
       "    <tr>\n",
       "      <th>2021-03-14</th>\n",
       "      <td>2</td>\n",
       "      <td>2</td>\n",
       "      <td>2</td>\n",
       "      <td>2</td>\n",
       "    </tr>\n",
       "    <tr>\n",
       "      <th>2021-03-15</th>\n",
       "      <td>4</td>\n",
       "      <td>4</td>\n",
       "      <td>4</td>\n",
       "      <td>4</td>\n",
       "    </tr>\n",
       "    <tr>\n",
       "      <th>2021-03-16</th>\n",
       "      <td>3</td>\n",
       "      <td>3</td>\n",
       "      <td>3</td>\n",
       "      <td>3</td>\n",
       "    </tr>\n",
       "    <tr>\n",
       "      <th>2021-03-17</th>\n",
       "      <td>2</td>\n",
       "      <td>2</td>\n",
       "      <td>2</td>\n",
       "      <td>2</td>\n",
       "    </tr>\n",
       "    <tr>\n",
       "      <th>2021-03-18</th>\n",
       "      <td>3</td>\n",
       "      <td>3</td>\n",
       "      <td>3</td>\n",
       "      <td>3</td>\n",
       "    </tr>\n",
       "    <tr>\n",
       "      <th>2021-03-19</th>\n",
       "      <td>3</td>\n",
       "      <td>3</td>\n",
       "      <td>3</td>\n",
       "      <td>3</td>\n",
       "    </tr>\n",
       "    <tr>\n",
       "      <th>2021-03-22</th>\n",
       "      <td>3</td>\n",
       "      <td>3</td>\n",
       "      <td>3</td>\n",
       "      <td>3</td>\n",
       "    </tr>\n",
       "    <tr>\n",
       "      <th>2021-03-23</th>\n",
       "      <td>4</td>\n",
       "      <td>4</td>\n",
       "      <td>4</td>\n",
       "      <td>4</td>\n",
       "    </tr>\n",
       "    <tr>\n",
       "      <th>2021-03-24</th>\n",
       "      <td>3</td>\n",
       "      <td>3</td>\n",
       "      <td>3</td>\n",
       "      <td>3</td>\n",
       "    </tr>\n",
       "    <tr>\n",
       "      <th>2021-03-25</th>\n",
       "      <td>3</td>\n",
       "      <td>3</td>\n",
       "      <td>3</td>\n",
       "      <td>3</td>\n",
       "    </tr>\n",
       "    <tr>\n",
       "      <th>2021-03-26</th>\n",
       "      <td>1</td>\n",
       "      <td>1</td>\n",
       "      <td>1</td>\n",
       "      <td>1</td>\n",
       "    </tr>\n",
       "    <tr>\n",
       "      <th>2021-03-27</th>\n",
       "      <td>1</td>\n",
       "      <td>1</td>\n",
       "      <td>1</td>\n",
       "      <td>1</td>\n",
       "    </tr>\n",
       "    <tr>\n",
       "      <th>2021-03-29</th>\n",
       "      <td>1</td>\n",
       "      <td>1</td>\n",
       "      <td>1</td>\n",
       "      <td>1</td>\n",
       "    </tr>\n",
       "    <tr>\n",
       "      <th>2021-03-30</th>\n",
       "      <td>3</td>\n",
       "      <td>3</td>\n",
       "      <td>3</td>\n",
       "      <td>3</td>\n",
       "    </tr>\n",
       "    <tr>\n",
       "      <th>2021-03-31</th>\n",
       "      <td>4</td>\n",
       "      <td>4</td>\n",
       "      <td>4</td>\n",
       "      <td>4</td>\n",
       "    </tr>\n",
       "    <tr>\n",
       "      <th>2021-04-01</th>\n",
       "      <td>2</td>\n",
       "      <td>2</td>\n",
       "      <td>2</td>\n",
       "      <td>2</td>\n",
       "    </tr>\n",
       "    <tr>\n",
       "      <th>2021-04-03</th>\n",
       "      <td>1</td>\n",
       "      <td>1</td>\n",
       "      <td>1</td>\n",
       "      <td>1</td>\n",
       "    </tr>\n",
       "    <tr>\n",
       "      <th>2021-04-06</th>\n",
       "      <td>1</td>\n",
       "      <td>1</td>\n",
       "      <td>1</td>\n",
       "      <td>1</td>\n",
       "    </tr>\n",
       "    <tr>\n",
       "      <th>2021-04-07</th>\n",
       "      <td>3</td>\n",
       "      <td>3</td>\n",
       "      <td>3</td>\n",
       "      <td>3</td>\n",
       "    </tr>\n",
       "    <tr>\n",
       "      <th>2021-04-13</th>\n",
       "      <td>1</td>\n",
       "      <td>1</td>\n",
       "      <td>1</td>\n",
       "      <td>1</td>\n",
       "    </tr>\n",
       "    <tr>\n",
       "      <th>2021-04-15</th>\n",
       "      <td>2</td>\n",
       "      <td>2</td>\n",
       "      <td>2</td>\n",
       "      <td>2</td>\n",
       "    </tr>\n",
       "    <tr>\n",
       "      <th>2021-04-19</th>\n",
       "      <td>2</td>\n",
       "      <td>2</td>\n",
       "      <td>2</td>\n",
       "      <td>2</td>\n",
       "    </tr>\n",
       "    <tr>\n",
       "      <th>2021-04-20</th>\n",
       "      <td>1</td>\n",
       "      <td>1</td>\n",
       "      <td>1</td>\n",
       "      <td>1</td>\n",
       "    </tr>\n",
       "    <tr>\n",
       "      <th>2021-04-23</th>\n",
       "      <td>1</td>\n",
       "      <td>1</td>\n",
       "      <td>1</td>\n",
       "      <td>1</td>\n",
       "    </tr>\n",
       "    <tr>\n",
       "      <th>2021-04-27</th>\n",
       "      <td>1</td>\n",
       "      <td>1</td>\n",
       "      <td>1</td>\n",
       "      <td>1</td>\n",
       "    </tr>\n",
       "    <tr>\n",
       "      <th>2021-04-30</th>\n",
       "      <td>4</td>\n",
       "      <td>4</td>\n",
       "      <td>4</td>\n",
       "      <td>4</td>\n",
       "    </tr>\n",
       "    <tr>\n",
       "      <th>2021-05-01</th>\n",
       "      <td>1</td>\n",
       "      <td>1</td>\n",
       "      <td>1</td>\n",
       "      <td>1</td>\n",
       "    </tr>\n",
       "    <tr>\n",
       "      <th>2021-05-03</th>\n",
       "      <td>2</td>\n",
       "      <td>2</td>\n",
       "      <td>2</td>\n",
       "      <td>2</td>\n",
       "    </tr>\n",
       "    <tr>\n",
       "      <th>2021-05-04</th>\n",
       "      <td>4</td>\n",
       "      <td>4</td>\n",
       "      <td>4</td>\n",
       "      <td>4</td>\n",
       "    </tr>\n",
       "    <tr>\n",
       "      <th>2021-05-25</th>\n",
       "      <td>1</td>\n",
       "      <td>1</td>\n",
       "      <td>1</td>\n",
       "      <td>1</td>\n",
       "    </tr>\n",
       "  </tbody>\n",
       "</table>\n",
       "</div>"
      ],
      "text/plain": [
       "            Title  Media  Article  DateTime\n",
       "Date                                       \n",
       "2021-02-13      2      2        2         2\n",
       "2021-02-14      1      1        1         1\n",
       "2021-02-16      2      2        2         2\n",
       "2021-02-17      4      4        4         4\n",
       "2021-02-18     11     11       11        11\n",
       "2021-02-19     15     15       15        15\n",
       "2021-02-20      3      3        3         3\n",
       "2021-02-21      3      3        3         3\n",
       "2021-02-22      4      4        4         4\n",
       "2021-02-23      4      4        4         4\n",
       "2021-02-24      6      6        6         6\n",
       "2021-02-25     12     12       12        12\n",
       "2021-02-26      1      1        1         1\n",
       "2021-02-27      1      1        1         1\n",
       "2021-02-28      2      2        2         2\n",
       "2021-03-01      8      8        8         8\n",
       "2021-03-02      7      7        7         7\n",
       "2021-03-03      9      9        9         9\n",
       "2021-03-04      7      7        7         7\n",
       "2021-03-05     10     10       10        10\n",
       "2021-03-06      4      4        4         4\n",
       "2021-03-07      2      2        2         2\n",
       "2021-03-08      7      7        7         7\n",
       "2021-03-09      5      5        5         5\n",
       "2021-03-10      2      2        2         2\n",
       "2021-03-11      1      1        1         1\n",
       "2021-03-12      3      3        3         3\n",
       "2021-03-13      3      3        3         3\n",
       "2021-03-14      2      2        2         2\n",
       "2021-03-15      4      4        4         4\n",
       "2021-03-16      3      3        3         3\n",
       "2021-03-17      2      2        2         2\n",
       "2021-03-18      3      3        3         3\n",
       "2021-03-19      3      3        3         3\n",
       "2021-03-22      3      3        3         3\n",
       "2021-03-23      4      4        4         4\n",
       "2021-03-24      3      3        3         3\n",
       "2021-03-25      3      3        3         3\n",
       "2021-03-26      1      1        1         1\n",
       "2021-03-27      1      1        1         1\n",
       "2021-03-29      1      1        1         1\n",
       "2021-03-30      3      3        3         3\n",
       "2021-03-31      4      4        4         4\n",
       "2021-04-01      2      2        2         2\n",
       "2021-04-03      1      1        1         1\n",
       "2021-04-06      1      1        1         1\n",
       "2021-04-07      3      3        3         3\n",
       "2021-04-13      1      1        1         1\n",
       "2021-04-15      2      2        2         2\n",
       "2021-04-19      2      2        2         2\n",
       "2021-04-20      1      1        1         1\n",
       "2021-04-23      1      1        1         1\n",
       "2021-04-27      1      1        1         1\n",
       "2021-04-30      4      4        4         4\n",
       "2021-05-01      1      1        1         1\n",
       "2021-05-03      2      2        2         2\n",
       "2021-05-04      4      4        4         4\n",
       "2021-05-25      1      1        1         1"
      ]
     },
     "execution_count": 5,
     "metadata": {},
     "output_type": "execute_result"
    }
   ],
   "source": [
    "def convertyearMonth(datetime):\n",
    "    try:\n",
    "        yearmonth=datetime.strftime('%Y-%m-%d')\n",
    "        return yearmonth\n",
    "    except:\n",
    "        return\n",
    "news_data_plot['Date'] = news_data_plot['DateTime'].apply(convertyearMonth)\n",
    "news_data_plot=news_data_plot[news_data_plot['Date']!='2018-01-19']\n",
    "news_data_plot=news_data_plot.groupby('Date').count()\n",
    "news_data_plot"
   ]
  },
  {
   "cell_type": "code",
   "execution_count": 6,
   "id": "db719aab",
   "metadata": {},
   "outputs": [
    {
     "data": {
      "text/plain": [
       "Text(0, 0.5, 'Number of articles')"
      ]
     },
     "execution_count": 6,
     "metadata": {},
     "output_type": "execute_result"
    },
    {
     "data": {
      "image/png": "[encoded data removed]",
      "text/plain": [
       "<Figure size 792x288 with 1 Axes>"
      ]
     },
     "metadata": {},
     "output_type": "display_data"
    }
   ],
   "source": [
    "\n",
    "sns.set(rc={'figure.figsize':(11, 4)})\n",
    "news_data_plot['Title'].plot(linewidth=2)\n",
    "plt.title(\"Time series graph of the number of news articles\")\n",
    "plt.xlabel(\"Time\")\n",
    "plt.ylabel(\"Number of articles\")"
   ]
  },
  {
   "cell_type": "code",
   "execution_count": 11,
   "id": "6a3703d9",
   "metadata": {},
   "outputs": [],
   "source": [
    "#Sentiment Analysis of News Articles\n",
    "from nltk import tokenize\n",
    "analyser = SentimentIntensityAnalyzer()\n",
    "def calculateScoreArticle(paragraph):\n",
    "\n",
    "    try:\n",
    "     \n",
    "        sentence_list = tokenize.sent_tokenize(paragraph)\n",
    "      \n",
    "        paragraphSentiments = 0.0\n",
    "        for sentence in sentence_list:\n",
    "            \n",
    "            vs = analyser.polarity_scores(sentence)\n",
    "           \n",
    "            paragraphSentiments += vs[\"compound\"]\n",
    "     \n",
    "        return round(paragraphSentiments / len(sentence_list), 4)\n",
    "        print(\"AVERAGE SENTIMENT FOR PARAGRAPH: \\t\" + str(round(paragraphSentiments / len(sentence_list), 4)))\n",
    "        #print(\"----------------------------------------------------\")\n",
    "    except:\n",
    "        return 0\n",
    "\n",
    "\n",
    "news_data['compound'] = [calculateScoreArticle(text) for text in news_data['Article']]\n"
   ]
  },
  {
   "cell_type": "code",
   "execution_count": 12,
   "id": "daf89eb4",
   "metadata": {},
   "outputs": [
    {
     "data": {
      "text/html": [
       "<div>\n",
       "<style scoped>\n",
       "    .dataframe tbody tr th:only-of-type {\n",
       "        vertical-align: middle;\n",
       "    }\n",
       "\n",
       "    .dataframe tbody tr th {\n",
       "        vertical-align: top;\n",
       "    }\n",
       "\n",
       "    .dataframe thead th {\n",
       "        text-align: right;\n",
       "    }\n",
       "</style>\n",
       "<table border=\"1\" class=\"dataframe\">\n",
       "  <thead>\n",
       "    <tr style=\"text-align: right;\">\n",
       "      <th></th>\n",
       "      <th>Unnamed: 0</th>\n",
       "      <th>Date</th>\n",
       "      <th>Media</th>\n",
       "      <th>Title</th>\n",
       "      <th>Article</th>\n",
       "      <th>Summary</th>\n",
       "      <th>Keyword</th>\n",
       "      <th>compound</th>\n",
       "    </tr>\n",
       "  </thead>\n",
       "  <tbody>\n",
       "    <tr>\n",
       "      <th>0</th>\n",
       "      <td>0</td>\n",
       "      <td>2-Mar-21</td>\n",
       "      <td>NBC News</td>\n",
       "      <td>Jackson, Mississippi, water crisis brings to l...</td>\n",
       "      <td>After more than two weeks without clean runnin...</td>\n",
       "      <td>Residents have been lining up at several sites...</td>\n",
       "      <td>Jackson Mississippi water crisis</td>\n",
       "      <td>-0.1189</td>\n",
       "    </tr>\n",
       "    <tr>\n",
       "      <th>1</th>\n",
       "      <td>1</td>\n",
       "      <td>2-Mar-21</td>\n",
       "      <td>CNN</td>\n",
       "      <td>In Jackson, Mississippi, some residents have b...</td>\n",
       "      <td>(CNN) Many residents of Jackson, Mississippi, ...</td>\n",
       "      <td>(CNN) Many residents of Jackson, Mississippi, ...</td>\n",
       "      <td>Jackson Mississippi water crisis</td>\n",
       "      <td>-0.0756</td>\n",
       "    </tr>\n",
       "    <tr>\n",
       "      <th>2</th>\n",
       "      <td>2</td>\n",
       "      <td>3-Mar-21</td>\n",
       "      <td>USA Today</td>\n",
       "      <td>Weeks after Mississippi winter storms, some re...</td>\n",
       "      <td>Weeks after Mississippi winter storms, some re...</td>\n",
       "      <td>Weeks after Mississippi winter storms, some re...</td>\n",
       "      <td>Jackson Mississippi water crisis</td>\n",
       "      <td>-0.2175</td>\n",
       "    </tr>\n",
       "    <tr>\n",
       "      <th>3</th>\n",
       "      <td>3</td>\n",
       "      <td>15-Mar-21</td>\n",
       "      <td>Slate</td>\n",
       "      <td>Ignore Mississippi’s Water Crisis at Your Own ...</td>\n",
       "      <td>For four weeks now, thousands of residents of ...</td>\n",
       "      <td>Water mains were damaged, reservoirs froze, an...</td>\n",
       "      <td>Jackson Mississippi water crisis</td>\n",
       "      <td>-0.1861</td>\n",
       "    </tr>\n",
       "    <tr>\n",
       "      <th>4</th>\n",
       "      <td>4</td>\n",
       "      <td>th · Mar 22, 2021</td>\n",
       "      <td>The New York Times</td>\n",
       "      <td>‘You Can’t Bathe. You Can’t Wash.’ Water Crisi...</td>\n",
       "      <td>Mr. Reeves called in the National Guard last m...</td>\n",
       "      <td>Mr. Reeves called in the National Guard last m...</td>\n",
       "      <td>Jackson Mississippi water crisis</td>\n",
       "      <td>0.2531</td>\n",
       "    </tr>\n",
       "    <tr>\n",
       "      <th>...</th>\n",
       "      <td>...</td>\n",
       "      <td>...</td>\n",
       "      <td>...</td>\n",
       "      <td>...</td>\n",
       "      <td>...</td>\n",
       "      <td>...</td>\n",
       "      <td>...</td>\n",
       "      <td>...</td>\n",
       "    </tr>\n",
       "    <tr>\n",
       "      <th>219</th>\n",
       "      <td>43</td>\n",
       "      <td>2021-03-04 06:25:16+00:00</td>\n",
       "      <td>Our Daily Planet</td>\n",
       "      <td>Jackson, MS is Struggling With a Water Crisis,...</td>\n",
       "      <td>by Amy Lupica, ODP Staff Writer\\n\\nWhile all e...</td>\n",
       "      <td>by Amy Lupica, ODP Staff WriterWhile all eyes ...</td>\n",
       "      <td>NaN</td>\n",
       "      <td>-0.3991</td>\n",
       "    </tr>\n",
       "    <tr>\n",
       "      <th>220</th>\n",
       "      <td>44</td>\n",
       "      <td>2021-02-19 22:33:00+03:00</td>\n",
       "      <td>Daily Sabah</td>\n",
       "      <td>US cities slammed by storms face new crisis: W...</td>\n",
       "      <td>States slammed by winter storms that left mill...</td>\n",
       "      <td>States slammed by winter storms that left mill...</td>\n",
       "      <td>NaN</td>\n",
       "      <td>-0.1793</td>\n",
       "    </tr>\n",
       "    <tr>\n",
       "      <th>221</th>\n",
       "      <td>0</td>\n",
       "      <td>3-Mar-21</td>\n",
       "      <td>Jackson Free Press</td>\n",
       "      <td>PUBLISHER'S NOTE: Jackson’s Water Crisis, What...</td>\n",
       "      <td>While Lt. Gov. Delbert Hosemann often presents...</td>\n",
       "      <td>Around a long rectangle of tables in the middl...</td>\n",
       "      <td>Nick Judin Jackson water crisis</td>\n",
       "      <td>0.0222</td>\n",
       "    </tr>\n",
       "    <tr>\n",
       "      <th>222</th>\n",
       "      <td>5</td>\n",
       "      <td>2021-03-02 01:54:57+00:00</td>\n",
       "      <td>Mississippi Free Press</td>\n",
       "      <td>Hosemann Pins Water Blame on Jackson Leaders S...</td>\n",
       "      <td>Lt. Gov. Delbert Hosemann confirmed today that...</td>\n",
       "      <td>Delbert Hosemann confirmed today that there ar...</td>\n",
       "      <td>Nick Judin Jackson water crisis</td>\n",
       "      <td>-0.0023</td>\n",
       "    </tr>\n",
       "    <tr>\n",
       "      <th>223</th>\n",
       "      <td>6</td>\n",
       "      <td>2021-03-27 02:34:08+00:00</td>\n",
       "      <td>Mississippi Free Press</td>\n",
       "      <td>Under The Surface, Part 2: After Jackson Freez...</td>\n",
       "      <td>It was Wednesday, Feb. 17, 2021, when it all w...</td>\n",
       "      <td>Fewell is itself evidence of a water distribut...</td>\n",
       "      <td>Nick Judin Jackson water crisis</td>\n",
       "      <td>-0.0115</td>\n",
       "    </tr>\n",
       "  </tbody>\n",
       "</table>\n",
       "<p>224 rows × 8 columns</p>\n",
       "</div>"
      ],
      "text/plain": [
       "     Unnamed: 0                       Date                   Media  \\\n",
       "0             0                   2-Mar-21                NBC News   \n",
       "1             1                   2-Mar-21                     CNN   \n",
       "2             2                   3-Mar-21               USA Today   \n",
       "3             3                  15-Mar-21                   Slate   \n",
       "4             4          th · Mar 22, 2021      The New York Times   \n",
       "..          ...                        ...                     ...   \n",
       "219          43  2021-03-04 06:25:16+00:00        Our Daily Planet   \n",
       "220          44  2021-02-19 22:33:00+03:00             Daily Sabah   \n",
       "221           0                   3-Mar-21      Jackson Free Press   \n",
       "222           5  2021-03-02 01:54:57+00:00  Mississippi Free Press   \n",
       "223           6  2021-03-27 02:34:08+00:00  Mississippi Free Press   \n",
       "\n",
       "                                                 Title  \\\n",
       "0    Jackson, Mississippi, water crisis brings to l...   \n",
       "1    In Jackson, Mississippi, some residents have b...   \n",
       "2    Weeks after Mississippi winter storms, some re...   \n",
       "3    Ignore Mississippi’s Water Crisis at Your Own ...   \n",
       "4    ‘You Can’t Bathe. You Can’t Wash.’ Water Crisi...   \n",
       "..                                                 ...   \n",
       "219  Jackson, MS is Struggling With a Water Crisis,...   \n",
       "220  US cities slammed by storms face new crisis: W...   \n",
       "221  PUBLISHER'S NOTE: Jackson’s Water Crisis, What...   \n",
       "222  Hosemann Pins Water Blame on Jackson Leaders S...   \n",
       "223  Under The Surface, Part 2: After Jackson Freez...   \n",
       "\n",
       "                                               Article  \\\n",
       "0    After more than two weeks without clean runnin...   \n",
       "1    (CNN) Many residents of Jackson, Mississippi, ...   \n",
       "2    Weeks after Mississippi winter storms, some re...   \n",
       "3    For four weeks now, thousands of residents of ...   \n",
       "4    Mr. Reeves called in the National Guard last m...   \n",
       "..                                                 ...   \n",
       "219  by Amy Lupica, ODP Staff Writer\\n\\nWhile all e...   \n",
       "220  States slammed by winter storms that left mill...   \n",
       "221  While Lt. Gov. Delbert Hosemann often presents...   \n",
       "222  Lt. Gov. Delbert Hosemann confirmed today that...   \n",
       "223  It was Wednesday, Feb. 17, 2021, when it all w...   \n",
       "\n",
       "                                               Summary  \\\n",
       "0    Residents have been lining up at several sites...   \n",
       "1    (CNN) Many residents of Jackson, Mississippi, ...   \n",
       "2    Weeks after Mississippi winter storms, some re...   \n",
       "3    Water mains were damaged, reservoirs froze, an...   \n",
       "4    Mr. Reeves called in the National Guard last m...   \n",
       "..                                                 ...   \n",
       "219  by Amy Lupica, ODP Staff WriterWhile all eyes ...   \n",
       "220  States slammed by winter storms that left mill...   \n",
       "221  Around a long rectangle of tables in the middl...   \n",
       "222  Delbert Hosemann confirmed today that there ar...   \n",
       "223  Fewell is itself evidence of a water distribut...   \n",
       "\n",
       "                              Keyword  compound  \n",
       "0    Jackson Mississippi water crisis   -0.1189  \n",
       "1    Jackson Mississippi water crisis   -0.0756  \n",
       "2    Jackson Mississippi water crisis   -0.2175  \n",
       "3    Jackson Mississippi water crisis   -0.1861  \n",
       "4    Jackson Mississippi water crisis    0.2531  \n",
       "..                                ...       ...  \n",
       "219                               NaN   -0.3991  \n",
       "220                               NaN   -0.1793  \n",
       "221   Nick Judin Jackson water crisis    0.0222  \n",
       "222   Nick Judin Jackson water crisis   -0.0023  \n",
       "223   Nick Judin Jackson water crisis   -0.0115  \n",
       "\n",
       "[224 rows x 8 columns]"
      ]
     },
     "execution_count": 12,
     "metadata": {},
     "output_type": "execute_result"
    }
   ],
   "source": [
    "#news_data['compound'].values()\n",
    "news_data"
   ]
  },
  {
   "cell_type": "code",
   "execution_count": 17,
   "id": "ee974fd3",
   "metadata": {},
   "outputs": [
    {
     "data": {
      "text/plain": [
       "-0.04261071428571428"
      ]
     },
     "execution_count": 17,
     "metadata": {},
     "output_type": "execute_result"
    }
   ],
   "source": [
    "#Average compound sentiment score of news articles\n",
    "news_data['compound'].mean()"
   ]
  },
  {
   "cell_type": "code",
   "execution_count": 18,
   "id": "dba74bd8",
   "metadata": {},
   "outputs": [
    {
     "name": "stdout",
     "output_type": "stream",
     "text": [
      "<class 'datetime.datetime'>\n",
      "<class 'datetime.datetime'>\n",
      "<class 'datetime.datetime'>\n",
      "<class 'datetime.datetime'>\n",
      "<class 'datetime.datetime'>\n",
      "<class 'datetime.datetime'>\n",
      "<class 'datetime.datetime'>\n",
      "<class 'datetime.datetime'>\n",
      "<class 'datetime.datetime'>\n",
      "<class 'datetime.datetime'>\n",
      "<class 'datetime.datetime'>\n",
      "<class 'datetime.datetime'>\n",
      "<class 'datetime.datetime'>\n",
      "<class 'datetime.datetime'>\n",
      "<class 'datetime.datetime'>\n",
      "<class 'datetime.datetime'>\n",
      "<class 'datetime.datetime'>\n",
      "<class 'datetime.datetime'>\n",
      "<class 'datetime.datetime'>\n",
      "<class 'datetime.datetime'>\n",
      "<class 'datetime.datetime'>\n",
      "<class 'datetime.datetime'>\n",
      "<class 'datetime.datetime'>\n",
      "<class 'datetime.datetime'>\n",
      "<class 'datetime.datetime'>\n",
      "<class 'datetime.datetime'>\n",
      "<class 'datetime.datetime'>\n",
      "<class 'datetime.datetime'>\n",
      "<class 'datetime.datetime'>\n",
      "<class 'datetime.datetime'>\n",
      "<class 'datetime.datetime'>\n",
      "<class 'datetime.datetime'>\n",
      "<class 'datetime.datetime'>\n",
      "<class 'datetime.datetime'>\n",
      "<class 'datetime.datetime'>\n",
      "<class 'datetime.datetime'>\n",
      "<class 'datetime.datetime'>\n",
      "<class 'datetime.datetime'>\n",
      "<class 'datetime.datetime'>\n",
      "<class 'datetime.datetime'>\n",
      "<class 'datetime.datetime'>\n",
      "<class 'datetime.datetime'>\n",
      "<class 'datetime.datetime'>\n",
      "<class 'datetime.datetime'>\n",
      "<class 'datetime.datetime'>\n",
      "<class 'datetime.datetime'>\n",
      "<class 'datetime.datetime'>\n",
      "<class 'datetime.datetime'>\n",
      "<class 'datetime.datetime'>\n",
      "<class 'datetime.datetime'>\n",
      "<class 'datetime.datetime'>\n",
      "<class 'datetime.datetime'>\n",
      "<class 'datetime.datetime'>\n",
      "<class 'datetime.datetime'>\n",
      "<class 'datetime.datetime'>\n",
      "<class 'datetime.datetime'>\n",
      "<class 'datetime.datetime'>\n",
      "<class 'datetime.datetime'>\n",
      "<class 'datetime.datetime'>\n",
      "<class 'datetime.datetime'>\n",
      "<class 'datetime.datetime'>\n",
      "<class 'datetime.datetime'>\n",
      "<class 'datetime.datetime'>\n",
      "<class 'datetime.datetime'>\n",
      "<class 'datetime.datetime'>\n",
      "<class 'datetime.datetime'>\n",
      "<class 'datetime.datetime'>\n",
      "<class 'datetime.datetime'>\n",
      "<class 'datetime.datetime'>\n",
      "<class 'datetime.datetime'>\n",
      "<class 'datetime.datetime'>\n",
      "<class 'datetime.datetime'>\n",
      "<class 'datetime.datetime'>\n",
      "<class 'datetime.datetime'>\n",
      "<class 'datetime.datetime'>\n",
      "<class 'datetime.datetime'>\n",
      "<class 'datetime.datetime'>\n",
      "<class 'datetime.datetime'>\n",
      "<class 'datetime.datetime'>\n",
      "<class 'datetime.datetime'>\n",
      "<class 'datetime.datetime'>\n",
      "<class 'datetime.datetime'>\n",
      "<class 'datetime.datetime'>\n",
      "<class 'datetime.datetime'>\n",
      "<class 'datetime.datetime'>\n",
      "<class 'datetime.datetime'>\n",
      "<class 'datetime.datetime'>\n",
      "<class 'datetime.datetime'>\n",
      "<class 'datetime.datetime'>\n",
      "<class 'datetime.datetime'>\n",
      "<class 'datetime.datetime'>\n",
      "<class 'datetime.datetime'>\n",
      "<class 'datetime.datetime'>\n",
      "<class 'datetime.datetime'>\n",
      "<class 'datetime.datetime'>\n",
      "<class 'datetime.datetime'>\n",
      "<class 'datetime.datetime'>\n",
      "<class 'datetime.datetime'>\n",
      "<class 'datetime.datetime'>\n",
      "<class 'datetime.datetime'>\n",
      "<class 'datetime.datetime'>\n",
      "<class 'datetime.datetime'>\n",
      "<class 'datetime.datetime'>\n",
      "<class 'datetime.datetime'>\n",
      "<class 'datetime.datetime'>\n",
      "<class 'datetime.datetime'>\n",
      "<class 'datetime.datetime'>\n",
      "<class 'datetime.datetime'>\n",
      "<class 'datetime.datetime'>\n",
      "<class 'datetime.datetime'>\n",
      "<class 'datetime.datetime'>\n",
      "<class 'datetime.datetime'>\n",
      "<class 'datetime.datetime'>\n",
      "<class 'datetime.datetime'>\n",
      "<class 'datetime.datetime'>\n",
      "<class 'datetime.datetime'>\n",
      "<class 'datetime.datetime'>\n",
      "<class 'datetime.datetime'>\n",
      "<class 'datetime.datetime'>\n",
      "<class 'datetime.datetime'>\n",
      "<class 'datetime.datetime'>\n",
      "<class 'datetime.datetime'>\n",
      "<class 'datetime.datetime'>\n",
      "<class 'datetime.datetime'>\n",
      "<class 'datetime.datetime'>\n",
      "<class 'datetime.datetime'>\n",
      "<class 'datetime.datetime'>\n",
      "<class 'datetime.datetime'>\n",
      "<class 'datetime.datetime'>\n",
      "<class 'datetime.datetime'>\n",
      "<class 'datetime.datetime'>\n",
      "<class 'datetime.datetime'>\n",
      "<class 'datetime.datetime'>\n",
      "<class 'datetime.datetime'>\n",
      "<class 'datetime.datetime'>\n",
      "<class 'datetime.datetime'>\n",
      "<class 'datetime.datetime'>\n",
      "<class 'datetime.datetime'>\n",
      "<class 'datetime.datetime'>\n",
      "<class 'datetime.datetime'>\n",
      "<class 'datetime.datetime'>\n",
      "<class 'datetime.datetime'>\n",
      "<class 'datetime.datetime'>\n",
      "<class 'datetime.datetime'>\n",
      "<class 'datetime.datetime'>\n",
      "<class 'datetime.datetime'>\n",
      "<class 'datetime.datetime'>\n",
      "<class 'datetime.datetime'>\n",
      "<class 'datetime.datetime'>\n",
      "<class 'datetime.datetime'>\n",
      "<class 'datetime.datetime'>\n",
      "<class 'datetime.datetime'>\n",
      "<class 'datetime.datetime'>\n",
      "<class 'datetime.datetime'>\n",
      "<class 'datetime.datetime'>\n",
      "<class 'datetime.datetime'>\n",
      "<class 'datetime.datetime'>\n",
      "<class 'datetime.datetime'>\n",
      "<class 'datetime.datetime'>\n",
      "<class 'datetime.datetime'>\n",
      "<class 'datetime.datetime'>\n",
      "<class 'datetime.datetime'>\n",
      "<class 'datetime.datetime'>\n",
      "<class 'datetime.datetime'>\n",
      "<class 'datetime.datetime'>\n",
      "<class 'datetime.datetime'>\n",
      "<class 'datetime.datetime'>\n",
      "<class 'datetime.datetime'>\n",
      "<class 'datetime.datetime'>\n",
      "<class 'datetime.datetime'>\n",
      "<class 'datetime.datetime'>\n",
      "<class 'datetime.datetime'>\n",
      "<class 'datetime.datetime'>\n",
      "<class 'datetime.datetime'>\n",
      "<class 'datetime.datetime'>\n",
      "<class 'datetime.datetime'>\n",
      "<class 'datetime.datetime'>\n",
      "<class 'datetime.datetime'>\n",
      "<class 'datetime.datetime'>\n",
      "<class 'datetime.datetime'>\n",
      "<class 'datetime.datetime'>\n",
      "<class 'datetime.datetime'>\n",
      "<class 'datetime.datetime'>\n",
      "<class 'datetime.datetime'>\n",
      "<class 'datetime.datetime'>\n",
      "<class 'datetime.datetime'>\n",
      "<class 'datetime.datetime'>\n",
      "<class 'datetime.datetime'>\n",
      "<class 'datetime.datetime'>\n",
      "<class 'datetime.datetime'>\n",
      "<class 'datetime.datetime'>\n",
      "<class 'datetime.datetime'>\n",
      "<class 'datetime.datetime'>\n",
      "<class 'datetime.datetime'>\n",
      "<class 'datetime.datetime'>\n",
      "<class 'datetime.datetime'>\n",
      "<class 'datetime.datetime'>\n",
      "<class 'datetime.datetime'>\n",
      "<class 'datetime.datetime'>\n",
      "<class 'datetime.datetime'>\n",
      "<class 'datetime.datetime'>\n",
      "<class 'datetime.datetime'>\n",
      "<class 'datetime.datetime'>\n",
      "<class 'datetime.datetime'>\n",
      "<class 'datetime.datetime'>\n",
      "<class 'datetime.datetime'>\n"
     ]
    }
   ],
   "source": [
    "#grabbing year-month from the dates\n",
    "news_data['DateTime']=news_data['Date'].apply(convertDate)\n",
    "\n",
    "def convertyearMonth(datetime):\n",
    "    try:\n",
    "        yearmonth=datetime.strftime('%Y-%m')\n",
    "        return yearmonth\n",
    "    except:\n",
    "        return\n",
    "news_data['Year-Month'] = news_data['DateTime'].apply(convertyearMonth)\n",
    "\n",
    "news_data.to_csv(\"newsData/news_data_sentimentScore.csv\")"
   ]
  },
  {
   "cell_type": "code",
   "execution_count": 8,
   "id": "7db9f12e",
   "metadata": {},
   "outputs": [
    {
     "data": {
      "text/html": [
       "<div>\n",
       "<style scoped>\n",
       "    .dataframe tbody tr th:only-of-type {\n",
       "        vertical-align: middle;\n",
       "    }\n",
       "\n",
       "    .dataframe tbody tr th {\n",
       "        vertical-align: top;\n",
       "    }\n",
       "\n",
       "    .dataframe thead th {\n",
       "        text-align: right;\n",
       "    }\n",
       "</style>\n",
       "<table border=\"1\" class=\"dataframe\">\n",
       "  <thead>\n",
       "    <tr style=\"text-align: right;\">\n",
       "      <th></th>\n",
       "      <th>Unnamed: 0</th>\n",
       "      <th>Date</th>\n",
       "      <th>Media</th>\n",
       "      <th>Title</th>\n",
       "      <th>Article</th>\n",
       "      <th>Summary</th>\n",
       "      <th>Keyword</th>\n",
       "    </tr>\n",
       "  </thead>\n",
       "  <tbody>\n",
       "    <tr>\n",
       "      <th>0</th>\n",
       "      <td>0</td>\n",
       "      <td>2-Mar-21</td>\n",
       "      <td>NBC News</td>\n",
       "      <td>Jackson, Mississippi, water crisis brings to l...</td>\n",
       "      <td>After more than two weeks without clean runnin...</td>\n",
       "      <td>Residents have been lining up at several sites...</td>\n",
       "      <td>Jackson Mississippi water crisis</td>\n",
       "    </tr>\n",
       "    <tr>\n",
       "      <th>1</th>\n",
       "      <td>1</td>\n",
       "      <td>2-Mar-21</td>\n",
       "      <td>CNN</td>\n",
       "      <td>In Jackson, Mississippi, some residents have b...</td>\n",
       "      <td>(CNN) Many residents of Jackson, Mississippi, ...</td>\n",
       "      <td>(CNN) Many residents of Jackson, Mississippi, ...</td>\n",
       "      <td>Jackson Mississippi water crisis</td>\n",
       "    </tr>\n",
       "    <tr>\n",
       "      <th>2</th>\n",
       "      <td>2</td>\n",
       "      <td>3-Mar-21</td>\n",
       "      <td>USA Today</td>\n",
       "      <td>Weeks after Mississippi winter storms, some re...</td>\n",
       "      <td>Weeks after Mississippi winter storms, some re...</td>\n",
       "      <td>Weeks after Mississippi winter storms, some re...</td>\n",
       "      <td>Jackson Mississippi water crisis</td>\n",
       "    </tr>\n",
       "    <tr>\n",
       "      <th>3</th>\n",
       "      <td>3</td>\n",
       "      <td>15-Mar-21</td>\n",
       "      <td>Slate</td>\n",
       "      <td>Ignore Mississippi’s Water Crisis at Your Own ...</td>\n",
       "      <td>For four weeks now, thousands of residents of ...</td>\n",
       "      <td>Water mains were damaged, reservoirs froze, an...</td>\n",
       "      <td>Jackson Mississippi water crisis</td>\n",
       "    </tr>\n",
       "    <tr>\n",
       "      <th>4</th>\n",
       "      <td>4</td>\n",
       "      <td>th · Mar 22, 2021</td>\n",
       "      <td>The New York Times</td>\n",
       "      <td>‘You Can’t Bathe. You Can’t Wash.’ Water Crisi...</td>\n",
       "      <td>Mr. Reeves called in the National Guard last m...</td>\n",
       "      <td>Mr. Reeves called in the National Guard last m...</td>\n",
       "      <td>Jackson Mississippi water crisis</td>\n",
       "    </tr>\n",
       "    <tr>\n",
       "      <th>...</th>\n",
       "      <td>...</td>\n",
       "      <td>...</td>\n",
       "      <td>...</td>\n",
       "      <td>...</td>\n",
       "      <td>...</td>\n",
       "      <td>...</td>\n",
       "      <td>...</td>\n",
       "    </tr>\n",
       "    <tr>\n",
       "      <th>219</th>\n",
       "      <td>43</td>\n",
       "      <td>2021-03-04 06:25:16+00:00</td>\n",
       "      <td>Our Daily Planet</td>\n",
       "      <td>Jackson, MS is Struggling With a Water Crisis,...</td>\n",
       "      <td>by Amy Lupica, ODP Staff Writer\\n\\nWhile all e...</td>\n",
       "      <td>by Amy Lupica, ODP Staff WriterWhile all eyes ...</td>\n",
       "      <td>NaN</td>\n",
       "    </tr>\n",
       "    <tr>\n",
       "      <th>220</th>\n",
       "      <td>44</td>\n",
       "      <td>2021-02-19 22:33:00+03:00</td>\n",
       "      <td>Daily Sabah</td>\n",
       "      <td>US cities slammed by storms face new crisis: W...</td>\n",
       "      <td>States slammed by winter storms that left mill...</td>\n",
       "      <td>States slammed by winter storms that left mill...</td>\n",
       "      <td>NaN</td>\n",
       "    </tr>\n",
       "    <tr>\n",
       "      <th>221</th>\n",
       "      <td>0</td>\n",
       "      <td>3-Mar-21</td>\n",
       "      <td>Jackson Free Press</td>\n",
       "      <td>PUBLISHER'S NOTE: Jackson’s Water Crisis, What...</td>\n",
       "      <td>While Lt. Gov. Delbert Hosemann often presents...</td>\n",
       "      <td>Around a long rectangle of tables in the middl...</td>\n",
       "      <td>Nick Judin Jackson water crisis</td>\n",
       "    </tr>\n",
       "    <tr>\n",
       "      <th>222</th>\n",
       "      <td>5</td>\n",
       "      <td>2021-03-02 01:54:57+00:00</td>\n",
       "      <td>Mississippi Free Press</td>\n",
       "      <td>Hosemann Pins Water Blame on Jackson Leaders S...</td>\n",
       "      <td>Lt. Gov. Delbert Hosemann confirmed today that...</td>\n",
       "      <td>Delbert Hosemann confirmed today that there ar...</td>\n",
       "      <td>Nick Judin Jackson water crisis</td>\n",
       "    </tr>\n",
       "    <tr>\n",
       "      <th>223</th>\n",
       "      <td>6</td>\n",
       "      <td>2021-03-27 02:34:08+00:00</td>\n",
       "      <td>Mississippi Free Press</td>\n",
       "      <td>Under The Surface, Part 2: After Jackson Freez...</td>\n",
       "      <td>It was Wednesday, Feb. 17, 2021, when it all w...</td>\n",
       "      <td>Fewell is itself evidence of a water distribut...</td>\n",
       "      <td>Nick Judin Jackson water crisis</td>\n",
       "    </tr>\n",
       "  </tbody>\n",
       "</table>\n",
       "<p>224 rows × 7 columns</p>\n",
       "</div>"
      ],
      "text/plain": [
       "     Unnamed: 0                       Date                   Media  \\\n",
       "0             0                   2-Mar-21                NBC News   \n",
       "1             1                   2-Mar-21                     CNN   \n",
       "2             2                   3-Mar-21               USA Today   \n",
       "3             3                  15-Mar-21                   Slate   \n",
       "4             4          th · Mar 22, 2021      The New York Times   \n",
       "..          ...                        ...                     ...   \n",
       "219          43  2021-03-04 06:25:16+00:00        Our Daily Planet   \n",
       "220          44  2021-02-19 22:33:00+03:00             Daily Sabah   \n",
       "221           0                   3-Mar-21      Jackson Free Press   \n",
       "222           5  2021-03-02 01:54:57+00:00  Mississippi Free Press   \n",
       "223           6  2021-03-27 02:34:08+00:00  Mississippi Free Press   \n",
       "\n",
       "                                                 Title  \\\n",
       "0    Jackson, Mississippi, water crisis brings to l...   \n",
       "1    In Jackson, Mississippi, some residents have b...   \n",
       "2    Weeks after Mississippi winter storms, some re...   \n",
       "3    Ignore Mississippi’s Water Crisis at Your Own ...   \n",
       "4    ‘You Can’t Bathe. You Can’t Wash.’ Water Crisi...   \n",
       "..                                                 ...   \n",
       "219  Jackson, MS is Struggling With a Water Crisis,...   \n",
       "220  US cities slammed by storms face new crisis: W...   \n",
       "221  PUBLISHER'S NOTE: Jackson’s Water Crisis, What...   \n",
       "222  Hosemann Pins Water Blame on Jackson Leaders S...   \n",
       "223  Under The Surface, Part 2: After Jackson Freez...   \n",
       "\n",
       "                                               Article  \\\n",
       "0    After more than two weeks without clean runnin...   \n",
       "1    (CNN) Many residents of Jackson, Mississippi, ...   \n",
       "2    Weeks after Mississippi winter storms, some re...   \n",
       "3    For four weeks now, thousands of residents of ...   \n",
       "4    Mr. Reeves called in the National Guard last m...   \n",
       "..                                                 ...   \n",
       "219  by Amy Lupica, ODP Staff Writer\\n\\nWhile all e...   \n",
       "220  States slammed by winter storms that left mill...   \n",
       "221  While Lt. Gov. Delbert Hosemann often presents...   \n",
       "222  Lt. Gov. Delbert Hosemann confirmed today that...   \n",
       "223  It was Wednesday, Feb. 17, 2021, when it all w...   \n",
       "\n",
       "                                               Summary  \\\n",
       "0    Residents have been lining up at several sites...   \n",
       "1    (CNN) Many residents of Jackson, Mississippi, ...   \n",
       "2    Weeks after Mississippi winter storms, some re...   \n",
       "3    Water mains were damaged, reservoirs froze, an...   \n",
       "4    Mr. Reeves called in the National Guard last m...   \n",
       "..                                                 ...   \n",
       "219  by Amy Lupica, ODP Staff WriterWhile all eyes ...   \n",
       "220  States slammed by winter storms that left mill...   \n",
       "221  Around a long rectangle of tables in the middl...   \n",
       "222  Delbert Hosemann confirmed today that there ar...   \n",
       "223  Fewell is itself evidence of a water distribut...   \n",
       "\n",
       "                              Keyword  \n",
       "0    Jackson Mississippi water crisis  \n",
       "1    Jackson Mississippi water crisis  \n",
       "2    Jackson Mississippi water crisis  \n",
       "3    Jackson Mississippi water crisis  \n",
       "4    Jackson Mississippi water crisis  \n",
       "..                                ...  \n",
       "219                               NaN  \n",
       "220                               NaN  \n",
       "221   Nick Judin Jackson water crisis  \n",
       "222   Nick Judin Jackson water crisis  \n",
       "223   Nick Judin Jackson water crisis  \n",
       "\n",
       "[224 rows x 7 columns]"
      ]
     },
     "execution_count": 8,
     "metadata": {},
     "output_type": "execute_result"
    }
   ],
   "source": [
    "news_data"
   ]
  },
  {
   "cell_type": "code",
   "execution_count": 11,
   "id": "c4642eee",
   "metadata": {},
   "outputs": [],
   "source": [
    "#Plotting sentiment scores by months\n",
    "news_data_plot2=news_data.groupby(\"Year-Month\").mean()\n",
    "news_data_plot2=news_data_plot2.reset_index()\n",
    "news_data_plot2=news_data_plot2[news_data_plot2['Year-Month']!='2018-01']"
   ]
  },
  {
   "cell_type": "code",
   "execution_count": 12,
   "id": "a5fa1309",
   "metadata": {},
   "outputs": [
    {
     "data": {
      "text/html": [
       "<div>\n",
       "<style scoped>\n",
       "    .dataframe tbody tr th:only-of-type {\n",
       "        vertical-align: middle;\n",
       "    }\n",
       "\n",
       "    .dataframe tbody tr th {\n",
       "        vertical-align: top;\n",
       "    }\n",
       "\n",
       "    .dataframe thead th {\n",
       "        text-align: right;\n",
       "    }\n",
       "</style>\n",
       "<table border=\"1\" class=\"dataframe\">\n",
       "  <thead>\n",
       "    <tr style=\"text-align: right;\">\n",
       "      <th></th>\n",
       "      <th>Year-Month</th>\n",
       "      <th>Unnamed: 0</th>\n",
       "      <th>compound</th>\n",
       "    </tr>\n",
       "  </thead>\n",
       "  <tbody>\n",
       "    <tr>\n",
       "      <th>0</th>\n",
       "      <td>2021-02</td>\n",
       "      <td>120.492958</td>\n",
       "      <td>-0.052328</td>\n",
       "    </tr>\n",
       "    <tr>\n",
       "      <th>1</th>\n",
       "      <td>2021-03</td>\n",
       "      <td>74.601852</td>\n",
       "      <td>-0.035396</td>\n",
       "    </tr>\n",
       "    <tr>\n",
       "      <th>2</th>\n",
       "      <td>2021-04</td>\n",
       "      <td>77.052632</td>\n",
       "      <td>-0.059379</td>\n",
       "    </tr>\n",
       "    <tr>\n",
       "      <th>3</th>\n",
       "      <td>2021-05</td>\n",
       "      <td>81.375000</td>\n",
       "      <td>-0.111288</td>\n",
       "    </tr>\n",
       "  </tbody>\n",
       "</table>\n",
       "</div>"
      ],
      "text/plain": [
       "  Year-Month  Unnamed: 0  compound\n",
       "0    2021-02  120.492958 -0.052328\n",
       "1    2021-03   74.601852 -0.035396\n",
       "2    2021-04   77.052632 -0.059379\n",
       "3    2021-05   81.375000 -0.111288"
      ]
     },
     "execution_count": 12,
     "metadata": {},
     "output_type": "execute_result"
    }
   ],
   "source": [
    "news_data_plot2"
   ]
  },
  {
   "cell_type": "code",
   "execution_count": 13,
   "id": "a354310e",
   "metadata": {},
   "outputs": [
    {
     "data": {
      "image/png": "[encoded data removed]",
      "text/plain": [
       "<Figure size 792x288 with 1 Axes>"
      ]
     },
     "metadata": {},
     "output_type": "display_data"
    }
   ],
   "source": [
    "\n",
    "x_month=[2,3,4,5]\n",
    "plt.bar(news_data_plot2['Year-Month'],news_data_plot2['compound'])\n",
    "#plt.xticks(x_month)\n",
    "plt.title(\"Average Compound Sentiment scores of News Articles by Month\")\n",
    "plt.xlabel(\"Month\")\n",
    "plt.ylabel(\"Compound Sentiment Score\")\n",
    "plt.show()"
   ]
  },
  {
   "cell_type": "code",
   "execution_count": 14,
   "id": "9e92a30b",
   "metadata": {},
   "outputs": [
    {
     "name": "stdout",
     "output_type": "stream",
     "text": [
      "There are 978596 words in the combination of all articles\n"
     ]
    },
    {
     "data": {
      "image/png": "[encoded data removed]",
      "text/plain": [
       "<Figure size 792x288 with 1 Axes>"
      ]
     },
     "metadata": {},
     "output_type": "display_data"
    }
   ],
   "source": [
    "#Word clouds from news articles\n",
    "\n",
    "text = \" \".join(review for review in news_data['Article'])\n",
    "print (\"There are {} words in the combination of all articles\".format(len(text)))\n",
    "\n",
    "stopwords = set(STOPWORDS)\n",
    "stopwords.update([\"https\",'t','co','amp','s','M','water','city','Jackson','Mississippi','state','said','will'])\n",
    "wordcloud = WordCloud(stopwords=stopwords, background_color=\"white\").generate(text)\n",
    "\n",
    "\n",
    "plt.imshow(wordcloud, interpolation='bilinear')\n",
    "plt.axis(\"off\")\n",
    "plt.show()"
   ]
  },
  {
   "cell_type": "code",
   "execution_count": 15,
   "id": "be3736c3",
   "metadata": {},
   "outputs": [
    {
     "data": {
      "text/html": [
       "<div>\n",
       "<style scoped>\n",
       "    .dataframe tbody tr th:only-of-type {\n",
       "        vertical-align: middle;\n",
       "    }\n",
       "\n",
       "    .dataframe tbody tr th {\n",
       "        vertical-align: top;\n",
       "    }\n",
       "\n",
       "    .dataframe thead th {\n",
       "        text-align: right;\n",
       "    }\n",
       "</style>\n",
       "<table border=\"1\" class=\"dataframe\">\n",
       "  <thead>\n",
       "    <tr style=\"text-align: right;\">\n",
       "      <th></th>\n",
       "      <th>Media</th>\n",
       "      <th>Unnamed: 0</th>\n",
       "      <th>compound</th>\n",
       "    </tr>\n",
       "  </thead>\n",
       "  <tbody>\n",
       "    <tr>\n",
       "      <th>0</th>\n",
       "      <td>ABC News</td>\n",
       "      <td>81.833333</td>\n",
       "      <td>-0.066850</td>\n",
       "    </tr>\n",
       "    <tr>\n",
       "      <th>1</th>\n",
       "      <td>CNN</td>\n",
       "      <td>58.000000</td>\n",
       "      <td>-0.153940</td>\n",
       "    </tr>\n",
       "    <tr>\n",
       "      <th>2</th>\n",
       "      <td>Jackson Free Press</td>\n",
       "      <td>115.000000</td>\n",
       "      <td>-0.014122</td>\n",
       "    </tr>\n",
       "    <tr>\n",
       "      <th>3</th>\n",
       "      <td>Mississippi Today</td>\n",
       "      <td>75.777778</td>\n",
       "      <td>0.120200</td>\n",
       "    </tr>\n",
       "    <tr>\n",
       "      <th>4</th>\n",
       "      <td>Slate</td>\n",
       "      <td>28.333333</td>\n",
       "      <td>-0.079467</td>\n",
       "    </tr>\n",
       "    <tr>\n",
       "      <th>5</th>\n",
       "      <td>The Clarion-Ledger</td>\n",
       "      <td>102.647059</td>\n",
       "      <td>-0.056303</td>\n",
       "    </tr>\n",
       "    <tr>\n",
       "      <th>6</th>\n",
       "      <td>USA Today</td>\n",
       "      <td>39.666667</td>\n",
       "      <td>-0.182133</td>\n",
       "    </tr>\n",
       "    <tr>\n",
       "      <th>7</th>\n",
       "      <td>WAPT</td>\n",
       "      <td>85.300000</td>\n",
       "      <td>-0.015560</td>\n",
       "    </tr>\n",
       "    <tr>\n",
       "      <th>8</th>\n",
       "      <td>WJTV</td>\n",
       "      <td>116.307692</td>\n",
       "      <td>0.033315</td>\n",
       "    </tr>\n",
       "    <tr>\n",
       "      <th>9</th>\n",
       "      <td>WLBT</td>\n",
       "      <td>118.578947</td>\n",
       "      <td>-0.016642</td>\n",
       "    </tr>\n",
       "  </tbody>\n",
       "</table>\n",
       "</div>"
      ],
      "text/plain": [
       "                Media  Unnamed: 0  compound\n",
       "0            ABC News   81.833333 -0.066850\n",
       "1                 CNN   58.000000 -0.153940\n",
       "2  Jackson Free Press  115.000000 -0.014122\n",
       "3   Mississippi Today   75.777778  0.120200\n",
       "4               Slate   28.333333 -0.079467\n",
       "5  The Clarion-Ledger  102.647059 -0.056303\n",
       "6           USA Today   39.666667 -0.182133\n",
       "7                WAPT   85.300000 -0.015560\n",
       "8                WJTV  116.307692  0.033315\n",
       "9                WLBT  118.578947 -0.016642"
      ]
     },
     "execution_count": 15,
     "metadata": {},
     "output_type": "execute_result"
    }
   ],
   "source": [
    "#Comparing average compound snetiment score of Mississippi based news media and rest of the news media\n",
    "news_data['Media'].to_list()\n",
    "media_list=['Slate','USA Today','CNN','ABC News','Jackson Free Press','Mississippi Today','WAPT','WJTV','The Clarion-Ledger','WLBT']\n",
    "news_data.Media.isin(media_list)\n",
    "news_data_plot3=news_data[news_data.Media.isin(media_list)]\n",
    "news_data_plot3\n",
    "news_data_plot3=news_data_plot3.groupby(\"Media\").mean()\n",
    "news_data_plot3=news_data_plot3.reset_index()\n",
    "news_data_plot3"
   ]
  },
  {
   "cell_type": "code",
   "execution_count": 16,
   "id": "59cd3a87",
   "metadata": {},
   "outputs": [
    {
     "data": {
      "image/png": "[encoded data removed]",
      "text/plain": [
       "<Figure size 792x288 with 1 Axes>"
      ]
     },
     "metadata": {},
     "output_type": "display_data"
    }
   ],
   "source": [
    "#plotting compound sentment score by media source\n",
    "\n",
    "news_data_plot3.sort_values('compound',inplace=True)\n",
    "plt.bar(news_data_plot3['Media'],news_data_plot3['compound'])\n",
    "\n",
    "#plt.xticks(x_month)\n",
    "plt.title(\"Average Compound Sentiment scores of News Articles by Media source\")\n",
    "plt.xlabel(\"Media\")\n",
    "plt.ylabel(\"Compound Sentiment Score\")\n",
    "plt.xticks(rotation = 90)\n",
    "plt.show()"
   ]
  },
  {
   "cell_type": "code",
   "execution_count": 74,
   "id": "9838e95b",
   "metadata": {},
   "outputs": [
    {
     "name": "stdout",
     "output_type": "stream",
     "text": [
      "<class 'datetime.datetime'>\n",
      "<class 'datetime.datetime'>\n",
      "<class 'datetime.datetime'>\n",
      "<class 'datetime.datetime'>\n",
      "<class 'datetime.datetime'>\n",
      "<class 'datetime.datetime'>\n",
      "<class 'datetime.datetime'>\n",
      "<class 'datetime.datetime'>\n",
      "<class 'datetime.datetime'>\n",
      "<class 'datetime.datetime'>\n",
      "<class 'datetime.datetime'>\n",
      "<class 'datetime.datetime'>\n",
      "<class 'datetime.datetime'>\n",
      "<class 'datetime.datetime'>\n",
      "<class 'datetime.datetime'>\n",
      "<class 'datetime.datetime'>\n",
      "<class 'datetime.datetime'>\n",
      "<class 'datetime.datetime'>\n",
      "<class 'datetime.datetime'>\n",
      "<class 'datetime.datetime'>\n",
      "<class 'datetime.datetime'>\n",
      "<class 'datetime.datetime'>\n",
      "<class 'datetime.datetime'>\n",
      "<class 'datetime.datetime'>\n",
      "<class 'datetime.datetime'>\n",
      "<class 'datetime.datetime'>\n",
      "<class 'datetime.datetime'>\n",
      "<class 'datetime.datetime'>\n",
      "<class 'datetime.datetime'>\n",
      "<class 'datetime.datetime'>\n",
      "<class 'datetime.datetime'>\n",
      "<class 'datetime.datetime'>\n",
      "<class 'datetime.datetime'>\n",
      "<class 'datetime.datetime'>\n",
      "<class 'datetime.datetime'>\n",
      "<class 'datetime.datetime'>\n",
      "<class 'datetime.datetime'>\n",
      "<class 'datetime.datetime'>\n",
      "<class 'datetime.datetime'>\n",
      "<class 'datetime.datetime'>\n",
      "<class 'datetime.datetime'>\n",
      "<class 'datetime.datetime'>\n",
      "<class 'datetime.datetime'>\n",
      "<class 'datetime.datetime'>\n",
      "<class 'datetime.datetime'>\n",
      "<class 'datetime.datetime'>\n",
      "<class 'datetime.datetime'>\n",
      "<class 'datetime.datetime'>\n",
      "<class 'datetime.datetime'>\n",
      "<class 'datetime.datetime'>\n",
      "<class 'datetime.datetime'>\n",
      "<class 'datetime.datetime'>\n",
      "<class 'datetime.datetime'>\n",
      "<class 'datetime.datetime'>\n",
      "<class 'datetime.datetime'>\n",
      "<class 'datetime.datetime'>\n",
      "<class 'datetime.datetime'>\n",
      "<class 'datetime.datetime'>\n",
      "<class 'datetime.datetime'>\n",
      "<class 'datetime.datetime'>\n",
      "<class 'datetime.datetime'>\n",
      "<class 'datetime.datetime'>\n",
      "<class 'datetime.datetime'>\n",
      "<class 'datetime.datetime'>\n",
      "<class 'datetime.datetime'>\n",
      "<class 'datetime.datetime'>\n",
      "<class 'datetime.datetime'>\n",
      "<class 'datetime.datetime'>\n",
      "<class 'datetime.datetime'>\n",
      "<class 'datetime.datetime'>\n",
      "<class 'datetime.datetime'>\n",
      "<class 'datetime.datetime'>\n",
      "<class 'datetime.datetime'>\n",
      "<class 'datetime.datetime'>\n",
      "<class 'datetime.datetime'>\n",
      "<class 'datetime.datetime'>\n",
      "<class 'datetime.datetime'>\n",
      "<class 'datetime.datetime'>\n",
      "<class 'datetime.datetime'>\n",
      "<class 'datetime.datetime'>\n",
      "<class 'datetime.datetime'>\n",
      "<class 'datetime.datetime'>\n",
      "<class 'datetime.datetime'>\n",
      "<class 'datetime.datetime'>\n",
      "<class 'datetime.datetime'>\n",
      "<class 'datetime.datetime'>\n",
      "<class 'datetime.datetime'>\n",
      "<class 'datetime.datetime'>\n",
      "<class 'datetime.datetime'>\n",
      "<class 'datetime.datetime'>\n",
      "<class 'datetime.datetime'>\n",
      "<class 'datetime.datetime'>\n",
      "<class 'datetime.datetime'>\n",
      "<class 'datetime.datetime'>\n",
      "<class 'datetime.datetime'>\n",
      "<class 'datetime.datetime'>\n",
      "<class 'datetime.datetime'>\n",
      "<class 'datetime.datetime'>\n",
      "<class 'datetime.datetime'>\n",
      "<class 'datetime.datetime'>\n",
      "<class 'datetime.datetime'>\n",
      "<class 'datetime.datetime'>\n",
      "<class 'datetime.datetime'>\n",
      "<class 'datetime.datetime'>\n",
      "<class 'datetime.datetime'>\n",
      "<class 'datetime.datetime'>\n",
      "<class 'datetime.datetime'>\n",
      "<class 'datetime.datetime'>\n",
      "<class 'datetime.datetime'>\n",
      "<class 'datetime.datetime'>\n",
      "<class 'datetime.datetime'>\n",
      "<class 'datetime.datetime'>\n",
      "<class 'datetime.datetime'>\n",
      "<class 'datetime.datetime'>\n",
      "<class 'datetime.datetime'>\n",
      "<class 'datetime.datetime'>\n",
      "<class 'datetime.datetime'>\n",
      "<class 'datetime.datetime'>\n",
      "<class 'datetime.datetime'>\n",
      "<class 'datetime.datetime'>\n",
      "<class 'datetime.datetime'>\n",
      "<class 'datetime.datetime'>\n",
      "<class 'datetime.datetime'>\n",
      "<class 'datetime.datetime'>\n",
      "<class 'datetime.datetime'>\n",
      "<class 'datetime.datetime'>\n",
      "<class 'datetime.datetime'>\n",
      "<class 'datetime.datetime'>\n",
      "<class 'datetime.datetime'>\n",
      "<class 'datetime.datetime'>\n",
      "<class 'datetime.datetime'>\n",
      "<class 'datetime.datetime'>\n",
      "<class 'datetime.datetime'>\n",
      "<class 'datetime.datetime'>\n",
      "<class 'datetime.datetime'>\n",
      "<class 'datetime.datetime'>\n",
      "<class 'datetime.datetime'>\n",
      "<class 'datetime.datetime'>\n",
      "<class 'datetime.datetime'>\n",
      "<class 'datetime.datetime'>\n",
      "<class 'datetime.datetime'>\n",
      "<class 'datetime.datetime'>\n",
      "<class 'datetime.datetime'>\n",
      "<class 'datetime.datetime'>\n",
      "<class 'datetime.datetime'>\n",
      "<class 'datetime.datetime'>\n",
      "<class 'datetime.datetime'>\n",
      "<class 'datetime.datetime'>\n",
      "<class 'datetime.datetime'>\n",
      "<class 'datetime.datetime'>\n",
      "<class 'datetime.datetime'>\n",
      "<class 'datetime.datetime'>\n",
      "<class 'datetime.datetime'>\n",
      "<class 'datetime.datetime'>\n",
      "<class 'datetime.datetime'>\n",
      "<class 'datetime.datetime'>\n",
      "<class 'datetime.datetime'>\n",
      "<class 'datetime.datetime'>\n",
      "<class 'datetime.datetime'>\n",
      "<class 'datetime.datetime'>\n",
      "<class 'datetime.datetime'>\n",
      "<class 'datetime.datetime'>\n",
      "<class 'datetime.datetime'>\n",
      "<class 'datetime.datetime'>\n",
      "<class 'datetime.datetime'>\n",
      "<class 'datetime.datetime'>\n",
      "<class 'datetime.datetime'>\n",
      "<class 'datetime.datetime'>\n",
      "<class 'datetime.datetime'>\n",
      "<class 'datetime.datetime'>\n",
      "<class 'datetime.datetime'>\n",
      "<class 'datetime.datetime'>\n",
      "<class 'datetime.datetime'>\n",
      "<class 'datetime.datetime'>\n",
      "<class 'datetime.datetime'>\n",
      "<class 'datetime.datetime'>\n",
      "<class 'datetime.datetime'>\n",
      "<class 'datetime.datetime'>\n",
      "<class 'datetime.datetime'>\n",
      "<class 'datetime.datetime'>\n",
      "<class 'datetime.datetime'>\n",
      "<class 'datetime.datetime'>\n",
      "<class 'datetime.datetime'>\n",
      "<class 'datetime.datetime'>\n",
      "<class 'datetime.datetime'>\n",
      "<class 'datetime.datetime'>\n",
      "<class 'datetime.datetime'>\n",
      "<class 'datetime.datetime'>\n",
      "<class 'datetime.datetime'>\n",
      "<class 'datetime.datetime'>\n",
      "<class 'datetime.datetime'>\n",
      "<class 'datetime.datetime'>\n",
      "<class 'datetime.datetime'>\n",
      "<class 'datetime.datetime'>\n",
      "<class 'datetime.datetime'>\n",
      "<class 'datetime.datetime'>\n",
      "<class 'datetime.datetime'>\n",
      "<class 'datetime.datetime'>\n",
      "<class 'datetime.datetime'>\n",
      "<class 'datetime.datetime'>\n",
      "<class 'datetime.datetime'>\n",
      "<class 'datetime.datetime'>\n",
      "<class 'datetime.datetime'>\n",
      "<class 'datetime.datetime'>\n",
      "<class 'datetime.datetime'>\n",
      "<class 'datetime.datetime'>\n"
     ]
    },
    {
     "data": {
      "text/html": [
       "<div>\n",
       "<style scoped>\n",
       "    .dataframe tbody tr th:only-of-type {\n",
       "        vertical-align: middle;\n",
       "    }\n",
       "\n",
       "    .dataframe tbody tr th {\n",
       "        vertical-align: top;\n",
       "    }\n",
       "\n",
       "    .dataframe thead th {\n",
       "        text-align: right;\n",
       "    }\n",
       "</style>\n",
       "<table border=\"1\" class=\"dataframe\">\n",
       "  <thead>\n",
       "    <tr style=\"text-align: right;\">\n",
       "      <th></th>\n",
       "      <th></th>\n",
       "      <th>Date</th>\n",
       "      <th>Title</th>\n",
       "      <th>Article</th>\n",
       "      <th>DateTime</th>\n",
       "    </tr>\n",
       "    <tr>\n",
       "      <th>New_Date</th>\n",
       "      <th>Media</th>\n",
       "      <th></th>\n",
       "      <th></th>\n",
       "      <th></th>\n",
       "      <th></th>\n",
       "    </tr>\n",
       "  </thead>\n",
       "  <tbody>\n",
       "    <tr>\n",
       "      <th rowspan=\"2\" valign=\"top\">2021-02-13</th>\n",
       "      <th>The Clarion-Ledger</th>\n",
       "      <td>1</td>\n",
       "      <td>1</td>\n",
       "      <td>1</td>\n",
       "      <td>1</td>\n",
       "    </tr>\n",
       "    <tr>\n",
       "      <th>The Vicksburg Post</th>\n",
       "      <td>1</td>\n",
       "      <td>1</td>\n",
       "      <td>1</td>\n",
       "      <td>1</td>\n",
       "    </tr>\n",
       "    <tr>\n",
       "      <th>2021-02-14</th>\n",
       "      <th>The Clarion-Ledger</th>\n",
       "      <td>1</td>\n",
       "      <td>1</td>\n",
       "      <td>1</td>\n",
       "      <td>1</td>\n",
       "    </tr>\n",
       "    <tr>\n",
       "      <th rowspan=\"2\" valign=\"top\">2021-02-16</th>\n",
       "      <th>CNN</th>\n",
       "      <td>1</td>\n",
       "      <td>1</td>\n",
       "      <td>1</td>\n",
       "      <td>1</td>\n",
       "    </tr>\n",
       "    <tr>\n",
       "      <th>WLBT</th>\n",
       "      <td>1</td>\n",
       "      <td>1</td>\n",
       "      <td>1</td>\n",
       "      <td>1</td>\n",
       "    </tr>\n",
       "    <tr>\n",
       "      <th>...</th>\n",
       "      <th>...</th>\n",
       "      <td>...</td>\n",
       "      <td>...</td>\n",
       "      <td>...</td>\n",
       "      <td>...</td>\n",
       "    </tr>\n",
       "    <tr>\n",
       "      <th rowspan=\"2\" valign=\"top\">2021-05-03</th>\n",
       "      <th>The Clarion-Ledger</th>\n",
       "      <td>1</td>\n",
       "      <td>1</td>\n",
       "      <td>1</td>\n",
       "      <td>1</td>\n",
       "    </tr>\n",
       "    <tr>\n",
       "      <th>Water Quality Products</th>\n",
       "      <td>1</td>\n",
       "      <td>1</td>\n",
       "      <td>1</td>\n",
       "      <td>1</td>\n",
       "    </tr>\n",
       "    <tr>\n",
       "      <th rowspan=\"2\" valign=\"top\">2021-05-04</th>\n",
       "      <th>The Clarion-Ledger</th>\n",
       "      <td>2</td>\n",
       "      <td>2</td>\n",
       "      <td>2</td>\n",
       "      <td>2</td>\n",
       "    </tr>\n",
       "    <tr>\n",
       "      <th>WBUR</th>\n",
       "      <td>2</td>\n",
       "      <td>2</td>\n",
       "      <td>2</td>\n",
       "      <td>2</td>\n",
       "    </tr>\n",
       "    <tr>\n",
       "      <th>2021-05-25</th>\n",
       "      <th>WAPT</th>\n",
       "      <td>1</td>\n",
       "      <td>1</td>\n",
       "      <td>1</td>\n",
       "      <td>1</td>\n",
       "    </tr>\n",
       "  </tbody>\n",
       "</table>\n",
       "<p>176 rows × 4 columns</p>\n",
       "</div>"
      ],
      "text/plain": [
       "                                   Date  Title  Article  DateTime\n",
       "New_Date   Media                                                 \n",
       "2021-02-13 The Clarion-Ledger         1      1        1         1\n",
       "           The Vicksburg Post         1      1        1         1\n",
       "2021-02-14 The Clarion-Ledger         1      1        1         1\n",
       "2021-02-16 CNN                        1      1        1         1\n",
       "           WLBT                       1      1        1         1\n",
       "...                                 ...    ...      ...       ...\n",
       "2021-05-03 The Clarion-Ledger         1      1        1         1\n",
       "           Water Quality Products     1      1        1         1\n",
       "2021-05-04 The Clarion-Ledger         2      2        2         2\n",
       "           WBUR                       2      2        2         2\n",
       "2021-05-25 WAPT                       1      1        1         1\n",
       "\n",
       "[176 rows x 4 columns]"
      ]
     },
     "execution_count": 74,
     "metadata": {},
     "output_type": "execute_result"
    }
   ],
   "source": [
    "news_data_plot=news_data[['Date','Title','Media','Article']].copy()\n",
    "\n",
    "\n",
    "news_data_plot=news_data_plot.dropna()\n",
    "news_data_plot['DateTime']=news_data_plot['Date'].apply(convertDate)\n",
    "news_data_plot=news_data_plot.dropna()\n",
    "\n",
    "news_data_plot4=news_data_plot.copy()\n",
    "\n",
    "def convertyearMonth(datetime):\n",
    "    try:\n",
    "        yearmonth=datetime.strftime('%Y-%m-%d')\n",
    "        return yearmonth\n",
    "    except:\n",
    "        return\n",
    "    \n",
    "news_data_plot4['New_Date'] = news_data_plot4['DateTime'].apply(convertyearMonth)\n",
    "news_data_plot4=news_data_plot4.groupby(['New_Date','Media']).count()\n",
    "                                         \n",
    "news_data_plot4\n"
   ]
  },
  {
   "cell_type": "code",
   "execution_count": 78,
   "id": "5ec63375",
   "metadata": {},
   "outputs": [],
   "source": [
    "#news_data_plot4=news_data_plot4.reset_index()\n",
    "# type(news_data_plot['DateTime'][0])\n",
    "# news_data_plot=news_data_plot.groupby(['DateTime','Media']).count()\n",
    "# news_data_plot"
   ]
  },
  {
   "cell_type": "code",
   "execution_count": 79,
   "id": "b677202c",
   "metadata": {},
   "outputs": [],
   "source": [
    "news_data_plot4=news_data_plot4.reset_index()"
   ]
  },
  {
   "cell_type": "code",
   "execution_count": 82,
   "id": "54a5cfd2",
   "metadata": {},
   "outputs": [
    {
     "data": {
      "text/plain": [
       "pandas._libs.tslibs.timestamps.Timestamp"
      ]
     },
     "execution_count": 82,
     "metadata": {},
     "output_type": "execute_result"
    }
   ],
   "source": [
    "type(news_data_plot4['New_Date'].to_list()[0])"
   ]
  },
  {
   "cell_type": "code",
   "execution_count": 81,
   "id": "7fee3893",
   "metadata": {},
   "outputs": [],
   "source": [
    "#news_data_plot4=news_data_plot4.reset_index()\n",
    "news_data_plot4['New_Date'] = pd.to_datetime(news_data_plot4['New_Date']) - pd.to_timedelta(7, unit='d')\n",
    "news_data_plot4 = news_data_plot4.groupby(['Media', pd.Grouper(key='New_Date', freq='W-MON')])['Title'].sum().reset_index().sort_values('New_Date')\n",
    "\n",
    "# X_axis=np.arrange(len())\n",
    "\n",
    "# X = ['Group A','Group B','Group C','Group D']\n",
    "# Ygirls = [10,20,20,40]\n",
    "# Zboys = [20,30,25,30]\n",
    "  \n",
    "# X_axis = np.arange(len(X))\n",
    "  \n",
    "# plt.bar(X_axis - 0.2, Ygirls, 0.4, label = 'Girls')\n",
    "# plt.bar(X_axis + 0.2, Zboys, 0.4, label = 'Boys')\n",
    "  \n",
    "# plt.xticks(X_axis, X)\n",
    "# plt.xlabel(\"Groups\")\n",
    "# plt.ylabel(\"Number of Students\")\n",
    "# plt.title(\"Number of Students in each group\")\n",
    "# plt.legend()\n",
    "# plt.show()"
   ]
  },
  {
   "cell_type": "code",
   "execution_count": 102,
   "id": "ebd97f05",
   "metadata": {},
   "outputs": [
    {
     "data": {
      "text/html": [
       "<div>\n",
       "<style scoped>\n",
       "    .dataframe tbody tr th:only-of-type {\n",
       "        vertical-align: middle;\n",
       "    }\n",
       "\n",
       "    .dataframe tbody tr th {\n",
       "        vertical-align: top;\n",
       "    }\n",
       "\n",
       "    .dataframe thead th {\n",
       "        text-align: right;\n",
       "    }\n",
       "</style>\n",
       "<table border=\"1\" class=\"dataframe\">\n",
       "  <thead>\n",
       "    <tr style=\"text-align: right;\">\n",
       "      <th></th>\n",
       "      <th></th>\n",
       "      <th>Title</th>\n",
       "    </tr>\n",
       "    <tr>\n",
       "      <th>New_Date</th>\n",
       "      <th>Media</th>\n",
       "      <th></th>\n",
       "    </tr>\n",
       "  </thead>\n",
       "  <tbody>\n",
       "    <tr>\n",
       "      <th rowspan=\"2\" valign=\"top\">2021-02-08</th>\n",
       "      <th>The Clarion-Ledger</th>\n",
       "      <td>2</td>\n",
       "    </tr>\n",
       "    <tr>\n",
       "      <th>The Vicksburg Post</th>\n",
       "      <td>1</td>\n",
       "    </tr>\n",
       "    <tr>\n",
       "      <th rowspan=\"3\" valign=\"top\">2021-02-15</th>\n",
       "      <th>ABC News</th>\n",
       "      <td>3</td>\n",
       "    </tr>\n",
       "    <tr>\n",
       "      <th>AP News</th>\n",
       "      <td>1</td>\n",
       "    </tr>\n",
       "    <tr>\n",
       "      <th>Action News 5</th>\n",
       "      <td>1</td>\n",
       "    </tr>\n",
       "    <tr>\n",
       "      <th>...</th>\n",
       "      <th>...</th>\n",
       "      <td>...</td>\n",
       "    </tr>\n",
       "    <tr>\n",
       "      <th rowspan=\"2\" valign=\"top\">2021-04-26</th>\n",
       "      <th>WLBT</th>\n",
       "      <td>2</td>\n",
       "    </tr>\n",
       "    <tr>\n",
       "      <th>Water Quality Products</th>\n",
       "      <td>1</td>\n",
       "    </tr>\n",
       "    <tr>\n",
       "      <th rowspan=\"2\" valign=\"top\">2021-05-03</th>\n",
       "      <th>The Clarion-Ledger</th>\n",
       "      <td>2</td>\n",
       "    </tr>\n",
       "    <tr>\n",
       "      <th>WBUR</th>\n",
       "      <td>2</td>\n",
       "    </tr>\n",
       "    <tr>\n",
       "      <th>2021-05-24</th>\n",
       "      <th>WAPT</th>\n",
       "      <td>1</td>\n",
       "    </tr>\n",
       "  </tbody>\n",
       "</table>\n",
       "<p>133 rows × 1 columns</p>\n",
       "</div>"
      ],
      "text/plain": [
       "                                   Title\n",
       "New_Date   Media                        \n",
       "2021-02-08 The Clarion-Ledger          2\n",
       "           The Vicksburg Post          1\n",
       "2021-02-15 ABC News                    3\n",
       "           AP News                     1\n",
       "           Action News 5               1\n",
       "...                                  ...\n",
       "2021-04-26 WLBT                        2\n",
       "           Water Quality Products      1\n",
       "2021-05-03 The Clarion-Ledger          2\n",
       "           WBUR                        2\n",
       "2021-05-24 WAPT                        1\n",
       "\n",
       "[133 rows x 1 columns]"
      ]
     },
     "execution_count": 102,
     "metadata": {},
     "output_type": "execute_result"
    }
   ],
   "source": [
    "\n",
    "\n",
    "news_data_plot4['New_Date'].to_list()\n",
    "\n",
    "news_data_plot4.groupby(['New_Date','Media']).sum()\n",
    "\n",
    "news_data_plot4['New_Date'].to_list()\n",
    "news_data_plot4"
   ]
  },
  {
   "cell_type": "code",
   "execution_count": 110,
   "id": "d214251b",
   "metadata": {},
   "outputs": [],
   "source": [
    "news_data_plot4['New_Date'].reset_index()\n",
    "\n",
    "x_list=news_data_plot4['New_Date'].unique()\n",
    "#news_data_plot4.to_csv(\"bargraph.csv\")"
   ]
  },
  {
   "cell_type": "code",
   "execution_count": 19,
   "id": "ac2bc91d",
   "metadata": {},
   "outputs": [],
   "source": [
    "# x = np.arange(x_list)\n",
    "# ax1 = plt.subplot(1,1,1)\n",
    "# w = 0.3\n",
    "# #plt.xticks(), will label the bars on x axis with the respective country names.\n",
    "# plt.xticks(x + w /2, news_data_plot4['New_Date'], rotation='vertical')\n",
    "# pop =ax1.bar(x, news_data_plot4['Title'], width=w, color='b', align='center')\n",
    "# #The trick is to use two different axes that share the same x axis, we have used ax1.twinx() method.\n",
    "# ax2 = ax1.twinx()\n",
    "# #We have calculated GDP by dividing gdpPerCapita to population.\n",
    "# gdp =ax2.bar(x + w, datasort['gdpPerCapita'] * datasort.population / 10**9, width=w,color='g',align='center')\n",
    "# #Set the Y axis label as GDP.\n",
    "# plt.ylabel('GDP')\n",
    "# #To set the legend on the plot we have used plt.legend()\n",
    "# plt.legend([pop, gdp],['Population in Millions', 'GDP in Billions'])\n",
    "# #To show the plot finally we have used plt.show().\n",
    "# plt.show()"
   ]
  },
  {
   "cell_type": "code",
   "execution_count": null,
   "id": "d6b14cd8",
   "metadata": {},
   "outputs": [],
   "source": [
    "#List of media source with 3 or more articles and The New York Times\n",
    "\n",
    "#['WLBT', 'The Clarion-Ledger', 'WJTV', 'WAPT', 'Jackson Free Press', 'Mississippi Today', 'ABC News', 'CNN', 'WBUR', 'NPR', 'Reuters', 'Slate', 'AP News', 'NBC News', 'Mississippi Free Press','The Tennessean', 'PBS', 'USA Today']"
   ]
  },
  {
   "cell_type": "code",
   "execution_count": 40,
   "id": "f7ff7529",
   "metadata": {
    "scrolled": true
   },
   "outputs": [],
   "source": [
    "news_data_nonMS=news_data_plot[news_data_plot['Media'].isin([\"The New York Times\",\"USA Today\",\"ABC News\",\"CNN\",\"WBUR\",\"NPR\",'Reuters', 'Slate', 'AP News', 'NBC News','The Tennessean', 'PBS'])]\n",
    "news_data_MS=news_data_plot[news_data_plot['Media'].isin(['WLBT', 'The Clarion-Ledger', 'WJTV', 'WAPT', 'Jackson Free Press', 'Mississippi Today','Mississippi Free Press'])]"
   ]
  },
  {
   "cell_type": "code",
   "execution_count": 36,
   "id": "076593e5",
   "metadata": {},
   "outputs": [
    {
     "name": "stdout",
     "output_type": "stream",
     "text": [
      "There are 203985 words in the combination of all articles\n"
     ]
    },
    {
     "data": {
      "image/png": "[encoded data removed]",
      "text/plain": [
       "<Figure size 432x288 with 1 Axes>"
      ]
     },
     "metadata": {
      "needs_background": "light"
     },
     "output_type": "display_data"
    }
   ],
   "source": [
    "#wordclouds of news articles for non-Mississippi based news media source \n",
    "def wordcloud(df):\n",
    "    text = \" \".join(review for review in df['Article'])\n",
    "    print (\"There are {} words in the combination of all articles\".format(len(text)))\n",
    "\n",
    "    stopwords = set(STOPWORDS)\n",
    "    stopwords.update([\"https\",'t','co','amp','s','M','water','city','Jackson','Mississippi','state','said','will','U'])\n",
    "    wordcloud = WordCloud(stopwords=stopwords, background_color=\"white\").generate(text)\n",
    "\n",
    "\n",
    "    plt.imshow(wordcloud, interpolation='bilinear')\n",
    "    plt.axis(\"off\")\n",
    "    plt.show()\n",
    "    \n",
    "wordcloud(news_data_nonMS)"
   ]
  },
  {
   "cell_type": "code",
   "execution_count": 42,
   "id": "36ad2bec",
   "metadata": {},
   "outputs": [
    {
     "name": "stdout",
     "output_type": "stream",
     "text": [
      "There are 448870 words in the combination of all articles\n"
     ]
    },
    {
     "data": {
      "image/png": "[encoded data removed]",
      "text/plain": [
       "<Figure size 432x288 with 1 Axes>"
      ]
     },
     "metadata": {
      "needs_background": "light"
     },
     "output_type": "display_data"
    }
   ],
   "source": [
    "wordcloud(news_data_MS)"
   ]
  },
  {
   "cell_type": "code",
   "execution_count": 57,
   "id": "12b38c5d",
   "metadata": {},
   "outputs": [],
   "source": [
    "#Function for common words\n",
    "def remove_stopwords(x):\n",
    "    stopword=stopwords.words('english')\n",
    "    stopword.append('MS')\n",
    "    stopword.append('The')\n",
    "    stopword.append('said.')\n",
    "    stopword.append('water')\n",
    "    stopword.append('city')\n",
    "    stopword.append('said')\n",
    "    stopword.append('Jackson')\n",
    "    stopword.append('Mississippi')\n",
    "    stopword.append('will')\n",
    "    stopword.append('state')\n",
    "    stopword.append('I')\n",
    "    stopword.append('-')\n",
    "\n",
    "    return [y for y in x if y not in stopword]\n",
    "\n",
    "\n",
    "def common_words(df):\n",
    "  \n",
    "    df['word list']=df['Article'].apply(lambda x:str(x).split())\n",
    "    df['word list']=df['word list'].apply(lambda x:remove_stopwords(x))\n",
    "    \n",
    "    top = Counter([item for sublist in df['word list'] for item in sublist])\n",
    "    df_common = pd.DataFrame(top.most_common(10))\n",
    "    df_common.columns = ['Common words','count']\n",
    "    print(df_common['Common words'].to_list())\n",
    "#     tweet_positive.style.background_gradient(cmap='Greens')\n",
    "    #return df_common\n",
    "    fig = px.bar(df_common, x=\"count\", y=\"Common words\", title='Most Commmon Words', orientation='h', \n",
    "             width=700, height=700,color='Common words')\n",
    "    fig.show()"
   ]
  },
  {
   "cell_type": "code",
   "execution_count": 55,
   "id": "0052ffcc",
   "metadata": {},
   "outputs": [
    {
     "name": "stdout",
     "output_type": "stream",
     "text": [
      "['residents', 'people', 'without', 'still', 'power', 'storms', 'Jackson,', 'pressure', 'havoc', 'Caption']\n"
     ]
    },
    {
     "name": "stderr",
     "output_type": "stream",
     "text": [
      "<ipython-input-54-25d676a59efc>:21: SettingWithCopyWarning:\n",
      "\n",
      "\n",
      "A value is trying to be set on a copy of a slice from a DataFrame.\n",
      "Try using .loc[row_indexer,col_indexer] = value instead\n",
      "\n",
      "See the caveats in the documentation: https://pandas.pydata.org/pandas-docs/stable/user_guide/indexing.html#returning-a-view-versus-a-copy\n",
      "\n",
      "<ipython-input-54-25d676a59efc>:22: SettingWithCopyWarning:\n",
      "\n",
      "\n",
      "A value is trying to be set on a copy of a slice from a DataFrame.\n",
      "Try using .loc[row_indexer,col_indexer] = value instead\n",
      "\n",
      "See the caveats in the documentation: https://pandas.pydata.org/pandas-docs/stable/user_guide/indexing.html#returning-a-view-versus-a-copy\n",
      "\n"
     ]
    },
    {
     "data": {
      "application/vnd.plotly.v1+json": {
       "config": {
        "plotlyServerURL": "https://plot.ly"
       },
       "data": [
        {
         "alignmentgroup": "True",
         "hovertemplate": "Common words=%{y}<br>count=%{x}<extra></extra>",
         "legendgroup": "residents",
         "marker": {
          "color": "#636efa"
         },
         "name": "residents",
         "offsetgroup": "residents",
         "orientation": "h",
         "showlegend": true,
         "textposition": "auto",
         "type": "bar",
         "x": [
          113
         ],
         "xaxis": "x",
         "y": [
          "residents"
         ],
         "yaxis": "y"
        },
        {
         "alignmentgroup": "True",
         "hovertemplate": "Common words=%{y}<br>count=%{x}<extra></extra>",
         "legendgroup": "people",
         "marker": {
          "color": "#EF553B"
         },
         "name": "people",
         "offsetgroup": "people",
         "orientation": "h",
         "showlegend": true,
         "textposition": "auto",
         "type": "bar",
         "x": [
          111
         ],
         "xaxis": "x",
         "y": [
          "people"
         ],
         "yaxis": "y"
        },
        {
         "alignmentgroup": "True",
         "hovertemplate": "Common words=%{y}<br>count=%{x}<extra></extra>",
         "legendgroup": "without",
         "marker": {
          "color": "#00cc96"
         },
         "name": "without",
         "offsetgroup": "without",
         "orientation": "h",
         "showlegend": true,
         "textposition": "auto",
         "type": "bar",
         "x": [
          107
         ],
         "xaxis": "x",
         "y": [
          "without"
         ],
         "yaxis": "y"
        },
        {
         "alignmentgroup": "True",
         "hovertemplate": "Common words=%{y}<br>count=%{x}<extra></extra>",
         "legendgroup": "still",
         "marker": {
          "color": "#ab63fa"
         },
         "name": "still",
         "offsetgroup": "still",
         "orientation": "h",
         "showlegend": true,
         "textposition": "auto",
         "type": "bar",
         "x": [
          101
         ],
         "xaxis": "x",
         "y": [
          "still"
         ],
         "yaxis": "y"
        },
        {
         "alignmentgroup": "True",
         "hovertemplate": "Common words=%{y}<br>count=%{x}<extra></extra>",
         "legendgroup": "power",
         "marker": {
          "color": "#FFA15A"
         },
         "name": "power",
         "offsetgroup": "power",
         "orientation": "h",
         "showlegend": true,
         "textposition": "auto",
         "type": "bar",
         "x": [
          92
         ],
         "xaxis": "x",
         "y": [
          "power"
         ],
         "yaxis": "y"
        },
        {
         "alignmentgroup": "True",
         "hovertemplate": "Common words=%{y}<br>count=%{x}<extra></extra>",
         "legendgroup": "storms",
         "marker": {
          "color": "#19d3f3"
         },
         "name": "storms",
         "offsetgroup": "storms",
         "orientation": "h",
         "showlegend": true,
         "textposition": "auto",
         "type": "bar",
         "x": [
          91
         ],
         "xaxis": "x",
         "y": [
          "storms"
         ],
         "yaxis": "y"
        },
        {
         "alignmentgroup": "True",
         "hovertemplate": "Common words=%{y}<br>count=%{x}<extra></extra>",
         "legendgroup": "Jackson,",
         "marker": {
          "color": "#FF6692"
         },
         "name": "Jackson,",
         "offsetgroup": "Jackson,",
         "orientation": "h",
         "showlegend": true,
         "textposition": "auto",
         "type": "bar",
         "x": [
          72
         ],
         "xaxis": "x",
         "y": [
          "Jackson,"
         ],
         "yaxis": "y"
        },
        {
         "alignmentgroup": "True",
         "hovertemplate": "Common words=%{y}<br>count=%{x}<extra></extra>",
         "legendgroup": "pressure",
         "marker": {
          "color": "#B6E880"
         },
         "name": "pressure",
         "offsetgroup": "pressure",
         "orientation": "h",
         "showlegend": true,
         "textposition": "auto",
         "type": "bar",
         "x": [
          68
         ],
         "xaxis": "x",
         "y": [
          "pressure"
         ],
         "yaxis": "y"
        },
        {
         "alignmentgroup": "True",
         "hovertemplate": "Common words=%{y}<br>count=%{x}<extra></extra>",
         "legendgroup": "havoc",
         "marker": {
          "color": "#FF97FF"
         },
         "name": "havoc",
         "offsetgroup": "havoc",
         "orientation": "h",
         "showlegend": true,
         "textposition": "auto",
         "type": "bar",
         "x": [
          64
         ],
         "xaxis": "x",
         "y": [
          "havoc"
         ],
         "yaxis": "y"
        },
        {
         "alignmentgroup": "True",
         "hovertemplate": "Common words=%{y}<br>count=%{x}<extra></extra>",
         "legendgroup": "Caption",
         "marker": {
          "color": "#FECB52"
         },
         "name": "Caption",
         "offsetgroup": "Caption",
         "orientation": "h",
         "showlegend": true,
         "textposition": "auto",
         "type": "bar",
         "x": [
          63
         ],
         "xaxis": "x",
         "y": [
          "Caption"
         ],
         "yaxis": "y"
        }
       ],
       "layout": {
        "barmode": "relative",
        "height": 700,
        "legend": {
         "title": {
          "text": "Common words"
         },
         "tracegroupgap": 0
        },
        "template": {
         "data": {
          "bar": [
           {
            "error_x": {
             "color": "#2a3f5f"
            },
            "error_y": {
             "color": "#2a3f5f"
            },
            "marker": {
             "line": {
              "color": "#E5ECF6",
              "width": 0.5
             }
            },
            "type": "bar"
           }
          ],
          "barpolar": [
           {
            "marker": {
             "line": {
              "color": "#E5ECF6",
              "width": 0.5
             }
            },
            "type": "barpolar"
           }
          ],
          "carpet": [
           {
            "aaxis": {
             "endlinecolor": "#2a3f5f",
             "gridcolor": "white",
             "linecolor": "white",
             "minorgridcolor": "white",
             "startlinecolor": "#2a3f5f"
            },
            "baxis": {
             "endlinecolor": "#2a3f5f",
             "gridcolor": "white",
             "linecolor": "white",
             "minorgridcolor": "white",
             "startlinecolor": "#2a3f5f"
            },
            "type": "carpet"
           }
          ],
          "choropleth": [
           {
            "colorbar": {
             "outlinewidth": 0,
             "ticks": ""
            },
            "type": "choropleth"
           }
          ],
          "contour": [
           {
            "colorbar": {
             "outlinewidth": 0,
             "ticks": ""
            },
            "colorscale": [
             [
              0,
              "#0d0887"
             ],
             [
              0.1111111111111111,
              "#46039f"
             ],
             [
              0.2222222222222222,
              "#7201a8"
             ],
             [
              0.3333333333333333,
              "#9c179e"
             ],
             [
              0.4444444444444444,
              "#bd3786"
             ],
             [
              0.5555555555555556,
              "#d8576b"
             ],
             [
              0.6666666666666666,
              "#ed7953"
             ],
             [
              0.7777777777777778,
              "#fb9f3a"
             ],
             [
              0.8888888888888888,
              "#fdca26"
             ],
             [
              1,
              "#f0f921"
             ]
            ],
            "type": "contour"
           }
          ],
          "contourcarpet": [
           {
            "colorbar": {
             "outlinewidth": 0,
             "ticks": ""
            },
            "type": "contourcarpet"
           }
          ],
          "heatmap": [
           {
            "colorbar": {
             "outlinewidth": 0,
             "ticks": ""
            },
            "colorscale": [
             [
              0,
              "#0d0887"
             ],
             [
              0.1111111111111111,
              "#46039f"
             ],
             [
              0.2222222222222222,
              "#7201a8"
             ],
             [
              0.3333333333333333,
              "#9c179e"
             ],
             [
              0.4444444444444444,
              "#bd3786"
             ],
             [
              0.5555555555555556,
              "#d8576b"
             ],
             [
              0.6666666666666666,
              "#ed7953"
             ],
             [
              0.7777777777777778,
              "#fb9f3a"
             ],
             [
              0.8888888888888888,
              "#fdca26"
             ],
             [
              1,
              "#f0f921"
             ]
            ],
            "type": "heatmap"
           }
          ],
          "heatmapgl": [
           {
            "colorbar": {
             "outlinewidth": 0,
             "ticks": ""
            },
            "colorscale": [
             [
              0,
              "#0d0887"
             ],
             [
              0.1111111111111111,
              "#46039f"
             ],
             [
              0.2222222222222222,
              "#7201a8"
             ],
             [
              0.3333333333333333,
              "#9c179e"
             ],
             [
              0.4444444444444444,
              "#bd3786"
             ],
             [
              0.5555555555555556,
              "#d8576b"
             ],
             [
              0.6666666666666666,
              "#ed7953"
             ],
             [
              0.7777777777777778,
              "#fb9f3a"
             ],
             [
              0.8888888888888888,
              "#fdca26"
             ],
             [
              1,
              "#f0f921"
             ]
            ],
            "type": "heatmapgl"
           }
          ],
          "histogram": [
           {
            "marker": {
             "colorbar": {
              "outlinewidth": 0,
              "ticks": ""
             }
            },
            "type": "histogram"
           }
          ],
          "histogram2d": [
           {
            "colorbar": {
             "outlinewidth": 0,
             "ticks": ""
            },
            "colorscale": [
             [
              0,
              "#0d0887"
             ],
             [
              0.1111111111111111,
              "#46039f"
             ],
             [
              0.2222222222222222,
              "#7201a8"
             ],
             [
              0.3333333333333333,
              "#9c179e"
             ],
             [
              0.4444444444444444,
              "#bd3786"
             ],
             [
              0.5555555555555556,
              "#d8576b"
             ],
             [
              0.6666666666666666,
              "#ed7953"
             ],
             [
              0.7777777777777778,
              "#fb9f3a"
             ],
             [
              0.8888888888888888,
              "#fdca26"
             ],
             [
              1,
              "#f0f921"
             ]
            ],
            "type": "histogram2d"
           }
          ],
          "histogram2dcontour": [
           {
            "colorbar": {
             "outlinewidth": 0,
             "ticks": ""
            },
            "colorscale": [
             [
              0,
              "#0d0887"
             ],
             [
              0.1111111111111111,
              "#46039f"
             ],
             [
              0.2222222222222222,
              "#7201a8"
             ],
             [
              0.3333333333333333,
              "#9c179e"
             ],
             [
              0.4444444444444444,
              "#bd3786"
             ],
             [
              0.5555555555555556,
              "#d8576b"
             ],
             [
              0.6666666666666666,
              "#ed7953"
             ],
             [
              0.7777777777777778,
              "#fb9f3a"
             ],
             [
              0.8888888888888888,
              "#fdca26"
             ],
             [
              1,
              "#f0f921"
             ]
            ],
            "type": "histogram2dcontour"
           }
          ],
          "mesh3d": [
           {
            "colorbar": {
             "outlinewidth": 0,
             "ticks": ""
            },
            "type": "mesh3d"
           }
          ],
          "parcoords": [
           {
            "line": {
             "colorbar": {
              "outlinewidth": 0,
              "ticks": ""
             }
            },
            "type": "parcoords"
           }
          ],
          "pie": [
           {
            "automargin": true,
            "type": "pie"
           }
          ],
          "scatter": [
           {
            "marker": {
             "colorbar": {
              "outlinewidth": 0,
              "ticks": ""
             }
            },
            "type": "scatter"
           }
          ],
          "scatter3d": [
           {
            "line": {
             "colorbar": {
              "outlinewidth": 0,
              "ticks": ""
             }
            },
            "marker": {
             "colorbar": {
              "outlinewidth": 0,
              "ticks": ""
             }
            },
            "type": "scatter3d"
           }
          ],
          "scattercarpet": [
           {
            "marker": {
             "colorbar": {
              "outlinewidth": 0,
              "ticks": ""
             }
            },
            "type": "scattercarpet"
           }
          ],
          "scattergeo": [
           {
            "marker": {
             "colorbar": {
              "outlinewidth": 0,
              "ticks": ""
             }
            },
            "type": "scattergeo"
           }
          ],
          "scattergl": [
           {
            "marker": {
             "colorbar": {
              "outlinewidth": 0,
              "ticks": ""
             }
            },
            "type": "scattergl"
           }
          ],
          "scattermapbox": [
           {
            "marker": {
             "colorbar": {
              "outlinewidth": 0,
              "ticks": ""
             }
            },
            "type": "scattermapbox"
           }
          ],
          "scatterpolar": [
           {
            "marker": {
             "colorbar": {
              "outlinewidth": 0,
              "ticks": ""
             }
            },
            "type": "scatterpolar"
           }
          ],
          "scatterpolargl": [
           {
            "marker": {
             "colorbar": {
              "outlinewidth": 0,
              "ticks": ""
             }
            },
            "type": "scatterpolargl"
           }
          ],
          "scatterternary": [
           {
            "marker": {
             "colorbar": {
              "outlinewidth": 0,
              "ticks": ""
             }
            },
            "type": "scatterternary"
           }
          ],
          "surface": [
           {
            "colorbar": {
             "outlinewidth": 0,
             "ticks": ""
            },
            "colorscale": [
             [
              0,
              "#0d0887"
             ],
             [
              0.1111111111111111,
              "#46039f"
             ],
             [
              0.2222222222222222,
              "#7201a8"
             ],
             [
              0.3333333333333333,
              "#9c179e"
             ],
             [
              0.4444444444444444,
              "#bd3786"
             ],
             [
              0.5555555555555556,
              "#d8576b"
             ],
             [
              0.6666666666666666,
              "#ed7953"
             ],
             [
              0.7777777777777778,
              "#fb9f3a"
             ],
             [
              0.8888888888888888,
              "#fdca26"
             ],
             [
              1,
              "#f0f921"
             ]
            ],
            "type": "surface"
           }
          ],
          "table": [
           {
            "cells": {
             "fill": {
              "color": "#EBF0F8"
             },
             "line": {
              "color": "white"
             }
            },
            "header": {
             "fill": {
              "color": "#C8D4E3"
             },
             "line": {
              "color": "white"
             }
            },
            "type": "table"
           }
          ]
         },
         "layout": {
          "annotationdefaults": {
           "arrowcolor": "#2a3f5f",
           "arrowhead": 0,
           "arrowwidth": 1
          },
          "autotypenumbers": "strict",
          "coloraxis": {
           "colorbar": {
            "outlinewidth": 0,
            "ticks": ""
           }
          },
          "colorscale": {
           "diverging": [
            [
             0,
             "#8e0152"
            ],
            [
             0.1,
             "#c51b7d"
            ],
            [
             0.2,
             "#de77ae"
            ],
            [
             0.3,
             "#f1b6da"
            ],
            [
             0.4,
             "#fde0ef"
            ],
            [
             0.5,
             "#f7f7f7"
            ],
            [
             0.6,
             "#e6f5d0"
            ],
            [
             0.7,
             "#b8e186"
            ],
            [
             0.8,
             "#7fbc41"
            ],
            [
             0.9,
             "#4d9221"
            ],
            [
             1,
             "#276419"
            ]
           ],
           "sequential": [
            [
             0,
             "#0d0887"
            ],
            [
             0.1111111111111111,
             "#46039f"
            ],
            [
             0.2222222222222222,
             "#7201a8"
            ],
            [
             0.3333333333333333,
             "#9c179e"
            ],
            [
             0.4444444444444444,
             "#bd3786"
            ],
            [
             0.5555555555555556,
             "#d8576b"
            ],
            [
             0.6666666666666666,
             "#ed7953"
            ],
            [
             0.7777777777777778,
             "#fb9f3a"
            ],
            [
             0.8888888888888888,
             "#fdca26"
            ],
            [
             1,
             "#f0f921"
            ]
           ],
           "sequentialminus": [
            [
             0,
             "#0d0887"
            ],
            [
             0.1111111111111111,
             "#46039f"
            ],
            [
             0.2222222222222222,
             "#7201a8"
            ],
            [
             0.3333333333333333,
             "#9c179e"
            ],
            [
             0.4444444444444444,
             "#bd3786"
            ],
            [
             0.5555555555555556,
             "#d8576b"
            ],
            [
             0.6666666666666666,
             "#ed7953"
            ],
            [
             0.7777777777777778,
             "#fb9f3a"
            ],
            [
             0.8888888888888888,
             "#fdca26"
            ],
            [
             1,
             "#f0f921"
            ]
           ]
          },
          "colorway": [
           "#636efa",
           "#EF553B",
           "#00cc96",
           "#ab63fa",
           "#FFA15A",
           "#19d3f3",
           "#FF6692",
           "#B6E880",
           "#FF97FF",
           "#FECB52"
          ],
          "font": {
           "color": "#2a3f5f"
          },
          "geo": {
           "bgcolor": "white",
           "lakecolor": "white",
           "landcolor": "#E5ECF6",
           "showlakes": true,
           "showland": true,
           "subunitcolor": "white"
          },
          "hoverlabel": {
           "align": "left"
          },
          "hovermode": "closest",
          "mapbox": {
           "style": "light"
          },
          "paper_bgcolor": "white",
          "plot_bgcolor": "#E5ECF6",
          "polar": {
           "angularaxis": {
            "gridcolor": "white",
            "linecolor": "white",
            "ticks": ""
           },
           "bgcolor": "#E5ECF6",
           "radialaxis": {
            "gridcolor": "white",
            "linecolor": "white",
            "ticks": ""
           }
          },
          "scene": {
           "xaxis": {
            "backgroundcolor": "#E5ECF6",
            "gridcolor": "white",
            "gridwidth": 2,
            "linecolor": "white",
            "showbackground": true,
            "ticks": "",
            "zerolinecolor": "white"
           },
           "yaxis": {
            "backgroundcolor": "#E5ECF6",
            "gridcolor": "white",
            "gridwidth": 2,
            "linecolor": "white",
            "showbackground": true,
            "ticks": "",
            "zerolinecolor": "white"
           },
           "zaxis": {
            "backgroundcolor": "#E5ECF6",
            "gridcolor": "white",
            "gridwidth": 2,
            "linecolor": "white",
            "showbackground": true,
            "ticks": "",
            "zerolinecolor": "white"
           }
          },
          "shapedefaults": {
           "line": {
            "color": "#2a3f5f"
           }
          },
          "ternary": {
           "aaxis": {
            "gridcolor": "white",
            "linecolor": "white",
            "ticks": ""
           },
           "baxis": {
            "gridcolor": "white",
            "linecolor": "white",
            "ticks": ""
           },
           "bgcolor": "#E5ECF6",
           "caxis": {
            "gridcolor": "white",
            "linecolor": "white",
            "ticks": ""
           }
          },
          "title": {
           "x": 0.05
          },
          "xaxis": {
           "automargin": true,
           "gridcolor": "white",
           "linecolor": "white",
           "ticks": "",
           "title": {
            "standoff": 15
           },
           "zerolinecolor": "white",
           "zerolinewidth": 2
          },
          "yaxis": {
           "automargin": true,
           "gridcolor": "white",
           "linecolor": "white",
           "ticks": "",
           "title": {
            "standoff": 15
           },
           "zerolinecolor": "white",
           "zerolinewidth": 2
          }
         }
        },
        "title": {
         "text": "Most Commmon Words"
        },
        "width": 700,
        "xaxis": {
         "anchor": "y",
         "domain": [
          0,
          1
         ],
         "title": {
          "text": "count"
         }
        },
        "yaxis": {
         "anchor": "x",
         "categoryarray": [
          "Caption",
          "havoc",
          "pressure",
          "Jackson,",
          "storms",
          "power",
          "still",
          "without",
          "people",
          "residents"
         ],
         "categoryorder": "array",
         "domain": [
          0,
          1
         ],
         "title": {
          "text": "Common words"
         }
        }
       }
      },
      "text/html": [
       "<div>                            <div id=\"c704f43e-b7de-4e52-8a4b-9e5f4f4c1b7c\" class=\"plotly-graph-div\" style=\"height:700px; width:700px;\"></div>            <script type=\"text/javascript\">                require([\"plotly\"], function(Plotly) {                    window.PLOTLYENV=window.PLOTLYENV || {};                                    if (document.getElementById(\"c704f43e-b7de-4e52-8a4b-9e5f4f4c1b7c\")) {                    Plotly.newPlot(                        \"c704f43e-b7de-4e52-8a4b-9e5f4f4c1b7c\",                        [{\"alignmentgroup\": \"True\", \"hovertemplate\": \"Common words=%{y}<br>count=%{x}<extra></extra>\", \"legendgroup\": \"residents\", \"marker\": {\"color\": \"#636efa\"}, \"name\": \"residents\", \"offsetgroup\": \"residents\", \"orientation\": \"h\", \"showlegend\": true, \"textposition\": \"auto\", \"type\": \"bar\", \"x\": [113], \"xaxis\": \"x\", \"y\": [\"residents\"], \"yaxis\": \"y\"}, {\"alignmentgroup\": \"True\", \"hovertemplate\": \"Common words=%{y}<br>count=%{x}<extra></extra>\", \"legendgroup\": \"people\", \"marker\": {\"color\": \"#EF553B\"}, \"name\": \"people\", \"offsetgroup\": \"people\", \"orientation\": \"h\", \"showlegend\": true, \"textposition\": \"auto\", \"type\": \"bar\", \"x\": [111], \"xaxis\": \"x\", \"y\": [\"people\"], \"yaxis\": \"y\"}, {\"alignmentgroup\": \"True\", \"hovertemplate\": \"Common words=%{y}<br>count=%{x}<extra></extra>\", \"legendgroup\": \"without\", \"marker\": {\"color\": \"#00cc96\"}, \"name\": \"without\", \"offsetgroup\": \"without\", \"orientation\": \"h\", \"showlegend\": true, \"textposition\": \"auto\", \"type\": \"bar\", \"x\": [107], \"xaxis\": \"x\", \"y\": [\"without\"], \"yaxis\": \"y\"}, {\"alignmentgroup\": \"True\", \"hovertemplate\": \"Common words=%{y}<br>count=%{x}<extra></extra>\", \"legendgroup\": \"still\", \"marker\": {\"color\": \"#ab63fa\"}, \"name\": \"still\", \"offsetgroup\": \"still\", \"orientation\": \"h\", \"showlegend\": true, \"textposition\": \"auto\", \"type\": \"bar\", \"x\": [101], \"xaxis\": \"x\", \"y\": [\"still\"], \"yaxis\": \"y\"}, {\"alignmentgroup\": \"True\", \"hovertemplate\": \"Common words=%{y}<br>count=%{x}<extra></extra>\", \"legendgroup\": \"power\", \"marker\": {\"color\": \"#FFA15A\"}, \"name\": \"power\", \"offsetgroup\": \"power\", \"orientation\": \"h\", \"showlegend\": true, \"textposition\": \"auto\", \"type\": \"bar\", \"x\": [92], \"xaxis\": \"x\", \"y\": [\"power\"], \"yaxis\": \"y\"}, {\"alignmentgroup\": \"True\", \"hovertemplate\": \"Common words=%{y}<br>count=%{x}<extra></extra>\", \"legendgroup\": \"storms\", \"marker\": {\"color\": \"#19d3f3\"}, \"name\": \"storms\", \"offsetgroup\": \"storms\", \"orientation\": \"h\", \"showlegend\": true, \"textposition\": \"auto\", \"type\": \"bar\", \"x\": [91], \"xaxis\": \"x\", \"y\": [\"storms\"], \"yaxis\": \"y\"}, {\"alignmentgroup\": \"True\", \"hovertemplate\": \"Common words=%{y}<br>count=%{x}<extra></extra>\", \"legendgroup\": \"Jackson,\", \"marker\": {\"color\": \"#FF6692\"}, \"name\": \"Jackson,\", \"offsetgroup\": \"Jackson,\", \"orientation\": \"h\", \"showlegend\": true, \"textposition\": \"auto\", \"type\": \"bar\", \"x\": [72], \"xaxis\": \"x\", \"y\": [\"Jackson,\"], \"yaxis\": \"y\"}, {\"alignmentgroup\": \"True\", \"hovertemplate\": \"Common words=%{y}<br>count=%{x}<extra></extra>\", \"legendgroup\": \"pressure\", \"marker\": {\"color\": \"#B6E880\"}, \"name\": \"pressure\", \"offsetgroup\": \"pressure\", \"orientation\": \"h\", \"showlegend\": true, \"textposition\": \"auto\", \"type\": \"bar\", \"x\": [68], \"xaxis\": \"x\", \"y\": [\"pressure\"], \"yaxis\": \"y\"}, {\"alignmentgroup\": \"True\", \"hovertemplate\": \"Common words=%{y}<br>count=%{x}<extra></extra>\", \"legendgroup\": \"havoc\", \"marker\": {\"color\": \"#FF97FF\"}, \"name\": \"havoc\", \"offsetgroup\": \"havoc\", \"orientation\": \"h\", \"showlegend\": true, \"textposition\": \"auto\", \"type\": \"bar\", \"x\": [64], \"xaxis\": \"x\", \"y\": [\"havoc\"], \"yaxis\": \"y\"}, {\"alignmentgroup\": \"True\", \"hovertemplate\": \"Common words=%{y}<br>count=%{x}<extra></extra>\", \"legendgroup\": \"Caption\", \"marker\": {\"color\": \"#FECB52\"}, \"name\": \"Caption\", \"offsetgroup\": \"Caption\", \"orientation\": \"h\", \"showlegend\": true, \"textposition\": \"auto\", \"type\": \"bar\", \"x\": [63], \"xaxis\": \"x\", \"y\": [\"Caption\"], \"yaxis\": \"y\"}],                        {\"barmode\": \"relative\", \"height\": 700, \"legend\": {\"title\": {\"text\": \"Common words\"}, \"tracegroupgap\": 0}, \"template\": {\"data\": {\"bar\": [{\"error_x\": {\"color\": \"#2a3f5f\"}, \"error_y\": {\"color\": \"#2a3f5f\"}, \"marker\": {\"line\": {\"color\": \"#E5ECF6\", \"width\": 0.5}}, \"type\": \"bar\"}], \"barpolar\": [{\"marker\": {\"line\": {\"color\": \"#E5ECF6\", \"width\": 0.5}}, \"type\": \"barpolar\"}], \"carpet\": [{\"aaxis\": {\"endlinecolor\": \"#2a3f5f\", \"gridcolor\": \"white\", \"linecolor\": \"white\", \"minorgridcolor\": \"white\", \"startlinecolor\": \"#2a3f5f\"}, \"baxis\": {\"endlinecolor\": \"#2a3f5f\", \"gridcolor\": \"white\", \"linecolor\": \"white\", \"minorgridcolor\": \"white\", \"startlinecolor\": \"#2a3f5f\"}, \"type\": \"carpet\"}], \"choropleth\": [{\"colorbar\": {\"outlinewidth\": 0, \"ticks\": \"\"}, \"type\": \"choropleth\"}], \"contour\": [{\"colorbar\": {\"outlinewidth\": 0, \"ticks\": \"\"}, \"colorscale\": [[0.0, \"#0d0887\"], [0.1111111111111111, \"#46039f\"], [0.2222222222222222, \"#7201a8\"], [0.3333333333333333, \"#9c179e\"], [0.4444444444444444, \"#bd3786\"], [0.5555555555555556, \"#d8576b\"], [0.6666666666666666, \"#ed7953\"], [0.7777777777777778, \"#fb9f3a\"], [0.8888888888888888, \"#fdca26\"], [1.0, \"#f0f921\"]], \"type\": \"contour\"}], \"contourcarpet\": [{\"colorbar\": {\"outlinewidth\": 0, \"ticks\": \"\"}, \"type\": \"contourcarpet\"}], \"heatmap\": [{\"colorbar\": {\"outlinewidth\": 0, \"ticks\": \"\"}, \"colorscale\": [[0.0, \"#0d0887\"], [0.1111111111111111, \"#46039f\"], [0.2222222222222222, \"#7201a8\"], [0.3333333333333333, \"#9c179e\"], [0.4444444444444444, \"#bd3786\"], [0.5555555555555556, \"#d8576b\"], [0.6666666666666666, \"#ed7953\"], [0.7777777777777778, \"#fb9f3a\"], [0.8888888888888888, \"#fdca26\"], [1.0, \"#f0f921\"]], \"type\": \"heatmap\"}], \"heatmapgl\": [{\"colorbar\": {\"outlinewidth\": 0, \"ticks\": \"\"}, \"colorscale\": [[0.0, \"#0d0887\"], [0.1111111111111111, \"#46039f\"], [0.2222222222222222, \"#7201a8\"], [0.3333333333333333, \"#9c179e\"], [0.4444444444444444, \"#bd3786\"], [0.5555555555555556, \"#d8576b\"], [0.6666666666666666, \"#ed7953\"], [0.7777777777777778, \"#fb9f3a\"], [0.8888888888888888, \"#fdca26\"], [1.0, \"#f0f921\"]], \"type\": \"heatmapgl\"}], \"histogram\": [{\"marker\": {\"colorbar\": {\"outlinewidth\": 0, \"ticks\": \"\"}}, \"type\": \"histogram\"}], \"histogram2d\": [{\"colorbar\": {\"outlinewidth\": 0, \"ticks\": \"\"}, \"colorscale\": [[0.0, \"#0d0887\"], [0.1111111111111111, \"#46039f\"], [0.2222222222222222, \"#7201a8\"], [0.3333333333333333, \"#9c179e\"], [0.4444444444444444, \"#bd3786\"], [0.5555555555555556, \"#d8576b\"], [0.6666666666666666, \"#ed7953\"], [0.7777777777777778, \"#fb9f3a\"], [0.8888888888888888, \"#fdca26\"], [1.0, \"#f0f921\"]], \"type\": \"histogram2d\"}], \"histogram2dcontour\": [{\"colorbar\": {\"outlinewidth\": 0, \"ticks\": \"\"}, \"colorscale\": [[0.0, \"#0d0887\"], [0.1111111111111111, \"#46039f\"], [0.2222222222222222, \"#7201a8\"], [0.3333333333333333, \"#9c179e\"], [0.4444444444444444, \"#bd3786\"], [0.5555555555555556, \"#d8576b\"], [0.6666666666666666, \"#ed7953\"], [0.7777777777777778, \"#fb9f3a\"], [0.8888888888888888, \"#fdca26\"], [1.0, \"#f0f921\"]], \"type\": \"histogram2dcontour\"}], \"mesh3d\": [{\"colorbar\": {\"outlinewidth\": 0, \"ticks\": \"\"}, \"type\": \"mesh3d\"}], \"parcoords\": [{\"line\": {\"colorbar\": {\"outlinewidth\": 0, \"ticks\": \"\"}}, \"type\": \"parcoords\"}], \"pie\": [{\"automargin\": true, \"type\": \"pie\"}], \"scatter\": [{\"marker\": {\"colorbar\": {\"outlinewidth\": 0, \"ticks\": \"\"}}, \"type\": \"scatter\"}], \"scatter3d\": [{\"line\": {\"colorbar\": {\"outlinewidth\": 0, \"ticks\": \"\"}}, \"marker\": {\"colorbar\": {\"outlinewidth\": 0, \"ticks\": \"\"}}, \"type\": \"scatter3d\"}], \"scattercarpet\": [{\"marker\": {\"colorbar\": {\"outlinewidth\": 0, \"ticks\": \"\"}}, \"type\": \"scattercarpet\"}], \"scattergeo\": [{\"marker\": {\"colorbar\": {\"outlinewidth\": 0, \"ticks\": \"\"}}, \"type\": \"scattergeo\"}], \"scattergl\": [{\"marker\": {\"colorbar\": {\"outlinewidth\": 0, \"ticks\": \"\"}}, \"type\": \"scattergl\"}], \"scattermapbox\": [{\"marker\": {\"colorbar\": {\"outlinewidth\": 0, \"ticks\": \"\"}}, \"type\": \"scattermapbox\"}], \"scatterpolar\": [{\"marker\": {\"colorbar\": {\"outlinewidth\": 0, \"ticks\": \"\"}}, \"type\": \"scatterpolar\"}], \"scatterpolargl\": [{\"marker\": {\"colorbar\": {\"outlinewidth\": 0, \"ticks\": \"\"}}, \"type\": \"scatterpolargl\"}], \"scatterternary\": [{\"marker\": {\"colorbar\": {\"outlinewidth\": 0, \"ticks\": \"\"}}, \"type\": \"scatterternary\"}], \"surface\": [{\"colorbar\": {\"outlinewidth\": 0, \"ticks\": \"\"}, \"colorscale\": [[0.0, \"#0d0887\"], [0.1111111111111111, \"#46039f\"], [0.2222222222222222, \"#7201a8\"], [0.3333333333333333, \"#9c179e\"], [0.4444444444444444, \"#bd3786\"], [0.5555555555555556, \"#d8576b\"], [0.6666666666666666, \"#ed7953\"], [0.7777777777777778, \"#fb9f3a\"], [0.8888888888888888, \"#fdca26\"], [1.0, \"#f0f921\"]], \"type\": \"surface\"}], \"table\": [{\"cells\": {\"fill\": {\"color\": \"#EBF0F8\"}, \"line\": {\"color\": \"white\"}}, \"header\": {\"fill\": {\"color\": \"#C8D4E3\"}, \"line\": {\"color\": \"white\"}}, \"type\": \"table\"}]}, \"layout\": {\"annotationdefaults\": {\"arrowcolor\": \"#2a3f5f\", \"arrowhead\": 0, \"arrowwidth\": 1}, \"autotypenumbers\": \"strict\", \"coloraxis\": {\"colorbar\": {\"outlinewidth\": 0, \"ticks\": \"\"}}, \"colorscale\": {\"diverging\": [[0, \"#8e0152\"], [0.1, \"#c51b7d\"], [0.2, \"#de77ae\"], [0.3, \"#f1b6da\"], [0.4, \"#fde0ef\"], [0.5, \"#f7f7f7\"], [0.6, \"#e6f5d0\"], [0.7, \"#b8e186\"], [0.8, \"#7fbc41\"], [0.9, \"#4d9221\"], [1, \"#276419\"]], \"sequential\": [[0.0, \"#0d0887\"], [0.1111111111111111, \"#46039f\"], [0.2222222222222222, \"#7201a8\"], [0.3333333333333333, \"#9c179e\"], [0.4444444444444444, \"#bd3786\"], [0.5555555555555556, \"#d8576b\"], [0.6666666666666666, \"#ed7953\"], [0.7777777777777778, \"#fb9f3a\"], [0.8888888888888888, \"#fdca26\"], [1.0, \"#f0f921\"]], \"sequentialminus\": [[0.0, \"#0d0887\"], [0.1111111111111111, \"#46039f\"], [0.2222222222222222, \"#7201a8\"], [0.3333333333333333, \"#9c179e\"], [0.4444444444444444, \"#bd3786\"], [0.5555555555555556, \"#d8576b\"], [0.6666666666666666, \"#ed7953\"], [0.7777777777777778, \"#fb9f3a\"], [0.8888888888888888, \"#fdca26\"], [1.0, \"#f0f921\"]]}, \"colorway\": [\"#636efa\", \"#EF553B\", \"#00cc96\", \"#ab63fa\", \"#FFA15A\", \"#19d3f3\", \"#FF6692\", \"#B6E880\", \"#FF97FF\", \"#FECB52\"], \"font\": {\"color\": \"#2a3f5f\"}, \"geo\": {\"bgcolor\": \"white\", \"lakecolor\": \"white\", \"landcolor\": \"#E5ECF6\", \"showlakes\": true, \"showland\": true, \"subunitcolor\": \"white\"}, \"hoverlabel\": {\"align\": \"left\"}, \"hovermode\": \"closest\", \"mapbox\": {\"style\": \"light\"}, \"paper_bgcolor\": \"white\", \"plot_bgcolor\": \"#E5ECF6\", \"polar\": {\"angularaxis\": {\"gridcolor\": \"white\", \"linecolor\": \"white\", \"ticks\": \"\"}, \"bgcolor\": \"#E5ECF6\", \"radialaxis\": {\"gridcolor\": \"white\", \"linecolor\": \"white\", \"ticks\": \"\"}}, \"scene\": {\"xaxis\": {\"backgroundcolor\": \"#E5ECF6\", \"gridcolor\": \"white\", \"gridwidth\": 2, \"linecolor\": \"white\", \"showbackground\": true, \"ticks\": \"\", \"zerolinecolor\": \"white\"}, \"yaxis\": {\"backgroundcolor\": \"#E5ECF6\", \"gridcolor\": \"white\", \"gridwidth\": 2, \"linecolor\": \"white\", \"showbackground\": true, \"ticks\": \"\", \"zerolinecolor\": \"white\"}, \"zaxis\": {\"backgroundcolor\": \"#E5ECF6\", \"gridcolor\": \"white\", \"gridwidth\": 2, \"linecolor\": \"white\", \"showbackground\": true, \"ticks\": \"\", \"zerolinecolor\": \"white\"}}, \"shapedefaults\": {\"line\": {\"color\": \"#2a3f5f\"}}, \"ternary\": {\"aaxis\": {\"gridcolor\": \"white\", \"linecolor\": \"white\", \"ticks\": \"\"}, \"baxis\": {\"gridcolor\": \"white\", \"linecolor\": \"white\", \"ticks\": \"\"}, \"bgcolor\": \"#E5ECF6\", \"caxis\": {\"gridcolor\": \"white\", \"linecolor\": \"white\", \"ticks\": \"\"}}, \"title\": {\"x\": 0.05}, \"xaxis\": {\"automargin\": true, \"gridcolor\": \"white\", \"linecolor\": \"white\", \"ticks\": \"\", \"title\": {\"standoff\": 15}, \"zerolinecolor\": \"white\", \"zerolinewidth\": 2}, \"yaxis\": {\"automargin\": true, \"gridcolor\": \"white\", \"linecolor\": \"white\", \"ticks\": \"\", \"title\": {\"standoff\": 15}, \"zerolinecolor\": \"white\", \"zerolinewidth\": 2}}}, \"title\": {\"text\": \"Most Commmon Words\"}, \"width\": 700, \"xaxis\": {\"anchor\": \"y\", \"domain\": [0.0, 1.0], \"title\": {\"text\": \"count\"}}, \"yaxis\": {\"anchor\": \"x\", \"categoryarray\": [\"Caption\", \"havoc\", \"pressure\", \"Jackson,\", \"storms\", \"power\", \"still\", \"without\", \"people\", \"residents\"], \"categoryorder\": \"array\", \"domain\": [0.0, 1.0], \"title\": {\"text\": \"Common words\"}}},                        {\"responsive\": true}                    ).then(function(){\n",
       "                            \n",
       "var gd = document.getElementById('c704f43e-b7de-4e52-8a4b-9e5f4f4c1b7c');\n",
       "var x = new MutationObserver(function (mutations, observer) {{\n",
       "        var display = window.getComputedStyle(gd).display;\n",
       "        if (!display || display === 'none') {{\n",
       "            console.log([gd, 'removed!']);\n",
       "            Plotly.purge(gd);\n",
       "            observer.disconnect();\n",
       "        }}\n",
       "}});\n",
       "\n",
       "// Listen for the removal of the full notebook cells\n",
       "var notebookContainer = gd.closest('#notebook-container');\n",
       "if (notebookContainer) {{\n",
       "    x.observe(notebookContainer, {childList: true});\n",
       "}}\n",
       "\n",
       "// Listen for the clearing of the current output cell\n",
       "var outputEl = gd.closest('.output');\n",
       "if (outputEl) {{\n",
       "    x.observe(outputEl, {childList: true});\n",
       "}}\n",
       "\n",
       "                        })                };                });            </script>        </div>"
      ]
     },
     "metadata": {},
     "output_type": "display_data"
    }
   ],
   "source": [
    "common_words(news_data_nonMS)"
   ]
  },
  {
   "cell_type": "code",
   "execution_count": 58,
   "id": "e3483e35",
   "metadata": {},
   "outputs": [
    {
     "name": "stderr",
     "output_type": "stream",
     "text": [
      "<ipython-input-57-f3917c8164e6>:22: SettingWithCopyWarning:\n",
      "\n",
      "\n",
      "A value is trying to be set on a copy of a slice from a DataFrame.\n",
      "Try using .loc[row_indexer,col_indexer] = value instead\n",
      "\n",
      "See the caveats in the documentation: https://pandas.pydata.org/pandas-docs/stable/user_guide/indexing.html#returning-a-view-versus-a-copy\n",
      "\n"
     ]
    },
    {
     "name": "stdout",
     "output_type": "stream",
     "text": [
      "['residents', 'City', 'system', 'without', '—', 'also', 'still', 'Williams', 'get', 'Water']\n"
     ]
    },
    {
     "name": "stderr",
     "output_type": "stream",
     "text": [
      "<ipython-input-57-f3917c8164e6>:23: SettingWithCopyWarning:\n",
      "\n",
      "\n",
      "A value is trying to be set on a copy of a slice from a DataFrame.\n",
      "Try using .loc[row_indexer,col_indexer] = value instead\n",
      "\n",
      "See the caveats in the documentation: https://pandas.pydata.org/pandas-docs/stable/user_guide/indexing.html#returning-a-view-versus-a-copy\n",
      "\n"
     ]
    },
    {
     "data": {
      "application/vnd.plotly.v1+json": {
       "config": {
        "plotlyServerURL": "https://plot.ly"
       },
       "data": [
        {
         "alignmentgroup": "True",
         "hovertemplate": "Common words=%{y}<br>count=%{x}<extra></extra>",
         "legendgroup": "residents",
         "marker": {
          "color": "#636efa"
         },
         "name": "residents",
         "offsetgroup": "residents",
         "orientation": "h",
         "showlegend": true,
         "textposition": "auto",
         "type": "bar",
         "x": [
          198
         ],
         "xaxis": "x",
         "y": [
          "residents"
         ],
         "yaxis": "y"
        },
        {
         "alignmentgroup": "True",
         "hovertemplate": "Common words=%{y}<br>count=%{x}<extra></extra>",
         "legendgroup": "City",
         "marker": {
          "color": "#EF553B"
         },
         "name": "City",
         "offsetgroup": "City",
         "orientation": "h",
         "showlegend": true,
         "textposition": "auto",
         "type": "bar",
         "x": [
          178
         ],
         "xaxis": "x",
         "y": [
          "City"
         ],
         "yaxis": "y"
        },
        {
         "alignmentgroup": "True",
         "hovertemplate": "Common words=%{y}<br>count=%{x}<extra></extra>",
         "legendgroup": "system",
         "marker": {
          "color": "#00cc96"
         },
         "name": "system",
         "offsetgroup": "system",
         "orientation": "h",
         "showlegend": true,
         "textposition": "auto",
         "type": "bar",
         "x": [
          177
         ],
         "xaxis": "x",
         "y": [
          "system"
         ],
         "yaxis": "y"
        },
        {
         "alignmentgroup": "True",
         "hovertemplate": "Common words=%{y}<br>count=%{x}<extra></extra>",
         "legendgroup": "without",
         "marker": {
          "color": "#ab63fa"
         },
         "name": "without",
         "offsetgroup": "without",
         "orientation": "h",
         "showlegend": true,
         "textposition": "auto",
         "type": "bar",
         "x": [
          141
         ],
         "xaxis": "x",
         "y": [
          "without"
         ],
         "yaxis": "y"
        },
        {
         "alignmentgroup": "True",
         "hovertemplate": "Common words=%{y}<br>count=%{x}<extra></extra>",
         "legendgroup": "—",
         "marker": {
          "color": "#FFA15A"
         },
         "name": "—",
         "offsetgroup": "—",
         "orientation": "h",
         "showlegend": true,
         "textposition": "auto",
         "type": "bar",
         "x": [
          141
         ],
         "xaxis": "x",
         "y": [
          "—"
         ],
         "yaxis": "y"
        },
        {
         "alignmentgroup": "True",
         "hovertemplate": "Common words=%{y}<br>count=%{x}<extra></extra>",
         "legendgroup": "also",
         "marker": {
          "color": "#19d3f3"
         },
         "name": "also",
         "offsetgroup": "also",
         "orientation": "h",
         "showlegend": true,
         "textposition": "auto",
         "type": "bar",
         "x": [
          136
         ],
         "xaxis": "x",
         "y": [
          "also"
         ],
         "yaxis": "y"
        },
        {
         "alignmentgroup": "True",
         "hovertemplate": "Common words=%{y}<br>count=%{x}<extra></extra>",
         "legendgroup": "still",
         "marker": {
          "color": "#FF6692"
         },
         "name": "still",
         "offsetgroup": "still",
         "orientation": "h",
         "showlegend": true,
         "textposition": "auto",
         "type": "bar",
         "x": [
          132
         ],
         "xaxis": "x",
         "y": [
          "still"
         ],
         "yaxis": "y"
        },
        {
         "alignmentgroup": "True",
         "hovertemplate": "Common words=%{y}<br>count=%{x}<extra></extra>",
         "legendgroup": "Williams",
         "marker": {
          "color": "#B6E880"
         },
         "name": "Williams",
         "offsetgroup": "Williams",
         "orientation": "h",
         "showlegend": true,
         "textposition": "auto",
         "type": "bar",
         "x": [
          129
         ],
         "xaxis": "x",
         "y": [
          "Williams"
         ],
         "yaxis": "y"
        },
        {
         "alignmentgroup": "True",
         "hovertemplate": "Common words=%{y}<br>count=%{x}<extra></extra>",
         "legendgroup": "get",
         "marker": {
          "color": "#FF97FF"
         },
         "name": "get",
         "offsetgroup": "get",
         "orientation": "h",
         "showlegend": true,
         "textposition": "auto",
         "type": "bar",
         "x": [
          123
         ],
         "xaxis": "x",
         "y": [
          "get"
         ],
         "yaxis": "y"
        },
        {
         "alignmentgroup": "True",
         "hovertemplate": "Common words=%{y}<br>count=%{x}<extra></extra>",
         "legendgroup": "Water",
         "marker": {
          "color": "#FECB52"
         },
         "name": "Water",
         "offsetgroup": "Water",
         "orientation": "h",
         "showlegend": true,
         "textposition": "auto",
         "type": "bar",
         "x": [
          118
         ],
         "xaxis": "x",
         "y": [
          "Water"
         ],
         "yaxis": "y"
        }
       ],
       "layout": {
        "barmode": "relative",
        "height": 700,
        "legend": {
         "title": {
          "text": "Common words"
         },
         "tracegroupgap": 0
        },
        "template": {
         "data": {
          "bar": [
           {
            "error_x": {
             "color": "#2a3f5f"
            },
            "error_y": {
             "color": "#2a3f5f"
            },
            "marker": {
             "line": {
              "color": "#E5ECF6",
              "width": 0.5
             }
            },
            "type": "bar"
           }
          ],
          "barpolar": [
           {
            "marker": {
             "line": {
              "color": "#E5ECF6",
              "width": 0.5
             }
            },
            "type": "barpolar"
           }
          ],
          "carpet": [
           {
            "aaxis": {
             "endlinecolor": "#2a3f5f",
             "gridcolor": "white",
             "linecolor": "white",
             "minorgridcolor": "white",
             "startlinecolor": "#2a3f5f"
            },
            "baxis": {
             "endlinecolor": "#2a3f5f",
             "gridcolor": "white",
             "linecolor": "white",
             "minorgridcolor": "white",
             "startlinecolor": "#2a3f5f"
            },
            "type": "carpet"
           }
          ],
          "choropleth": [
           {
            "colorbar": {
             "outlinewidth": 0,
             "ticks": ""
            },
            "type": "choropleth"
           }
          ],
          "contour": [
           {
            "colorbar": {
             "outlinewidth": 0,
             "ticks": ""
            },
            "colorscale": [
             [
              0,
              "#0d0887"
             ],
             [
              0.1111111111111111,
              "#46039f"
             ],
             [
              0.2222222222222222,
              "#7201a8"
             ],
             [
              0.3333333333333333,
              "#9c179e"
             ],
             [
              0.4444444444444444,
              "#bd3786"
             ],
             [
              0.5555555555555556,
              "#d8576b"
             ],
             [
              0.6666666666666666,
              "#ed7953"
             ],
             [
              0.7777777777777778,
              "#fb9f3a"
             ],
             [
              0.8888888888888888,
              "#fdca26"
             ],
             [
              1,
              "#f0f921"
             ]
            ],
            "type": "contour"
           }
          ],
          "contourcarpet": [
           {
            "colorbar": {
             "outlinewidth": 0,
             "ticks": ""
            },
            "type": "contourcarpet"
           }
          ],
          "heatmap": [
           {
            "colorbar": {
             "outlinewidth": 0,
             "ticks": ""
            },
            "colorscale": [
             [
              0,
              "#0d0887"
             ],
             [
              0.1111111111111111,
              "#46039f"
             ],
             [
              0.2222222222222222,
              "#7201a8"
             ],
             [
              0.3333333333333333,
              "#9c179e"
             ],
             [
              0.4444444444444444,
              "#bd3786"
             ],
             [
              0.5555555555555556,
              "#d8576b"
             ],
             [
              0.6666666666666666,
              "#ed7953"
             ],
             [
              0.7777777777777778,
              "#fb9f3a"
             ],
             [
              0.8888888888888888,
              "#fdca26"
             ],
             [
              1,
              "#f0f921"
             ]
            ],
            "type": "heatmap"
           }
          ],
          "heatmapgl": [
           {
            "colorbar": {
             "outlinewidth": 0,
             "ticks": ""
            },
            "colorscale": [
             [
              0,
              "#0d0887"
             ],
             [
              0.1111111111111111,
              "#46039f"
             ],
             [
              0.2222222222222222,
              "#7201a8"
             ],
             [
              0.3333333333333333,
              "#9c179e"
             ],
             [
              0.4444444444444444,
              "#bd3786"
             ],
             [
              0.5555555555555556,
              "#d8576b"
             ],
             [
              0.6666666666666666,
              "#ed7953"
             ],
             [
              0.7777777777777778,
              "#fb9f3a"
             ],
             [
              0.8888888888888888,
              "#fdca26"
             ],
             [
              1,
              "#f0f921"
             ]
            ],
            "type": "heatmapgl"
           }
          ],
          "histogram": [
           {
            "marker": {
             "colorbar": {
              "outlinewidth": 0,
              "ticks": ""
             }
            },
            "type": "histogram"
           }
          ],
          "histogram2d": [
           {
            "colorbar": {
             "outlinewidth": 0,
             "ticks": ""
            },
            "colorscale": [
             [
              0,
              "#0d0887"
             ],
             [
              0.1111111111111111,
              "#46039f"
             ],
             [
              0.2222222222222222,
              "#7201a8"
             ],
             [
              0.3333333333333333,
              "#9c179e"
             ],
             [
              0.4444444444444444,
              "#bd3786"
             ],
             [
              0.5555555555555556,
              "#d8576b"
             ],
             [
              0.6666666666666666,
              "#ed7953"
             ],
             [
              0.7777777777777778,
              "#fb9f3a"
             ],
             [
              0.8888888888888888,
              "#fdca26"
             ],
             [
              1,
              "#f0f921"
             ]
            ],
            "type": "histogram2d"
           }
          ],
          "histogram2dcontour": [
           {
            "colorbar": {
             "outlinewidth": 0,
             "ticks": ""
            },
            "colorscale": [
             [
              0,
              "#0d0887"
             ],
             [
              0.1111111111111111,
              "#46039f"
             ],
             [
              0.2222222222222222,
              "#7201a8"
             ],
             [
              0.3333333333333333,
              "#9c179e"
             ],
             [
              0.4444444444444444,
              "#bd3786"
             ],
             [
              0.5555555555555556,
              "#d8576b"
             ],
             [
              0.6666666666666666,
              "#ed7953"
             ],
             [
              0.7777777777777778,
              "#fb9f3a"
             ],
             [
              0.8888888888888888,
              "#fdca26"
             ],
             [
              1,
              "#f0f921"
             ]
            ],
            "type": "histogram2dcontour"
           }
          ],
          "mesh3d": [
           {
            "colorbar": {
             "outlinewidth": 0,
             "ticks": ""
            },
            "type": "mesh3d"
           }
          ],
          "parcoords": [
           {
            "line": {
             "colorbar": {
              "outlinewidth": 0,
              "ticks": ""
             }
            },
            "type": "parcoords"
           }
          ],
          "pie": [
           {
            "automargin": true,
            "type": "pie"
           }
          ],
          "scatter": [
           {
            "marker": {
             "colorbar": {
              "outlinewidth": 0,
              "ticks": ""
             }
            },
            "type": "scatter"
           }
          ],
          "scatter3d": [
           {
            "line": {
             "colorbar": {
              "outlinewidth": 0,
              "ticks": ""
             }
            },
            "marker": {
             "colorbar": {
              "outlinewidth": 0,
              "ticks": ""
             }
            },
            "type": "scatter3d"
           }
          ],
          "scattercarpet": [
           {
            "marker": {
             "colorbar": {
              "outlinewidth": 0,
              "ticks": ""
             }
            },
            "type": "scattercarpet"
           }
          ],
          "scattergeo": [
           {
            "marker": {
             "colorbar": {
              "outlinewidth": 0,
              "ticks": ""
             }
            },
            "type": "scattergeo"
           }
          ],
          "scattergl": [
           {
            "marker": {
             "colorbar": {
              "outlinewidth": 0,
              "ticks": ""
             }
            },
            "type": "scattergl"
           }
          ],
          "scattermapbox": [
           {
            "marker": {
             "colorbar": {
              "outlinewidth": 0,
              "ticks": ""
             }
            },
            "type": "scattermapbox"
           }
          ],
          "scatterpolar": [
           {
            "marker": {
             "colorbar": {
              "outlinewidth": 0,
              "ticks": ""
             }
            },
            "type": "scatterpolar"
           }
          ],
          "scatterpolargl": [
           {
            "marker": {
             "colorbar": {
              "outlinewidth": 0,
              "ticks": ""
             }
            },
            "type": "scatterpolargl"
           }
          ],
          "scatterternary": [
           {
            "marker": {
             "colorbar": {
              "outlinewidth": 0,
              "ticks": ""
             }
            },
            "type": "scatterternary"
           }
          ],
          "surface": [
           {
            "colorbar": {
             "outlinewidth": 0,
             "ticks": ""
            },
            "colorscale": [
             [
              0,
              "#0d0887"
             ],
             [
              0.1111111111111111,
              "#46039f"
             ],
             [
              0.2222222222222222,
              "#7201a8"
             ],
             [
              0.3333333333333333,
              "#9c179e"
             ],
             [
              0.4444444444444444,
              "#bd3786"
             ],
             [
              0.5555555555555556,
              "#d8576b"
             ],
             [
              0.6666666666666666,
              "#ed7953"
             ],
             [
              0.7777777777777778,
              "#fb9f3a"
             ],
             [
              0.8888888888888888,
              "#fdca26"
             ],
             [
              1,
              "#f0f921"
             ]
            ],
            "type": "surface"
           }
          ],
          "table": [
           {
            "cells": {
             "fill": {
              "color": "#EBF0F8"
             },
             "line": {
              "color": "white"
             }
            },
            "header": {
             "fill": {
              "color": "#C8D4E3"
             },
             "line": {
              "color": "white"
             }
            },
            "type": "table"
           }
          ]
         },
         "layout": {
          "annotationdefaults": {
           "arrowcolor": "#2a3f5f",
           "arrowhead": 0,
           "arrowwidth": 1
          },
          "autotypenumbers": "strict",
          "coloraxis": {
           "colorbar": {
            "outlinewidth": 0,
            "ticks": ""
           }
          },
          "colorscale": {
           "diverging": [
            [
             0,
             "#8e0152"
            ],
            [
             0.1,
             "#c51b7d"
            ],
            [
             0.2,
             "#de77ae"
            ],
            [
             0.3,
             "#f1b6da"
            ],
            [
             0.4,
             "#fde0ef"
            ],
            [
             0.5,
             "#f7f7f7"
            ],
            [
             0.6,
             "#e6f5d0"
            ],
            [
             0.7,
             "#b8e186"
            ],
            [
             0.8,
             "#7fbc41"
            ],
            [
             0.9,
             "#4d9221"
            ],
            [
             1,
             "#276419"
            ]
           ],
           "sequential": [
            [
             0,
             "#0d0887"
            ],
            [
             0.1111111111111111,
             "#46039f"
            ],
            [
             0.2222222222222222,
             "#7201a8"
            ],
            [
             0.3333333333333333,
             "#9c179e"
            ],
            [
             0.4444444444444444,
             "#bd3786"
            ],
            [
             0.5555555555555556,
             "#d8576b"
            ],
            [
             0.6666666666666666,
             "#ed7953"
            ],
            [
             0.7777777777777778,
             "#fb9f3a"
            ],
            [
             0.8888888888888888,
             "#fdca26"
            ],
            [
             1,
             "#f0f921"
            ]
           ],
           "sequentialminus": [
            [
             0,
             "#0d0887"
            ],
            [
             0.1111111111111111,
             "#46039f"
            ],
            [
             0.2222222222222222,
             "#7201a8"
            ],
            [
             0.3333333333333333,
             "#9c179e"
            ],
            [
             0.4444444444444444,
             "#bd3786"
            ],
            [
             0.5555555555555556,
             "#d8576b"
            ],
            [
             0.6666666666666666,
             "#ed7953"
            ],
            [
             0.7777777777777778,
             "#fb9f3a"
            ],
            [
             0.8888888888888888,
             "#fdca26"
            ],
            [
             1,
             "#f0f921"
            ]
           ]
          },
          "colorway": [
           "#636efa",
           "#EF553B",
           "#00cc96",
           "#ab63fa",
           "#FFA15A",
           "#19d3f3",
           "#FF6692",
           "#B6E880",
           "#FF97FF",
           "#FECB52"
          ],
          "font": {
           "color": "#2a3f5f"
          },
          "geo": {
           "bgcolor": "white",
           "lakecolor": "white",
           "landcolor": "#E5ECF6",
           "showlakes": true,
           "showland": true,
           "subunitcolor": "white"
          },
          "hoverlabel": {
           "align": "left"
          },
          "hovermode": "closest",
          "mapbox": {
           "style": "light"
          },
          "paper_bgcolor": "white",
          "plot_bgcolor": "#E5ECF6",
          "polar": {
           "angularaxis": {
            "gridcolor": "white",
            "linecolor": "white",
            "ticks": ""
           },
           "bgcolor": "#E5ECF6",
           "radialaxis": {
            "gridcolor": "white",
            "linecolor": "white",
            "ticks": ""
           }
          },
          "scene": {
           "xaxis": {
            "backgroundcolor": "#E5ECF6",
            "gridcolor": "white",
            "gridwidth": 2,
            "linecolor": "white",
            "showbackground": true,
            "ticks": "",
            "zerolinecolor": "white"
           },
           "yaxis": {
            "backgroundcolor": "#E5ECF6",
            "gridcolor": "white",
            "gridwidth": 2,
            "linecolor": "white",
            "showbackground": true,
            "ticks": "",
            "zerolinecolor": "white"
           },
           "zaxis": {
            "backgroundcolor": "#E5ECF6",
            "gridcolor": "white",
            "gridwidth": 2,
            "linecolor": "white",
            "showbackground": true,
            "ticks": "",
            "zerolinecolor": "white"
           }
          },
          "shapedefaults": {
           "line": {
            "color": "#2a3f5f"
           }
          },
          "ternary": {
           "aaxis": {
            "gridcolor": "white",
            "linecolor": "white",
            "ticks": ""
           },
           "baxis": {
            "gridcolor": "white",
            "linecolor": "white",
            "ticks": ""
           },
           "bgcolor": "#E5ECF6",
           "caxis": {
            "gridcolor": "white",
            "linecolor": "white",
            "ticks": ""
           }
          },
          "title": {
           "x": 0.05
          },
          "xaxis": {
           "automargin": true,
           "gridcolor": "white",
           "linecolor": "white",
           "ticks": "",
           "title": {
            "standoff": 15
           },
           "zerolinecolor": "white",
           "zerolinewidth": 2
          },
          "yaxis": {
           "automargin": true,
           "gridcolor": "white",
           "linecolor": "white",
           "ticks": "",
           "title": {
            "standoff": 15
           },
           "zerolinecolor": "white",
           "zerolinewidth": 2
          }
         }
        },
        "title": {
         "text": "Most Commmon Words"
        },
        "width": 700,
        "xaxis": {
         "anchor": "y",
         "domain": [
          0,
          1
         ],
         "title": {
          "text": "count"
         }
        },
        "yaxis": {
         "anchor": "x",
         "categoryarray": [
          "Water",
          "get",
          "Williams",
          "still",
          "also",
          "—",
          "without",
          "system",
          "City",
          "residents"
         ],
         "categoryorder": "array",
         "domain": [
          0,
          1
         ],
         "title": {
          "text": "Common words"
         }
        }
       }
      },
      "text/html": [
       "<div>                            <div id=\"4c677c65-793e-43ad-837e-0805da5b6ae1\" class=\"plotly-graph-div\" style=\"height:700px; width:700px;\"></div>            <script type=\"text/javascript\">                require([\"plotly\"], function(Plotly) {                    window.PLOTLYENV=window.PLOTLYENV || {};                                    if (document.getElementById(\"4c677c65-793e-43ad-837e-0805da5b6ae1\")) {                    Plotly.newPlot(                        \"4c677c65-793e-43ad-837e-0805da5b6ae1\",                        [{\"alignmentgroup\": \"True\", \"hovertemplate\": \"Common words=%{y}<br>count=%{x}<extra></extra>\", \"legendgroup\": \"residents\", \"marker\": {\"color\": \"#636efa\"}, \"name\": \"residents\", \"offsetgroup\": \"residents\", \"orientation\": \"h\", \"showlegend\": true, \"textposition\": \"auto\", \"type\": \"bar\", \"x\": [198], \"xaxis\": \"x\", \"y\": [\"residents\"], \"yaxis\": \"y\"}, {\"alignmentgroup\": \"True\", \"hovertemplate\": \"Common words=%{y}<br>count=%{x}<extra></extra>\", \"legendgroup\": \"City\", \"marker\": {\"color\": \"#EF553B\"}, \"name\": \"City\", \"offsetgroup\": \"City\", \"orientation\": \"h\", \"showlegend\": true, \"textposition\": \"auto\", \"type\": \"bar\", \"x\": [178], \"xaxis\": \"x\", \"y\": [\"City\"], \"yaxis\": \"y\"}, {\"alignmentgroup\": \"True\", \"hovertemplate\": \"Common words=%{y}<br>count=%{x}<extra></extra>\", \"legendgroup\": \"system\", \"marker\": {\"color\": \"#00cc96\"}, \"name\": \"system\", \"offsetgroup\": \"system\", \"orientation\": \"h\", \"showlegend\": true, \"textposition\": \"auto\", \"type\": \"bar\", \"x\": [177], \"xaxis\": \"x\", \"y\": [\"system\"], \"yaxis\": \"y\"}, {\"alignmentgroup\": \"True\", \"hovertemplate\": \"Common words=%{y}<br>count=%{x}<extra></extra>\", \"legendgroup\": \"without\", \"marker\": {\"color\": \"#ab63fa\"}, \"name\": \"without\", \"offsetgroup\": \"without\", \"orientation\": \"h\", \"showlegend\": true, \"textposition\": \"auto\", \"type\": \"bar\", \"x\": [141], \"xaxis\": \"x\", \"y\": [\"without\"], \"yaxis\": \"y\"}, {\"alignmentgroup\": \"True\", \"hovertemplate\": \"Common words=%{y}<br>count=%{x}<extra></extra>\", \"legendgroup\": \"\\u2014\", \"marker\": {\"color\": \"#FFA15A\"}, \"name\": \"\\u2014\", \"offsetgroup\": \"\\u2014\", \"orientation\": \"h\", \"showlegend\": true, \"textposition\": \"auto\", \"type\": \"bar\", \"x\": [141], \"xaxis\": \"x\", \"y\": [\"\\u2014\"], \"yaxis\": \"y\"}, {\"alignmentgroup\": \"True\", \"hovertemplate\": \"Common words=%{y}<br>count=%{x}<extra></extra>\", \"legendgroup\": \"also\", \"marker\": {\"color\": \"#19d3f3\"}, \"name\": \"also\", \"offsetgroup\": \"also\", \"orientation\": \"h\", \"showlegend\": true, \"textposition\": \"auto\", \"type\": \"bar\", \"x\": [136], \"xaxis\": \"x\", \"y\": [\"also\"], \"yaxis\": \"y\"}, {\"alignmentgroup\": \"True\", \"hovertemplate\": \"Common words=%{y}<br>count=%{x}<extra></extra>\", \"legendgroup\": \"still\", \"marker\": {\"color\": \"#FF6692\"}, \"name\": \"still\", \"offsetgroup\": \"still\", \"orientation\": \"h\", \"showlegend\": true, \"textposition\": \"auto\", \"type\": \"bar\", \"x\": [132], \"xaxis\": \"x\", \"y\": [\"still\"], \"yaxis\": \"y\"}, {\"alignmentgroup\": \"True\", \"hovertemplate\": \"Common words=%{y}<br>count=%{x}<extra></extra>\", \"legendgroup\": \"Williams\", \"marker\": {\"color\": \"#B6E880\"}, \"name\": \"Williams\", \"offsetgroup\": \"Williams\", \"orientation\": \"h\", \"showlegend\": true, \"textposition\": \"auto\", \"type\": \"bar\", \"x\": [129], \"xaxis\": \"x\", \"y\": [\"Williams\"], \"yaxis\": \"y\"}, {\"alignmentgroup\": \"True\", \"hovertemplate\": \"Common words=%{y}<br>count=%{x}<extra></extra>\", \"legendgroup\": \"get\", \"marker\": {\"color\": \"#FF97FF\"}, \"name\": \"get\", \"offsetgroup\": \"get\", \"orientation\": \"h\", \"showlegend\": true, \"textposition\": \"auto\", \"type\": \"bar\", \"x\": [123], \"xaxis\": \"x\", \"y\": [\"get\"], \"yaxis\": \"y\"}, {\"alignmentgroup\": \"True\", \"hovertemplate\": \"Common words=%{y}<br>count=%{x}<extra></extra>\", \"legendgroup\": \"Water\", \"marker\": {\"color\": \"#FECB52\"}, \"name\": \"Water\", \"offsetgroup\": \"Water\", \"orientation\": \"h\", \"showlegend\": true, \"textposition\": \"auto\", \"type\": \"bar\", \"x\": [118], \"xaxis\": \"x\", \"y\": [\"Water\"], \"yaxis\": \"y\"}],                        {\"barmode\": \"relative\", \"height\": 700, \"legend\": {\"title\": {\"text\": \"Common words\"}, \"tracegroupgap\": 0}, \"template\": {\"data\": {\"bar\": [{\"error_x\": {\"color\": \"#2a3f5f\"}, \"error_y\": {\"color\": \"#2a3f5f\"}, \"marker\": {\"line\": {\"color\": \"#E5ECF6\", \"width\": 0.5}}, \"type\": \"bar\"}], \"barpolar\": [{\"marker\": {\"line\": {\"color\": \"#E5ECF6\", \"width\": 0.5}}, \"type\": \"barpolar\"}], \"carpet\": [{\"aaxis\": {\"endlinecolor\": \"#2a3f5f\", \"gridcolor\": \"white\", \"linecolor\": \"white\", \"minorgridcolor\": \"white\", \"startlinecolor\": \"#2a3f5f\"}, \"baxis\": {\"endlinecolor\": \"#2a3f5f\", \"gridcolor\": \"white\", \"linecolor\": \"white\", \"minorgridcolor\": \"white\", \"startlinecolor\": \"#2a3f5f\"}, \"type\": \"carpet\"}], \"choropleth\": [{\"colorbar\": {\"outlinewidth\": 0, \"ticks\": \"\"}, \"type\": \"choropleth\"}], \"contour\": [{\"colorbar\": {\"outlinewidth\": 0, \"ticks\": \"\"}, \"colorscale\": [[0.0, \"#0d0887\"], [0.1111111111111111, \"#46039f\"], [0.2222222222222222, \"#7201a8\"], [0.3333333333333333, \"#9c179e\"], [0.4444444444444444, \"#bd3786\"], [0.5555555555555556, \"#d8576b\"], [0.6666666666666666, \"#ed7953\"], [0.7777777777777778, \"#fb9f3a\"], [0.8888888888888888, \"#fdca26\"], [1.0, \"#f0f921\"]], \"type\": \"contour\"}], \"contourcarpet\": [{\"colorbar\": {\"outlinewidth\": 0, \"ticks\": \"\"}, \"type\": \"contourcarpet\"}], \"heatmap\": [{\"colorbar\": {\"outlinewidth\": 0, \"ticks\": \"\"}, \"colorscale\": [[0.0, \"#0d0887\"], [0.1111111111111111, \"#46039f\"], [0.2222222222222222, \"#7201a8\"], [0.3333333333333333, \"#9c179e\"], [0.4444444444444444, \"#bd3786\"], [0.5555555555555556, \"#d8576b\"], [0.6666666666666666, \"#ed7953\"], [0.7777777777777778, \"#fb9f3a\"], [0.8888888888888888, \"#fdca26\"], [1.0, \"#f0f921\"]], \"type\": \"heatmap\"}], \"heatmapgl\": [{\"colorbar\": {\"outlinewidth\": 0, \"ticks\": \"\"}, \"colorscale\": [[0.0, \"#0d0887\"], [0.1111111111111111, \"#46039f\"], [0.2222222222222222, \"#7201a8\"], [0.3333333333333333, \"#9c179e\"], [0.4444444444444444, \"#bd3786\"], [0.5555555555555556, \"#d8576b\"], [0.6666666666666666, \"#ed7953\"], [0.7777777777777778, \"#fb9f3a\"], [0.8888888888888888, \"#fdca26\"], [1.0, \"#f0f921\"]], \"type\": \"heatmapgl\"}], \"histogram\": [{\"marker\": {\"colorbar\": {\"outlinewidth\": 0, \"ticks\": \"\"}}, \"type\": \"histogram\"}], \"histogram2d\": [{\"colorbar\": {\"outlinewidth\": 0, \"ticks\": \"\"}, \"colorscale\": [[0.0, \"#0d0887\"], [0.1111111111111111, \"#46039f\"], [0.2222222222222222, \"#7201a8\"], [0.3333333333333333, \"#9c179e\"], [0.4444444444444444, \"#bd3786\"], [0.5555555555555556, \"#d8576b\"], [0.6666666666666666, \"#ed7953\"], [0.7777777777777778, \"#fb9f3a\"], [0.8888888888888888, \"#fdca26\"], [1.0, \"#f0f921\"]], \"type\": \"histogram2d\"}], \"histogram2dcontour\": [{\"colorbar\": {\"outlinewidth\": 0, \"ticks\": \"\"}, \"colorscale\": [[0.0, \"#0d0887\"], [0.1111111111111111, \"#46039f\"], [0.2222222222222222, \"#7201a8\"], [0.3333333333333333, \"#9c179e\"], [0.4444444444444444, \"#bd3786\"], [0.5555555555555556, \"#d8576b\"], [0.6666666666666666, \"#ed7953\"], [0.7777777777777778, \"#fb9f3a\"], [0.8888888888888888, \"#fdca26\"], [1.0, \"#f0f921\"]], \"type\": \"histogram2dcontour\"}], \"mesh3d\": [{\"colorbar\": {\"outlinewidth\": 0, \"ticks\": \"\"}, \"type\": \"mesh3d\"}], \"parcoords\": [{\"line\": {\"colorbar\": {\"outlinewidth\": 0, \"ticks\": \"\"}}, \"type\": \"parcoords\"}], \"pie\": [{\"automargin\": true, \"type\": \"pie\"}], \"scatter\": [{\"marker\": {\"colorbar\": {\"outlinewidth\": 0, \"ticks\": \"\"}}, \"type\": \"scatter\"}], \"scatter3d\": [{\"line\": {\"colorbar\": {\"outlinewidth\": 0, \"ticks\": \"\"}}, \"marker\": {\"colorbar\": {\"outlinewidth\": 0, \"ticks\": \"\"}}, \"type\": \"scatter3d\"}], \"scattercarpet\": [{\"marker\": {\"colorbar\": {\"outlinewidth\": 0, \"ticks\": \"\"}}, \"type\": \"scattercarpet\"}], \"scattergeo\": [{\"marker\": {\"colorbar\": {\"outlinewidth\": 0, \"ticks\": \"\"}}, \"type\": \"scattergeo\"}], \"scattergl\": [{\"marker\": {\"colorbar\": {\"outlinewidth\": 0, \"ticks\": \"\"}}, \"type\": \"scattergl\"}], \"scattermapbox\": [{\"marker\": {\"colorbar\": {\"outlinewidth\": 0, \"ticks\": \"\"}}, \"type\": \"scattermapbox\"}], \"scatterpolar\": [{\"marker\": {\"colorbar\": {\"outlinewidth\": 0, \"ticks\": \"\"}}, \"type\": \"scatterpolar\"}], \"scatterpolargl\": [{\"marker\": {\"colorbar\": {\"outlinewidth\": 0, \"ticks\": \"\"}}, \"type\": \"scatterpolargl\"}], \"scatterternary\": [{\"marker\": {\"colorbar\": {\"outlinewidth\": 0, \"ticks\": \"\"}}, \"type\": \"scatterternary\"}], \"surface\": [{\"colorbar\": {\"outlinewidth\": 0, \"ticks\": \"\"}, \"colorscale\": [[0.0, \"#0d0887\"], [0.1111111111111111, \"#46039f\"], [0.2222222222222222, \"#7201a8\"], [0.3333333333333333, \"#9c179e\"], [0.4444444444444444, \"#bd3786\"], [0.5555555555555556, \"#d8576b\"], [0.6666666666666666, \"#ed7953\"], [0.7777777777777778, \"#fb9f3a\"], [0.8888888888888888, \"#fdca26\"], [1.0, \"#f0f921\"]], \"type\": \"surface\"}], \"table\": [{\"cells\": {\"fill\": {\"color\": \"#EBF0F8\"}, \"line\": {\"color\": \"white\"}}, \"header\": {\"fill\": {\"color\": \"#C8D4E3\"}, \"line\": {\"color\": \"white\"}}, \"type\": \"table\"}]}, \"layout\": {\"annotationdefaults\": {\"arrowcolor\": \"#2a3f5f\", \"arrowhead\": 0, \"arrowwidth\": 1}, \"autotypenumbers\": \"strict\", \"coloraxis\": {\"colorbar\": {\"outlinewidth\": 0, \"ticks\": \"\"}}, \"colorscale\": {\"diverging\": [[0, \"#8e0152\"], [0.1, \"#c51b7d\"], [0.2, \"#de77ae\"], [0.3, \"#f1b6da\"], [0.4, \"#fde0ef\"], [0.5, \"#f7f7f7\"], [0.6, \"#e6f5d0\"], [0.7, \"#b8e186\"], [0.8, \"#7fbc41\"], [0.9, \"#4d9221\"], [1, \"#276419\"]], \"sequential\": [[0.0, \"#0d0887\"], [0.1111111111111111, \"#46039f\"], [0.2222222222222222, \"#7201a8\"], [0.3333333333333333, \"#9c179e\"], [0.4444444444444444, \"#bd3786\"], [0.5555555555555556, \"#d8576b\"], [0.6666666666666666, \"#ed7953\"], [0.7777777777777778, \"#fb9f3a\"], [0.8888888888888888, \"#fdca26\"], [1.0, \"#f0f921\"]], \"sequentialminus\": [[0.0, \"#0d0887\"], [0.1111111111111111, \"#46039f\"], [0.2222222222222222, \"#7201a8\"], [0.3333333333333333, \"#9c179e\"], [0.4444444444444444, \"#bd3786\"], [0.5555555555555556, \"#d8576b\"], [0.6666666666666666, \"#ed7953\"], [0.7777777777777778, \"#fb9f3a\"], [0.8888888888888888, \"#fdca26\"], [1.0, \"#f0f921\"]]}, \"colorway\": [\"#636efa\", \"#EF553B\", \"#00cc96\", \"#ab63fa\", \"#FFA15A\", \"#19d3f3\", \"#FF6692\", \"#B6E880\", \"#FF97FF\", \"#FECB52\"], \"font\": {\"color\": \"#2a3f5f\"}, \"geo\": {\"bgcolor\": \"white\", \"lakecolor\": \"white\", \"landcolor\": \"#E5ECF6\", \"showlakes\": true, \"showland\": true, \"subunitcolor\": \"white\"}, \"hoverlabel\": {\"align\": \"left\"}, \"hovermode\": \"closest\", \"mapbox\": {\"style\": \"light\"}, \"paper_bgcolor\": \"white\", \"plot_bgcolor\": \"#E5ECF6\", \"polar\": {\"angularaxis\": {\"gridcolor\": \"white\", \"linecolor\": \"white\", \"ticks\": \"\"}, \"bgcolor\": \"#E5ECF6\", \"radialaxis\": {\"gridcolor\": \"white\", \"linecolor\": \"white\", \"ticks\": \"\"}}, \"scene\": {\"xaxis\": {\"backgroundcolor\": \"#E5ECF6\", \"gridcolor\": \"white\", \"gridwidth\": 2, \"linecolor\": \"white\", \"showbackground\": true, \"ticks\": \"\", \"zerolinecolor\": \"white\"}, \"yaxis\": {\"backgroundcolor\": \"#E5ECF6\", \"gridcolor\": \"white\", \"gridwidth\": 2, \"linecolor\": \"white\", \"showbackground\": true, \"ticks\": \"\", \"zerolinecolor\": \"white\"}, \"zaxis\": {\"backgroundcolor\": \"#E5ECF6\", \"gridcolor\": \"white\", \"gridwidth\": 2, \"linecolor\": \"white\", \"showbackground\": true, \"ticks\": \"\", \"zerolinecolor\": \"white\"}}, \"shapedefaults\": {\"line\": {\"color\": \"#2a3f5f\"}}, \"ternary\": {\"aaxis\": {\"gridcolor\": \"white\", \"linecolor\": \"white\", \"ticks\": \"\"}, \"baxis\": {\"gridcolor\": \"white\", \"linecolor\": \"white\", \"ticks\": \"\"}, \"bgcolor\": \"#E5ECF6\", \"caxis\": {\"gridcolor\": \"white\", \"linecolor\": \"white\", \"ticks\": \"\"}}, \"title\": {\"x\": 0.05}, \"xaxis\": {\"automargin\": true, \"gridcolor\": \"white\", \"linecolor\": \"white\", \"ticks\": \"\", \"title\": {\"standoff\": 15}, \"zerolinecolor\": \"white\", \"zerolinewidth\": 2}, \"yaxis\": {\"automargin\": true, \"gridcolor\": \"white\", \"linecolor\": \"white\", \"ticks\": \"\", \"title\": {\"standoff\": 15}, \"zerolinecolor\": \"white\", \"zerolinewidth\": 2}}}, \"title\": {\"text\": \"Most Commmon Words\"}, \"width\": 700, \"xaxis\": {\"anchor\": \"y\", \"domain\": [0.0, 1.0], \"title\": {\"text\": \"count\"}}, \"yaxis\": {\"anchor\": \"x\", \"categoryarray\": [\"Water\", \"get\", \"Williams\", \"still\", \"also\", \"\\u2014\", \"without\", \"system\", \"City\", \"residents\"], \"categoryorder\": \"array\", \"domain\": [0.0, 1.0], \"title\": {\"text\": \"Common words\"}}},                        {\"responsive\": true}                    ).then(function(){\n",
       "                            \n",
       "var gd = document.getElementById('4c677c65-793e-43ad-837e-0805da5b6ae1');\n",
       "var x = new MutationObserver(function (mutations, observer) {{\n",
       "        var display = window.getComputedStyle(gd).display;\n",
       "        if (!display || display === 'none') {{\n",
       "            console.log([gd, 'removed!']);\n",
       "            Plotly.purge(gd);\n",
       "            observer.disconnect();\n",
       "        }}\n",
       "}});\n",
       "\n",
       "// Listen for the removal of the full notebook cells\n",
       "var notebookContainer = gd.closest('#notebook-container');\n",
       "if (notebookContainer) {{\n",
       "    x.observe(notebookContainer, {childList: true});\n",
       "}}\n",
       "\n",
       "// Listen for the clearing of the current output cell\n",
       "var outputEl = gd.closest('.output');\n",
       "if (outputEl) {{\n",
       "    x.observe(outputEl, {childList: true});\n",
       "}}\n",
       "\n",
       "                        })                };                });            </script>        </div>"
      ]
     },
     "metadata": {},
     "output_type": "display_data"
    }
   ],
   "source": [
    "common_words(news_data_MS)"
   ]
  },
  {
   "cell_type": "code",
   "execution_count": 69,
   "id": "e4bc3c20",
   "metadata": {},
   "outputs": [
    {
     "name": "stderr",
     "output_type": "stream",
     "text": [
      "<ipython-input-69-a0402e949845>:13: SettingWithCopyWarning:\n",
      "\n",
      "\n",
      "A value is trying to be set on a copy of a slice from a DataFrame.\n",
      "Try using .loc[row_indexer,col_indexer] = value instead\n",
      "\n",
      "See the caveats in the documentation: https://pandas.pydata.org/pandas-docs/stable/user_guide/indexing.html#returning-a-view-versus-a-copy\n",
      "\n",
      "<ipython-input-69-a0402e949845>:14: SettingWithCopyWarning:\n",
      "\n",
      "\n",
      "A value is trying to be set on a copy of a slice from a DataFrame.\n",
      "Try using .loc[row_indexer,col_indexer] = value instead\n",
      "\n",
      "See the caveats in the documentation: https://pandas.pydata.org/pandas-docs/stable/user_guide/indexing.html#returning-a-view-versus-a-copy\n",
      "\n",
      "<ipython-input-69-a0402e949845>:16: SettingWithCopyWarning:\n",
      "\n",
      "\n",
      "A value is trying to be set on a copy of a slice from a DataFrame.\n",
      "Try using .loc[row_indexer,col_indexer] = value instead\n",
      "\n",
      "See the caveats in the documentation: https://pandas.pydata.org/pandas-docs/stable/user_guide/indexing.html#returning-a-view-versus-a-copy\n",
      "\n",
      "<ipython-input-69-a0402e949845>:17: SettingWithCopyWarning:\n",
      "\n",
      "\n",
      "A value is trying to be set on a copy of a slice from a DataFrame.\n",
      "Try using .loc[row_indexer,col_indexer] = value instead\n",
      "\n",
      "See the caveats in the documentation: https://pandas.pydata.org/pandas-docs/stable/user_guide/indexing.html#returning-a-view-versus-a-copy\n",
      "\n"
     ]
    }
   ],
   "source": [
    "#Finding polarity and subjectivity of news headlines using Textblob\n",
    "from textblob import TextBlob\n",
    "\n",
    "def calculatePolarity(text):\n",
    "    blob=TextBlob(text)\n",
    "    return blob.sentiment.polarity\n",
    "    \n",
    "def calculateSubjectivity(text):\n",
    "    blob=TextBlob(text)\n",
    "    return blob.sentiment.subjectivity\n",
    "    \n",
    "\n",
    "news_data_nonMS['polarity'] = [calculatePolarity(text) for text in news_data_nonMS['Title']]\n",
    "news_data_nonMS['subjectivity']=[calculateSubjectivity(text) for text in news_data_nonMS['Title']]\n",
    "\n",
    "news_data_MS['polarity'] = [calculatePolarity(text) for text in news_data_MS['Title']]\n",
    "news_data_MS['subjectivity']=[calculateSubjectivity(text) for text in news_data_MS['Title']]"
   ]
  },
  {
   "cell_type": "code",
   "execution_count": 70,
   "id": "acfd14fe",
   "metadata": {},
   "outputs": [
    {
     "data": {
      "text/html": [
       "<div>\n",
       "<style scoped>\n",
       "    .dataframe tbody tr th:only-of-type {\n",
       "        vertical-align: middle;\n",
       "    }\n",
       "\n",
       "    .dataframe tbody tr th {\n",
       "        vertical-align: top;\n",
       "    }\n",
       "\n",
       "    .dataframe thead th {\n",
       "        text-align: right;\n",
       "    }\n",
       "</style>\n",
       "<table border=\"1\" class=\"dataframe\">\n",
       "  <thead>\n",
       "    <tr style=\"text-align: right;\">\n",
       "      <th></th>\n",
       "      <th>Unnamed: 0</th>\n",
       "      <th>Date</th>\n",
       "      <th>Media</th>\n",
       "      <th>Title</th>\n",
       "      <th>Article</th>\n",
       "      <th>Summary</th>\n",
       "      <th>Keyword</th>\n",
       "      <th>compound</th>\n",
       "      <th>DateTime</th>\n",
       "      <th>word list</th>\n",
       "      <th>polarity</th>\n",
       "      <th>subjectivity</th>\n",
       "    </tr>\n",
       "  </thead>\n",
       "  <tbody>\n",
       "    <tr>\n",
       "      <th>6</th>\n",
       "      <td>6</td>\n",
       "      <td>23-Feb-21</td>\n",
       "      <td>The Clarion-Ledger</td>\n",
       "      <td>Boil-water notice continues for the city of Ja...</td>\n",
       "      <td>Boil-water notice continues for the city of Ja...</td>\n",
       "      <td>Boil-water notice continues for the city of Ja...</td>\n",
       "      <td>Jackson Mississippi water crisis</td>\n",
       "      <td>0.0588</td>\n",
       "      <td>2021-02-23 00:00:00</td>\n",
       "      <td>[Boil-water, notice, continues, Jackson., Here...</td>\n",
       "      <td>0.0</td>\n",
       "      <td>0.000000</td>\n",
       "    </tr>\n",
       "    <tr>\n",
       "      <th>10</th>\n",
       "      <td>10</td>\n",
       "      <td>8-Mar-21</td>\n",
       "      <td>The Clarion-Ledger</td>\n",
       "      <td>Water crisis Day 20: Mayor to meet with EPA; w...</td>\n",
       "      <td>Water crisis Day 20: Mayor to meet with EPA; w...</td>\n",
       "      <td>Water crisis Day 20: Mayor to meet with EPA; w...</td>\n",
       "      <td>Jackson Mississippi water crisis</td>\n",
       "      <td>-0.0383</td>\n",
       "      <td>2021-03-08 00:00:00</td>\n",
       "      <td>[Water, crisis, Day, 20:, Mayor, meet, EPA;, s...</td>\n",
       "      <td>0.0</td>\n",
       "      <td>0.000000</td>\n",
       "    </tr>\n",
       "    <tr>\n",
       "      <th>11</th>\n",
       "      <td>11</td>\n",
       "      <td>8-Mar-21</td>\n",
       "      <td>Mississippi Today</td>\n",
       "      <td>Lt. Gov. Hosemann on Jackson water crisis: “We...</td>\n",
       "      <td>Lt. Gov. Delbert Hosemann, who wields signific...</td>\n",
       "      <td>Today, while city officials said water pressur...</td>\n",
       "      <td>Jackson Mississippi water crisis</td>\n",
       "      <td>0.1131</td>\n",
       "      <td>2021-03-08 00:00:00</td>\n",
       "      <td>[Lt., Gov., Delbert, Hosemann,, wields, signif...</td>\n",
       "      <td>0.0</td>\n",
       "      <td>0.000000</td>\n",
       "    </tr>\n",
       "    <tr>\n",
       "      <th>15</th>\n",
       "      <td>15</td>\n",
       "      <td>18-Feb-21</td>\n",
       "      <td>The Clarion-Ledger</td>\n",
       "      <td>'No definitive timeline' for restoring water i...</td>\n",
       "      <td>'No definitive timeline' for restoring water i...</td>\n",
       "      <td>'No definitive timeline' for restoring water i...</td>\n",
       "      <td>Jackson Mississippi water crisis</td>\n",
       "      <td>-0.0677</td>\n",
       "      <td>2021-02-18 00:00:00</td>\n",
       "      <td>['No, definitive, timeline', restoring, Jackso...</td>\n",
       "      <td>0.0</td>\n",
       "      <td>0.000000</td>\n",
       "    </tr>\n",
       "    <tr>\n",
       "      <th>21</th>\n",
       "      <td>21</td>\n",
       "      <td>6-Mar-21</td>\n",
       "      <td>The Clarion-Ledger</td>\n",
       "      <td>Deion Sanders said JSU win at Grambling State ...</td>\n",
       "      <td>Deion Sanders said JSU win at Grambling State ...</td>\n",
       "      <td>Deion Sanders said JSU win at Grambling State ...</td>\n",
       "      <td>Jackson Mississippi water crisis</td>\n",
       "      <td>0.1506</td>\n",
       "      <td>2021-03-06 00:00:00</td>\n",
       "      <td>[Deion, Sanders, JSU, win, Grambling, State, a...</td>\n",
       "      <td>0.8</td>\n",
       "      <td>0.400000</td>\n",
       "    </tr>\n",
       "    <tr>\n",
       "      <th>...</th>\n",
       "      <td>...</td>\n",
       "      <td>...</td>\n",
       "      <td>...</td>\n",
       "      <td>...</td>\n",
       "      <td>...</td>\n",
       "      <td>...</td>\n",
       "      <td>...</td>\n",
       "      <td>...</td>\n",
       "      <td>...</td>\n",
       "      <td>...</td>\n",
       "      <td>...</td>\n",
       "      <td>...</td>\n",
       "    </tr>\n",
       "    <tr>\n",
       "      <th>204</th>\n",
       "      <td>12</td>\n",
       "      <td>4/30/2021 0:00</td>\n",
       "      <td>WLBT</td>\n",
       "      <td>Jackson residents, business owners beyond frus...</td>\n",
       "      <td>JACKSON, Miss. (WLBT) - As an estimated 43,000...</td>\n",
       "      <td>Fondren resident Crystal Gates said the whole ...</td>\n",
       "      <td>NaN</td>\n",
       "      <td>-0.1995</td>\n",
       "      <td>2021-04-30 00:00:00</td>\n",
       "      <td>[JACKSON,, Miss., (WLBT), As, estimated, 43,00...</td>\n",
       "      <td>-0.7</td>\n",
       "      <td>0.200000</td>\n",
       "    </tr>\n",
       "    <tr>\n",
       "      <th>205</th>\n",
       "      <td>17</td>\n",
       "      <td>2021-05-25 12:34:00+00:00</td>\n",
       "      <td>WAPT</td>\n",
       "      <td>Days stretch into weeks for Jackson and Byram ...</td>\n",
       "      <td>Days stretch into weeks for Jackson and Byram ...</td>\n",
       "      <td>Days stretch into weeks for Jackson and Byram ...</td>\n",
       "      <td>NaN</td>\n",
       "      <td>0.0691</td>\n",
       "      <td>2021-05-25 12:34:00+00:00</td>\n",
       "      <td>[Days, stretch, weeks, Byram, residents, waiti...</td>\n",
       "      <td>0.0</td>\n",
       "      <td>0.000000</td>\n",
       "    </tr>\n",
       "    <tr>\n",
       "      <th>221</th>\n",
       "      <td>0</td>\n",
       "      <td>3-Mar-21</td>\n",
       "      <td>Jackson Free Press</td>\n",
       "      <td>PUBLISHER'S NOTE: Jackson’s Water Crisis, What...</td>\n",
       "      <td>While Lt. Gov. Delbert Hosemann often presents...</td>\n",
       "      <td>Around a long rectangle of tables in the middl...</td>\n",
       "      <td>Nick Judin Jackson water crisis</td>\n",
       "      <td>0.0222</td>\n",
       "      <td>2021-03-03 00:00:00</td>\n",
       "      <td>[While, Lt., Gov., Delbert, Hosemann, often, p...</td>\n",
       "      <td>0.0</td>\n",
       "      <td>0.000000</td>\n",
       "    </tr>\n",
       "    <tr>\n",
       "      <th>222</th>\n",
       "      <td>5</td>\n",
       "      <td>2021-03-02 01:54:57+00:00</td>\n",
       "      <td>Mississippi Free Press</td>\n",
       "      <td>Hosemann Pins Water Blame on Jackson Leaders S...</td>\n",
       "      <td>Lt. Gov. Delbert Hosemann confirmed today that...</td>\n",
       "      <td>Delbert Hosemann confirmed today that there ar...</td>\n",
       "      <td>Nick Judin Jackson water crisis</td>\n",
       "      <td>-0.0023</td>\n",
       "      <td>2021-03-02 01:54:57+00:00</td>\n",
       "      <td>[Lt., Gov., Delbert, Hosemann, confirmed, toda...</td>\n",
       "      <td>0.0</td>\n",
       "      <td>0.033333</td>\n",
       "    </tr>\n",
       "    <tr>\n",
       "      <th>223</th>\n",
       "      <td>6</td>\n",
       "      <td>2021-03-27 02:34:08+00:00</td>\n",
       "      <td>Mississippi Free Press</td>\n",
       "      <td>Under The Surface, Part 2: After Jackson Freez...</td>\n",
       "      <td>It was Wednesday, Feb. 17, 2021, when it all w...</td>\n",
       "      <td>Fewell is itself evidence of a water distribut...</td>\n",
       "      <td>Nick Judin Jackson water crisis</td>\n",
       "      <td>-0.0115</td>\n",
       "      <td>2021-03-27 02:34:08+00:00</td>\n",
       "      <td>[It, Wednesday,, Feb., 17,, 2021,, went, wrong...</td>\n",
       "      <td>0.0</td>\n",
       "      <td>0.000000</td>\n",
       "    </tr>\n",
       "  </tbody>\n",
       "</table>\n",
       "<p>116 rows × 12 columns</p>\n",
       "</div>"
      ],
      "text/plain": [
       "     Unnamed: 0                       Date                   Media  \\\n",
       "6             6                  23-Feb-21      The Clarion-Ledger   \n",
       "10           10                   8-Mar-21      The Clarion-Ledger   \n",
       "11           11                   8-Mar-21       Mississippi Today   \n",
       "15           15                  18-Feb-21      The Clarion-Ledger   \n",
       "21           21                   6-Mar-21      The Clarion-Ledger   \n",
       "..          ...                        ...                     ...   \n",
       "204          12             4/30/2021 0:00                    WLBT   \n",
       "205          17  2021-05-25 12:34:00+00:00                    WAPT   \n",
       "221           0                   3-Mar-21      Jackson Free Press   \n",
       "222           5  2021-03-02 01:54:57+00:00  Mississippi Free Press   \n",
       "223           6  2021-03-27 02:34:08+00:00  Mississippi Free Press   \n",
       "\n",
       "                                                 Title  \\\n",
       "6    Boil-water notice continues for the city of Ja...   \n",
       "10   Water crisis Day 20: Mayor to meet with EPA; w...   \n",
       "11   Lt. Gov. Hosemann on Jackson water crisis: “We...   \n",
       "15   'No definitive timeline' for restoring water i...   \n",
       "21   Deion Sanders said JSU win at Grambling State ...   \n",
       "..                                                 ...   \n",
       "204  Jackson residents, business owners beyond frus...   \n",
       "205  Days stretch into weeks for Jackson and Byram ...   \n",
       "221  PUBLISHER'S NOTE: Jackson’s Water Crisis, What...   \n",
       "222  Hosemann Pins Water Blame on Jackson Leaders S...   \n",
       "223  Under The Surface, Part 2: After Jackson Freez...   \n",
       "\n",
       "                                               Article  \\\n",
       "6    Boil-water notice continues for the city of Ja...   \n",
       "10   Water crisis Day 20: Mayor to meet with EPA; w...   \n",
       "11   Lt. Gov. Delbert Hosemann, who wields signific...   \n",
       "15   'No definitive timeline' for restoring water i...   \n",
       "21   Deion Sanders said JSU win at Grambling State ...   \n",
       "..                                                 ...   \n",
       "204  JACKSON, Miss. (WLBT) - As an estimated 43,000...   \n",
       "205  Days stretch into weeks for Jackson and Byram ...   \n",
       "221  While Lt. Gov. Delbert Hosemann often presents...   \n",
       "222  Lt. Gov. Delbert Hosemann confirmed today that...   \n",
       "223  It was Wednesday, Feb. 17, 2021, when it all w...   \n",
       "\n",
       "                                               Summary  \\\n",
       "6    Boil-water notice continues for the city of Ja...   \n",
       "10   Water crisis Day 20: Mayor to meet with EPA; w...   \n",
       "11   Today, while city officials said water pressur...   \n",
       "15   'No definitive timeline' for restoring water i...   \n",
       "21   Deion Sanders said JSU win at Grambling State ...   \n",
       "..                                                 ...   \n",
       "204  Fondren resident Crystal Gates said the whole ...   \n",
       "205  Days stretch into weeks for Jackson and Byram ...   \n",
       "221  Around a long rectangle of tables in the middl...   \n",
       "222  Delbert Hosemann confirmed today that there ar...   \n",
       "223  Fewell is itself evidence of a water distribut...   \n",
       "\n",
       "                              Keyword  compound                   DateTime  \\\n",
       "6    Jackson Mississippi water crisis    0.0588        2021-02-23 00:00:00   \n",
       "10   Jackson Mississippi water crisis   -0.0383        2021-03-08 00:00:00   \n",
       "11   Jackson Mississippi water crisis    0.1131        2021-03-08 00:00:00   \n",
       "15   Jackson Mississippi water crisis   -0.0677        2021-02-18 00:00:00   \n",
       "21   Jackson Mississippi water crisis    0.1506        2021-03-06 00:00:00   \n",
       "..                                ...       ...                        ...   \n",
       "204                               NaN   -0.1995        2021-04-30 00:00:00   \n",
       "205                               NaN    0.0691  2021-05-25 12:34:00+00:00   \n",
       "221   Nick Judin Jackson water crisis    0.0222        2021-03-03 00:00:00   \n",
       "222   Nick Judin Jackson water crisis   -0.0023  2021-03-02 01:54:57+00:00   \n",
       "223   Nick Judin Jackson water crisis   -0.0115  2021-03-27 02:34:08+00:00   \n",
       "\n",
       "                                             word list  polarity  subjectivity  \n",
       "6    [Boil-water, notice, continues, Jackson., Here...       0.0      0.000000  \n",
       "10   [Water, crisis, Day, 20:, Mayor, meet, EPA;, s...       0.0      0.000000  \n",
       "11   [Lt., Gov., Delbert, Hosemann,, wields, signif...       0.0      0.000000  \n",
       "15   ['No, definitive, timeline', restoring, Jackso...       0.0      0.000000  \n",
       "21   [Deion, Sanders, JSU, win, Grambling, State, a...       0.8      0.400000  \n",
       "..                                                 ...       ...           ...  \n",
       "204  [JACKSON,, Miss., (WLBT), As, estimated, 43,00...      -0.7      0.200000  \n",
       "205  [Days, stretch, weeks, Byram, residents, waiti...       0.0      0.000000  \n",
       "221  [While, Lt., Gov., Delbert, Hosemann, often, p...       0.0      0.000000  \n",
       "222  [Lt., Gov., Delbert, Hosemann, confirmed, toda...       0.0      0.033333  \n",
       "223  [It, Wednesday,, Feb., 17,, 2021,, went, wrong...       0.0      0.000000  \n",
       "\n",
       "[116 rows x 12 columns]"
      ]
     },
     "execution_count": 70,
     "metadata": {},
     "output_type": "execute_result"
    }
   ],
   "source": [
    "news_data_nonMS[]"
   ]
  },
  {
   "cell_type": "code",
   "execution_count": 71,
   "id": "d58f8c35",
   "metadata": {},
   "outputs": [
    {
     "data": {
      "text/html": [
       "<div>\n",
       "<style scoped>\n",
       "    .dataframe tbody tr th:only-of-type {\n",
       "        vertical-align: middle;\n",
       "    }\n",
       "\n",
       "    .dataframe tbody tr th {\n",
       "        vertical-align: top;\n",
       "    }\n",
       "\n",
       "    .dataframe thead th {\n",
       "        text-align: right;\n",
       "    }\n",
       "</style>\n",
       "<table border=\"1\" class=\"dataframe\">\n",
       "  <thead>\n",
       "    <tr style=\"text-align: right;\">\n",
       "      <th>subjectivity</th>\n",
       "      <th>0.000000</th>\n",
       "      <th>0.166667</th>\n",
       "      <th>0.250000</th>\n",
       "      <th>0.345238</th>\n",
       "      <th>0.400000</th>\n",
       "      <th>0.400000</th>\n",
       "      <th>0.454545</th>\n",
       "      <th>0.500000</th>\n",
       "      <th>0.535714</th>\n",
       "      <th>0.541667</th>\n",
       "      <th>0.550000</th>\n",
       "      <th>0.700000</th>\n",
       "      <th>0.833333</th>\n",
       "      <th>1.000000</th>\n",
       "    </tr>\n",
       "    <tr>\n",
       "      <th>polarity</th>\n",
       "      <th></th>\n",
       "      <th></th>\n",
       "      <th></th>\n",
       "      <th></th>\n",
       "      <th></th>\n",
       "      <th></th>\n",
       "      <th></th>\n",
       "      <th></th>\n",
       "      <th></th>\n",
       "      <th></th>\n",
       "      <th></th>\n",
       "      <th></th>\n",
       "      <th></th>\n",
       "      <th></th>\n",
       "    </tr>\n",
       "  </thead>\n",
       "  <tbody>\n",
       "    <tr>\n",
       "      <th>-0.875000</th>\n",
       "      <td>0</td>\n",
       "      <td>0</td>\n",
       "      <td>0</td>\n",
       "      <td>0</td>\n",
       "      <td>0</td>\n",
       "      <td>0</td>\n",
       "      <td>0</td>\n",
       "      <td>0</td>\n",
       "      <td>0</td>\n",
       "      <td>0</td>\n",
       "      <td>0</td>\n",
       "      <td>0</td>\n",
       "      <td>0</td>\n",
       "      <td>1</td>\n",
       "    </tr>\n",
       "    <tr>\n",
       "      <th>-0.600000</th>\n",
       "      <td>0</td>\n",
       "      <td>0</td>\n",
       "      <td>0</td>\n",
       "      <td>0</td>\n",
       "      <td>0</td>\n",
       "      <td>0</td>\n",
       "      <td>0</td>\n",
       "      <td>0</td>\n",
       "      <td>0</td>\n",
       "      <td>0</td>\n",
       "      <td>0</td>\n",
       "      <td>0</td>\n",
       "      <td>0</td>\n",
       "      <td>1</td>\n",
       "    </tr>\n",
       "    <tr>\n",
       "      <th>-0.500000</th>\n",
       "      <td>0</td>\n",
       "      <td>0</td>\n",
       "      <td>0</td>\n",
       "      <td>0</td>\n",
       "      <td>0</td>\n",
       "      <td>0</td>\n",
       "      <td>0</td>\n",
       "      <td>0</td>\n",
       "      <td>0</td>\n",
       "      <td>0</td>\n",
       "      <td>1</td>\n",
       "      <td>0</td>\n",
       "      <td>0</td>\n",
       "      <td>0</td>\n",
       "    </tr>\n",
       "    <tr>\n",
       "      <th>-0.388889</th>\n",
       "      <td>0</td>\n",
       "      <td>0</td>\n",
       "      <td>0</td>\n",
       "      <td>0</td>\n",
       "      <td>0</td>\n",
       "      <td>0</td>\n",
       "      <td>0</td>\n",
       "      <td>0</td>\n",
       "      <td>0</td>\n",
       "      <td>0</td>\n",
       "      <td>0</td>\n",
       "      <td>0</td>\n",
       "      <td>1</td>\n",
       "      <td>0</td>\n",
       "    </tr>\n",
       "    <tr>\n",
       "      <th>-0.300000</th>\n",
       "      <td>0</td>\n",
       "      <td>0</td>\n",
       "      <td>0</td>\n",
       "      <td>0</td>\n",
       "      <td>1</td>\n",
       "      <td>0</td>\n",
       "      <td>0</td>\n",
       "      <td>0</td>\n",
       "      <td>0</td>\n",
       "      <td>0</td>\n",
       "      <td>0</td>\n",
       "      <td>0</td>\n",
       "      <td>0</td>\n",
       "      <td>0</td>\n",
       "    </tr>\n",
       "    <tr>\n",
       "      <th>-0.300000</th>\n",
       "      <td>0</td>\n",
       "      <td>0</td>\n",
       "      <td>0</td>\n",
       "      <td>0</td>\n",
       "      <td>0</td>\n",
       "      <td>0</td>\n",
       "      <td>0</td>\n",
       "      <td>1</td>\n",
       "      <td>0</td>\n",
       "      <td>0</td>\n",
       "      <td>0</td>\n",
       "      <td>0</td>\n",
       "      <td>0</td>\n",
       "      <td>0</td>\n",
       "    </tr>\n",
       "    <tr>\n",
       "      <th>-0.291667</th>\n",
       "      <td>0</td>\n",
       "      <td>0</td>\n",
       "      <td>0</td>\n",
       "      <td>0</td>\n",
       "      <td>0</td>\n",
       "      <td>0</td>\n",
       "      <td>0</td>\n",
       "      <td>0</td>\n",
       "      <td>0</td>\n",
       "      <td>1</td>\n",
       "      <td>0</td>\n",
       "      <td>0</td>\n",
       "      <td>0</td>\n",
       "      <td>0</td>\n",
       "    </tr>\n",
       "    <tr>\n",
       "      <th>-0.150000</th>\n",
       "      <td>0</td>\n",
       "      <td>0</td>\n",
       "      <td>0</td>\n",
       "      <td>0</td>\n",
       "      <td>0</td>\n",
       "      <td>1</td>\n",
       "      <td>0</td>\n",
       "      <td>0</td>\n",
       "      <td>0</td>\n",
       "      <td>0</td>\n",
       "      <td>0</td>\n",
       "      <td>0</td>\n",
       "      <td>0</td>\n",
       "      <td>0</td>\n",
       "    </tr>\n",
       "    <tr>\n",
       "      <th>0.000000</th>\n",
       "      <td>25</td>\n",
       "      <td>0</td>\n",
       "      <td>1</td>\n",
       "      <td>0</td>\n",
       "      <td>0</td>\n",
       "      <td>0</td>\n",
       "      <td>0</td>\n",
       "      <td>0</td>\n",
       "      <td>0</td>\n",
       "      <td>0</td>\n",
       "      <td>0</td>\n",
       "      <td>0</td>\n",
       "      <td>0</td>\n",
       "      <td>0</td>\n",
       "    </tr>\n",
       "    <tr>\n",
       "      <th>0.100000</th>\n",
       "      <td>0</td>\n",
       "      <td>0</td>\n",
       "      <td>0</td>\n",
       "      <td>0</td>\n",
       "      <td>0</td>\n",
       "      <td>1</td>\n",
       "      <td>0</td>\n",
       "      <td>0</td>\n",
       "      <td>0</td>\n",
       "      <td>0</td>\n",
       "      <td>0</td>\n",
       "      <td>0</td>\n",
       "      <td>0</td>\n",
       "      <td>0</td>\n",
       "    </tr>\n",
       "    <tr>\n",
       "      <th>0.116071</th>\n",
       "      <td>0</td>\n",
       "      <td>0</td>\n",
       "      <td>0</td>\n",
       "      <td>1</td>\n",
       "      <td>0</td>\n",
       "      <td>0</td>\n",
       "      <td>0</td>\n",
       "      <td>0</td>\n",
       "      <td>0</td>\n",
       "      <td>0</td>\n",
       "      <td>0</td>\n",
       "      <td>0</td>\n",
       "      <td>0</td>\n",
       "      <td>0</td>\n",
       "    </tr>\n",
       "    <tr>\n",
       "      <th>0.125000</th>\n",
       "      <td>0</td>\n",
       "      <td>1</td>\n",
       "      <td>0</td>\n",
       "      <td>0</td>\n",
       "      <td>0</td>\n",
       "      <td>0</td>\n",
       "      <td>0</td>\n",
       "      <td>0</td>\n",
       "      <td>0</td>\n",
       "      <td>0</td>\n",
       "      <td>0</td>\n",
       "      <td>0</td>\n",
       "      <td>0</td>\n",
       "      <td>0</td>\n",
       "    </tr>\n",
       "    <tr>\n",
       "      <th>0.136364</th>\n",
       "      <td>0</td>\n",
       "      <td>0</td>\n",
       "      <td>0</td>\n",
       "      <td>0</td>\n",
       "      <td>0</td>\n",
       "      <td>0</td>\n",
       "      <td>1</td>\n",
       "      <td>0</td>\n",
       "      <td>0</td>\n",
       "      <td>0</td>\n",
       "      <td>0</td>\n",
       "      <td>0</td>\n",
       "      <td>0</td>\n",
       "      <td>0</td>\n",
       "    </tr>\n",
       "    <tr>\n",
       "      <th>0.285714</th>\n",
       "      <td>0</td>\n",
       "      <td>0</td>\n",
       "      <td>0</td>\n",
       "      <td>0</td>\n",
       "      <td>0</td>\n",
       "      <td>0</td>\n",
       "      <td>0</td>\n",
       "      <td>0</td>\n",
       "      <td>1</td>\n",
       "      <td>0</td>\n",
       "      <td>0</td>\n",
       "      <td>0</td>\n",
       "      <td>0</td>\n",
       "      <td>0</td>\n",
       "    </tr>\n",
       "    <tr>\n",
       "      <th>0.400000</th>\n",
       "      <td>0</td>\n",
       "      <td>0</td>\n",
       "      <td>0</td>\n",
       "      <td>0</td>\n",
       "      <td>0</td>\n",
       "      <td>0</td>\n",
       "      <td>0</td>\n",
       "      <td>0</td>\n",
       "      <td>0</td>\n",
       "      <td>0</td>\n",
       "      <td>0</td>\n",
       "      <td>1</td>\n",
       "      <td>0</td>\n",
       "      <td>0</td>\n",
       "    </tr>\n",
       "    <tr>\n",
       "      <th>0.600000</th>\n",
       "      <td>0</td>\n",
       "      <td>0</td>\n",
       "      <td>0</td>\n",
       "      <td>0</td>\n",
       "      <td>0</td>\n",
       "      <td>0</td>\n",
       "      <td>0</td>\n",
       "      <td>0</td>\n",
       "      <td>0</td>\n",
       "      <td>0</td>\n",
       "      <td>0</td>\n",
       "      <td>0</td>\n",
       "      <td>0</td>\n",
       "      <td>1</td>\n",
       "    </tr>\n",
       "  </tbody>\n",
       "</table>\n",
       "</div>"
      ],
      "text/plain": [
       "subjectivity  0.000000  0.166667  0.250000  0.345238  0.400000  0.400000  \\\n",
       "polarity                                                                   \n",
       "-0.875000            0         0         0         0         0         0   \n",
       "-0.600000            0         0         0         0         0         0   \n",
       "-0.500000            0         0         0         0         0         0   \n",
       "-0.388889            0         0         0         0         0         0   \n",
       "-0.300000            0         0         0         0         1         0   \n",
       "-0.300000            0         0         0         0         0         0   \n",
       "-0.291667            0         0         0         0         0         0   \n",
       "-0.150000            0         0         0         0         0         1   \n",
       " 0.000000           25         0         1         0         0         0   \n",
       " 0.100000            0         0         0         0         0         1   \n",
       " 0.116071            0         0         0         1         0         0   \n",
       " 0.125000            0         1         0         0         0         0   \n",
       " 0.136364            0         0         0         0         0         0   \n",
       " 0.285714            0         0         0         0         0         0   \n",
       " 0.400000            0         0         0         0         0         0   \n",
       " 0.600000            0         0         0         0         0         0   \n",
       "\n",
       "subjectivity  0.454545  0.500000  0.535714  0.541667  0.550000  0.700000  \\\n",
       "polarity                                                                   \n",
       "-0.875000            0         0         0         0         0         0   \n",
       "-0.600000            0         0         0         0         0         0   \n",
       "-0.500000            0         0         0         0         1         0   \n",
       "-0.388889            0         0         0         0         0         0   \n",
       "-0.300000            0         0         0         0         0         0   \n",
       "-0.300000            0         1         0         0         0         0   \n",
       "-0.291667            0         0         0         1         0         0   \n",
       "-0.150000            0         0         0         0         0         0   \n",
       " 0.000000            0         0         0         0         0         0   \n",
       " 0.100000            0         0         0         0         0         0   \n",
       " 0.116071            0         0         0         0         0         0   \n",
       " 0.125000            0         0         0         0         0         0   \n",
       " 0.136364            1         0         0         0         0         0   \n",
       " 0.285714            0         0         1         0         0         0   \n",
       " 0.400000            0         0         0         0         0         1   \n",
       " 0.600000            0         0         0         0         0         0   \n",
       "\n",
       "subjectivity  0.833333  1.000000  \n",
       "polarity                          \n",
       "-0.875000            0         1  \n",
       "-0.600000            0         1  \n",
       "-0.500000            0         0  \n",
       "-0.388889            1         0  \n",
       "-0.300000            0         0  \n",
       "-0.300000            0         0  \n",
       "-0.291667            0         0  \n",
       "-0.150000            0         0  \n",
       " 0.000000            0         0  \n",
       " 0.100000            0         0  \n",
       " 0.116071            0         0  \n",
       " 0.125000            0         0  \n",
       " 0.136364            0         0  \n",
       " 0.285714            0         0  \n",
       " 0.400000            0         0  \n",
       " 0.600000            0         1  "
      ]
     },
     "execution_count": 71,
     "metadata": {},
     "output_type": "execute_result"
    }
   ],
   "source": [
    "#Subjectivity vs polarity\n",
    "\n",
    "pd.crosstab(news_data_nonMS['polarity'], news_data_nonMS['subjectivity'])"
   ]
  },
  {
   "cell_type": "code",
   "execution_count": 80,
   "id": "7d425945",
   "metadata": {},
   "outputs": [
    {
     "data": {
      "image/png": "[encoded data removed]",
      "text/plain": [
       "<Figure size 432x432 with 1 Axes>"
      ]
     },
     "metadata": {
      "needs_background": "light"
     },
     "output_type": "display_data"
    }
   ],
   "source": [
    "#Subjectivity vs polarity score of news articles headlines of non MS based media\n",
    "plt.figure(figsize=(6,6))\n",
    "sns.scatterplot(data=news_data_nonMS, x='polarity', y='subjectivity', \n",
    "                alpha=.7)\n",
    "# plt.axhline(0, linestyle='--', color='k')\n",
    "# plt.axvline(0, linestyle='--', color='k')\n",
    "plt.title('Scatterplot between polarity and subjectivity scores');"
   ]
  },
  {
   "cell_type": "code",
   "execution_count": 82,
   "id": "4266756c",
   "metadata": {},
   "outputs": [
    {
     "data": {
      "image/png": "[encoded data removed]",
      "text/plain": [
       "<Figure size 432x432 with 1 Axes>"
      ]
     },
     "metadata": {
      "needs_background": "light"
     },
     "output_type": "display_data"
    }
   ],
   "source": [
    "#Scatterplot of subjectivity vs polarity score of MS based news media article headlines\n",
    "plt.figure(figsize=(6,6))\n",
    "sns.scatterplot(data=news_data_MS, x='polarity', y='subjectivity', \n",
    "                alpha=.7)\n",
    "# plt.axhline(0, linestyle='--', color='k')\n",
    "# plt.axvline(0, linestyle='--', color='k')\n",
    "plt.title('Scatterplot between polarity and subjectivity scores');"
   ]
  },
  {
   "cell_type": "code",
   "execution_count": 83,
   "id": "0f932519",
   "metadata": {},
   "outputs": [
    {
     "data": {
      "image/png": "[encoded data removed]",
      "text/plain": [
       "<Figure size 432x432 with 1 Axes>"
      ]
     },
     "metadata": {
      "needs_background": "light"
     },
     "output_type": "display_data"
    }
   ],
   "source": [
    "#Scatterplot of MS based and non-MS based news articles both at same time\n",
    "plt.figure(figsize=(6,6))\n",
    "sns.scatterplot(data=news_data_MS, x='polarity', y='subjectivity', \n",
    "                alpha=.7,color=\"red\")\n",
    "sns.scatterplot(data=news_data_nonMS, x='polarity', y='subjectivity', \n",
    "                alpha=.7)\n",
    "# plt.axhline(0, linestyle='--', color='k')\n",
    "# plt.axvline(0, linestyle='--', color='k')\n",
    "plt.title('Scatterplot between polarity and subjectivity scores');"
   ]
  },
  {
   "cell_type": "code",
   "execution_count": null,
   "id": "d4755d05",
   "metadata": {},
   "outputs": [],
   "source": [
    "#Topic classification\n"
   ]
  },
  {
   "cell_type": "code",
   "execution_count": null,
   "id": "ee7c6cee",
   "metadata": {},
   "outputs": [],
   "source": [
    "#polarity and subjectivity graph of news articles\n",
    "#sentiment scores\n",
    "#wordclouds\n",
    "#find terms associated with labels\n",
    "#what % of articles related to each topic categor"
   ]
  }
 ],
 "metadata": {
  "kernelspec": {
   "display_name": "Python 3",
   "language": "python",
   "name": "python3"
  },
  "language_info": {
   "codemirror_mode": {
    "name": "ipython",
    "version": 3
   },
   "file_extension": ".py",
   "mimetype": "text/x-python",
   "name": "python",
   "nbconvert_exporter": "python",
   "pygments_lexer": "ipython3",
   "version": "3.8.7"
  }
 },
 "nbformat": 4,
 "nbformat_minor": 5
}
